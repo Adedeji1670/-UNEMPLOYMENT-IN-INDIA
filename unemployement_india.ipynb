{
 "cells": [
  {
   "cell_type": "markdown",
   "id": "7b83b0e0-a9fb-4694-93e7-0ba946dad152",
   "metadata": {},
   "source": [
    "#### IMPORTING NECESSARY LIBARIES"
   ]
  },
  {
   "cell_type": "code",
   "execution_count": 1,
   "id": "d9bdc16e-dc0d-4001-9e2d-ce90ac5d0154",
   "metadata": {},
   "outputs": [],
   "source": [
    "import pandas as pd\n",
    "import numpy as np\n",
    "import matplotlib.pyplot as plt\n",
    "import seaborn as sns"
   ]
  },
  {
   "cell_type": "code",
   "execution_count": 3,
   "id": "a867c8f4-bb6d-45a4-aaa6-26c9b3d88474",
   "metadata": {},
   "outputs": [],
   "source": [
    "data_df1 = pd.read_csv('Unemployment in India.csv')\n",
    "data_df2 = pd.read_csv('Unemployment_Rate_upto_11_2020.csv')"
   ]
  },
  {
   "cell_type": "code",
   "execution_count": 5,
   "id": "0822a879-1f26-41a7-bf5e-df7674d35c8c",
   "metadata": {},
   "outputs": [
    {
     "data": {
      "text/html": [
       "<div>\n",
       "<style scoped>\n",
       "    .dataframe tbody tr th:only-of-type {\n",
       "        vertical-align: middle;\n",
       "    }\n",
       "\n",
       "    .dataframe tbody tr th {\n",
       "        vertical-align: top;\n",
       "    }\n",
       "\n",
       "    .dataframe thead th {\n",
       "        text-align: right;\n",
       "    }\n",
       "</style>\n",
       "<table border=\"1\" class=\"dataframe\">\n",
       "  <thead>\n",
       "    <tr style=\"text-align: right;\">\n",
       "      <th></th>\n",
       "      <th>Region</th>\n",
       "      <th>Date</th>\n",
       "      <th>Frequency</th>\n",
       "      <th>Estimated Unemployment Rate (%)</th>\n",
       "      <th>Estimated Employed</th>\n",
       "      <th>Estimated Labour Participation Rate (%)</th>\n",
       "      <th>Area</th>\n",
       "    </tr>\n",
       "  </thead>\n",
       "  <tbody>\n",
       "    <tr>\n",
       "      <th>0</th>\n",
       "      <td>Andhra Pradesh</td>\n",
       "      <td>31-05-2019</td>\n",
       "      <td>Monthly</td>\n",
       "      <td>3.65</td>\n",
       "      <td>11999139.0</td>\n",
       "      <td>43.24</td>\n",
       "      <td>Rural</td>\n",
       "    </tr>\n",
       "    <tr>\n",
       "      <th>1</th>\n",
       "      <td>Andhra Pradesh</td>\n",
       "      <td>30-06-2019</td>\n",
       "      <td>Monthly</td>\n",
       "      <td>3.05</td>\n",
       "      <td>11755881.0</td>\n",
       "      <td>42.05</td>\n",
       "      <td>Rural</td>\n",
       "    </tr>\n",
       "    <tr>\n",
       "      <th>2</th>\n",
       "      <td>Andhra Pradesh</td>\n",
       "      <td>31-07-2019</td>\n",
       "      <td>Monthly</td>\n",
       "      <td>3.75</td>\n",
       "      <td>12086707.0</td>\n",
       "      <td>43.50</td>\n",
       "      <td>Rural</td>\n",
       "    </tr>\n",
       "    <tr>\n",
       "      <th>3</th>\n",
       "      <td>Andhra Pradesh</td>\n",
       "      <td>31-08-2019</td>\n",
       "      <td>Monthly</td>\n",
       "      <td>3.32</td>\n",
       "      <td>12285693.0</td>\n",
       "      <td>43.97</td>\n",
       "      <td>Rural</td>\n",
       "    </tr>\n",
       "  </tbody>\n",
       "</table>\n",
       "</div>"
      ],
      "text/plain": [
       "           Region         Date  Frequency   Estimated Unemployment Rate (%)  \\\n",
       "0  Andhra Pradesh   31-05-2019    Monthly                              3.65   \n",
       "1  Andhra Pradesh   30-06-2019    Monthly                              3.05   \n",
       "2  Andhra Pradesh   31-07-2019    Monthly                              3.75   \n",
       "3  Andhra Pradesh   31-08-2019    Monthly                              3.32   \n",
       "\n",
       "    Estimated Employed   Estimated Labour Participation Rate (%)   Area  \n",
       "0           11999139.0                                     43.24  Rural  \n",
       "1           11755881.0                                     42.05  Rural  \n",
       "2           12086707.0                                     43.50  Rural  \n",
       "3           12285693.0                                     43.97  Rural  "
      ]
     },
     "execution_count": 5,
     "metadata": {},
     "output_type": "execute_result"
    }
   ],
   "source": [
    "data_df1.head(4)\n"
   ]
  },
  {
   "cell_type": "code",
   "execution_count": 7,
   "id": "94a6d204-4666-4dd6-9acf-04fefcbf7e8e",
   "metadata": {},
   "outputs": [
    {
     "data": {
      "text/plain": [
       "(768, 7)"
      ]
     },
     "execution_count": 7,
     "metadata": {},
     "output_type": "execute_result"
    }
   ],
   "source": [
    "data_df1.shape"
   ]
  },
  {
   "cell_type": "markdown",
   "id": "2a841dfa-6eb1-4f3f-b8db-acb46a2c1c6b",
   "metadata": {},
   "source": [
    "### The first Dataset has 768rows and 7columns"
   ]
  },
  {
   "cell_type": "code",
   "execution_count": 11,
   "id": "cf7b27eb-eb87-4043-8db5-14d669f8b457",
   "metadata": {},
   "outputs": [
    {
     "data": {
      "text/html": [
       "<div>\n",
       "<style scoped>\n",
       "    .dataframe tbody tr th:only-of-type {\n",
       "        vertical-align: middle;\n",
       "    }\n",
       "\n",
       "    .dataframe tbody tr th {\n",
       "        vertical-align: top;\n",
       "    }\n",
       "\n",
       "    .dataframe thead th {\n",
       "        text-align: right;\n",
       "    }\n",
       "</style>\n",
       "<table border=\"1\" class=\"dataframe\">\n",
       "  <thead>\n",
       "    <tr style=\"text-align: right;\">\n",
       "      <th></th>\n",
       "      <th>Region</th>\n",
       "      <th>Date</th>\n",
       "      <th>Frequency</th>\n",
       "      <th>Estimated Unemployment Rate (%)</th>\n",
       "      <th>Estimated Employed</th>\n",
       "      <th>Estimated Labour Participation Rate (%)</th>\n",
       "      <th>Region.1</th>\n",
       "      <th>longitude</th>\n",
       "      <th>latitude</th>\n",
       "    </tr>\n",
       "  </thead>\n",
       "  <tbody>\n",
       "    <tr>\n",
       "      <th>0</th>\n",
       "      <td>Andhra Pradesh</td>\n",
       "      <td>31-01-2020</td>\n",
       "      <td>M</td>\n",
       "      <td>5.48</td>\n",
       "      <td>16635535</td>\n",
       "      <td>41.02</td>\n",
       "      <td>South</td>\n",
       "      <td>15.9129</td>\n",
       "      <td>79.74</td>\n",
       "    </tr>\n",
       "    <tr>\n",
       "      <th>1</th>\n",
       "      <td>Andhra Pradesh</td>\n",
       "      <td>29-02-2020</td>\n",
       "      <td>M</td>\n",
       "      <td>5.83</td>\n",
       "      <td>16545652</td>\n",
       "      <td>40.90</td>\n",
       "      <td>South</td>\n",
       "      <td>15.9129</td>\n",
       "      <td>79.74</td>\n",
       "    </tr>\n",
       "    <tr>\n",
       "      <th>2</th>\n",
       "      <td>Andhra Pradesh</td>\n",
       "      <td>31-03-2020</td>\n",
       "      <td>M</td>\n",
       "      <td>5.79</td>\n",
       "      <td>15881197</td>\n",
       "      <td>39.18</td>\n",
       "      <td>South</td>\n",
       "      <td>15.9129</td>\n",
       "      <td>79.74</td>\n",
       "    </tr>\n",
       "    <tr>\n",
       "      <th>3</th>\n",
       "      <td>Andhra Pradesh</td>\n",
       "      <td>30-04-2020</td>\n",
       "      <td>M</td>\n",
       "      <td>20.51</td>\n",
       "      <td>11336911</td>\n",
       "      <td>33.10</td>\n",
       "      <td>South</td>\n",
       "      <td>15.9129</td>\n",
       "      <td>79.74</td>\n",
       "    </tr>\n",
       "  </tbody>\n",
       "</table>\n",
       "</div>"
      ],
      "text/plain": [
       "           Region         Date  Frequency   Estimated Unemployment Rate (%)  \\\n",
       "0  Andhra Pradesh   31-01-2020          M                              5.48   \n",
       "1  Andhra Pradesh   29-02-2020          M                              5.83   \n",
       "2  Andhra Pradesh   31-03-2020          M                              5.79   \n",
       "3  Andhra Pradesh   30-04-2020          M                             20.51   \n",
       "\n",
       "    Estimated Employed   Estimated Labour Participation Rate (%) Region.1  \\\n",
       "0             16635535                                     41.02    South   \n",
       "1             16545652                                     40.90    South   \n",
       "2             15881197                                     39.18    South   \n",
       "3             11336911                                     33.10    South   \n",
       "\n",
       "   longitude  latitude  \n",
       "0    15.9129     79.74  \n",
       "1    15.9129     79.74  \n",
       "2    15.9129     79.74  \n",
       "3    15.9129     79.74  "
      ]
     },
     "execution_count": 11,
     "metadata": {},
     "output_type": "execute_result"
    }
   ],
   "source": [
    "data_df2.head(4)"
   ]
  },
  {
   "cell_type": "code",
   "execution_count": 13,
   "id": "e96b3fa8-f242-42d5-8cf1-6f9fae42fcbf",
   "metadata": {},
   "outputs": [
    {
     "data": {
      "text/plain": [
       "(267, 9)"
      ]
     },
     "execution_count": 13,
     "metadata": {},
     "output_type": "execute_result"
    }
   ],
   "source": [
    "data_df2.shape"
   ]
  },
  {
   "cell_type": "markdown",
   "id": "5d46c668-8158-4258-8cfc-2293b5cfc4d0",
   "metadata": {},
   "source": [
    "### The second dataset has 267rows and 9columns "
   ]
  },
  {
   "cell_type": "markdown",
   "id": "c22e27db-bcba-4619-885b-9e102ddf8757",
   "metadata": {},
   "source": [
    "#### HANDLING THE FIRST DATASET"
   ]
  },
  {
   "cell_type": "code",
   "execution_count": 15,
   "id": "b99e1fbb-1a74-43fa-b6a8-31d1c69b5ebf",
   "metadata": {},
   "outputs": [
    {
     "name": "stdout",
     "output_type": "stream",
     "text": [
      "<class 'pandas.core.frame.DataFrame'>\n",
      "RangeIndex: 768 entries, 0 to 767\n",
      "Data columns (total 7 columns):\n",
      " #   Column                                    Non-Null Count  Dtype  \n",
      "---  ------                                    --------------  -----  \n",
      " 0   Region                                    740 non-null    object \n",
      " 1    Date                                     740 non-null    object \n",
      " 2    Frequency                                740 non-null    object \n",
      " 3    Estimated Unemployment Rate (%)          740 non-null    float64\n",
      " 4    Estimated Employed                       740 non-null    float64\n",
      " 5    Estimated Labour Participation Rate (%)  740 non-null    float64\n",
      " 6   Area                                      740 non-null    object \n",
      "dtypes: float64(3), object(4)\n",
      "memory usage: 42.1+ KB\n"
     ]
    }
   ],
   "source": [
    "data_df1.info()"
   ]
  },
  {
   "cell_type": "markdown",
   "id": "ef141e8a-4e8e-44fb-aa6d-3700e8f61062",
   "metadata": {},
   "source": [
    "## HERE COMES THE DATA CLEANING"
   ]
  },
  {
   "cell_type": "code",
   "execution_count": 17,
   "id": "4590103e-f036-4a76-962c-7568453c47b5",
   "metadata": {},
   "outputs": [
    {
     "data": {
      "text/plain": [
       "Region                                      28\n",
       " Date                                       28\n",
       " Frequency                                  28\n",
       " Estimated Unemployment Rate (%)            28\n",
       " Estimated Employed                         28\n",
       " Estimated Labour Participation Rate (%)    28\n",
       "Area                                        28\n",
       "dtype: int64"
      ]
     },
     "execution_count": 17,
     "metadata": {},
     "output_type": "execute_result"
    }
   ],
   "source": [
    "data_df1.isnull().sum()"
   ]
  },
  {
   "cell_type": "code",
   "execution_count": 19,
   "id": "da6d2515-d0d2-41f1-8f23-f859b5119271",
   "metadata": {},
   "outputs": [],
   "source": [
    "# Removing missing values\n",
    "data_df1 = data_df1.dropna()"
   ]
  },
  {
   "cell_type": "code",
   "execution_count": 21,
   "id": "1b8d8800-75e1-4f03-a1f7-1a27e60c6400",
   "metadata": {},
   "outputs": [
    {
     "data": {
      "text/plain": [
       "(740, 7)"
      ]
     },
     "execution_count": 21,
     "metadata": {},
     "output_type": "execute_result"
    }
   ],
   "source": [
    "data_df1.shape"
   ]
  },
  {
   "cell_type": "code",
   "execution_count": 23,
   "id": "38179dd8-871f-465c-93f5-7cad6842e403",
   "metadata": {},
   "outputs": [
    {
     "data": {
      "text/plain": [
       "Index(['Region', ' Date', ' Frequency', ' Estimated Unemployment Rate (%)',\n",
       "       ' Estimated Employed', ' Estimated Labour Participation Rate (%)',\n",
       "       'Area'],\n",
       "      dtype='object')"
      ]
     },
     "execution_count": 23,
     "metadata": {},
     "output_type": "execute_result"
    }
   ],
   "source": [
    "data_df1.columns"
   ]
  },
  {
   "cell_type": "markdown",
   "id": "e0ee0690-62c1-4545-af68-debd061fc3d8",
   "metadata": {},
   "source": [
    "##### what i noticed here is that there is white space and we need to get ride of it by renaming those columns"
   ]
  },
  {
   "cell_type": "code",
   "execution_count": 25,
   "id": "16752ddd-83a8-4ff0-9feb-27c242b22722",
   "metadata": {},
   "outputs": [],
   "source": [
    "data_df1.columns = ['Region','Date','Frequency','Unemployment_Rate','Employed_Rate',\n",
    "                    'Labour_Participation_Rate','Area']"
   ]
  },
  {
   "cell_type": "code",
   "execution_count": 27,
   "id": "f5acf8be-bbfc-4c98-9e4c-afada6cfa3fd",
   "metadata": {},
   "outputs": [
    {
     "data": {
      "text/plain": [
       "Index(['Region', 'Date', 'Frequency', 'Unemployment_Rate', 'Employed_Rate',\n",
       "       'Labour_Participation_Rate', 'Area'],\n",
       "      dtype='object')"
      ]
     },
     "execution_count": 27,
     "metadata": {},
     "output_type": "execute_result"
    }
   ],
   "source": [
    "data_df1.columns"
   ]
  },
  {
   "cell_type": "markdown",
   "id": "1cd1f180-1473-4599-a66d-078f7486013f",
   "metadata": {},
   "source": [
    "#### there is 28null values and i here by get rid of them"
   ]
  },
  {
   "cell_type": "code",
   "execution_count": 29,
   "id": "b6b0c1e2-ca68-4db3-a74c-74df3a2719f9",
   "metadata": {},
   "outputs": [],
   "source": [
    "data_df1['Date'] = pd.to_datetime(data_df1['Date'],format='mixed',dayfirst=False)"
   ]
  },
  {
   "cell_type": "code",
   "execution_count": 31,
   "id": "28283021-d519-497d-be19-7e3f805cb83f",
   "metadata": {},
   "outputs": [
    {
     "name": "stdout",
     "output_type": "stream",
     "text": [
      "<class 'pandas.core.frame.DataFrame'>\n",
      "Index: 740 entries, 0 to 753\n",
      "Data columns (total 7 columns):\n",
      " #   Column                     Non-Null Count  Dtype         \n",
      "---  ------                     --------------  -----         \n",
      " 0   Region                     740 non-null    object        \n",
      " 1   Date                       740 non-null    datetime64[ns]\n",
      " 2   Frequency                  740 non-null    object        \n",
      " 3   Unemployment_Rate          740 non-null    float64       \n",
      " 4   Employed_Rate              740 non-null    float64       \n",
      " 5   Labour_Participation_Rate  740 non-null    float64       \n",
      " 6   Area                       740 non-null    object        \n",
      "dtypes: datetime64[ns](1), float64(3), object(3)\n",
      "memory usage: 46.2+ KB\n"
     ]
    }
   ],
   "source": [
    "data_df1.info()"
   ]
  },
  {
   "cell_type": "code",
   "execution_count": 33,
   "id": "120e0c4f-a27a-48a1-84f7-96dd3a299ba7",
   "metadata": {},
   "outputs": [
    {
     "data": {
      "text/html": [
       "<div>\n",
       "<style scoped>\n",
       "    .dataframe tbody tr th:only-of-type {\n",
       "        vertical-align: middle;\n",
       "    }\n",
       "\n",
       "    .dataframe tbody tr th {\n",
       "        vertical-align: top;\n",
       "    }\n",
       "\n",
       "    .dataframe thead th {\n",
       "        text-align: right;\n",
       "    }\n",
       "</style>\n",
       "<table border=\"1\" class=\"dataframe\">\n",
       "  <thead>\n",
       "    <tr style=\"text-align: right;\">\n",
       "      <th></th>\n",
       "      <th>Date</th>\n",
       "      <th>Unemployment_Rate</th>\n",
       "      <th>Employed_Rate</th>\n",
       "      <th>Labour_Participation_Rate</th>\n",
       "    </tr>\n",
       "  </thead>\n",
       "  <tbody>\n",
       "    <tr>\n",
       "      <th>count</th>\n",
       "      <td>740</td>\n",
       "      <td>740.000000</td>\n",
       "      <td>7.400000e+02</td>\n",
       "      <td>740.000000</td>\n",
       "    </tr>\n",
       "    <tr>\n",
       "      <th>mean</th>\n",
       "      <td>2019-12-12 18:36:58.378378496</td>\n",
       "      <td>11.787946</td>\n",
       "      <td>7.204460e+06</td>\n",
       "      <td>42.630122</td>\n",
       "    </tr>\n",
       "    <tr>\n",
       "      <th>min</th>\n",
       "      <td>2019-05-31 00:00:00</td>\n",
       "      <td>0.000000</td>\n",
       "      <td>4.942000e+04</td>\n",
       "      <td>13.330000</td>\n",
       "    </tr>\n",
       "    <tr>\n",
       "      <th>25%</th>\n",
       "      <td>2019-08-31 00:00:00</td>\n",
       "      <td>4.657500</td>\n",
       "      <td>1.190404e+06</td>\n",
       "      <td>38.062500</td>\n",
       "    </tr>\n",
       "    <tr>\n",
       "      <th>50%</th>\n",
       "      <td>2019-11-30 00:00:00</td>\n",
       "      <td>8.350000</td>\n",
       "      <td>4.744178e+06</td>\n",
       "      <td>41.160000</td>\n",
       "    </tr>\n",
       "    <tr>\n",
       "      <th>75%</th>\n",
       "      <td>2020-03-31 00:00:00</td>\n",
       "      <td>15.887500</td>\n",
       "      <td>1.127549e+07</td>\n",
       "      <td>45.505000</td>\n",
       "    </tr>\n",
       "    <tr>\n",
       "      <th>max</th>\n",
       "      <td>2020-06-30 00:00:00</td>\n",
       "      <td>76.740000</td>\n",
       "      <td>4.577751e+07</td>\n",
       "      <td>72.570000</td>\n",
       "    </tr>\n",
       "    <tr>\n",
       "      <th>std</th>\n",
       "      <td>NaN</td>\n",
       "      <td>10.721298</td>\n",
       "      <td>8.087988e+06</td>\n",
       "      <td>8.111094</td>\n",
       "    </tr>\n",
       "  </tbody>\n",
       "</table>\n",
       "</div>"
      ],
      "text/plain": [
       "                                Date  Unemployment_Rate  Employed_Rate  \\\n",
       "count                            740         740.000000   7.400000e+02   \n",
       "mean   2019-12-12 18:36:58.378378496          11.787946   7.204460e+06   \n",
       "min              2019-05-31 00:00:00           0.000000   4.942000e+04   \n",
       "25%              2019-08-31 00:00:00           4.657500   1.190404e+06   \n",
       "50%              2019-11-30 00:00:00           8.350000   4.744178e+06   \n",
       "75%              2020-03-31 00:00:00          15.887500   1.127549e+07   \n",
       "max              2020-06-30 00:00:00          76.740000   4.577751e+07   \n",
       "std                              NaN          10.721298   8.087988e+06   \n",
       "\n",
       "       Labour_Participation_Rate  \n",
       "count                 740.000000  \n",
       "mean                   42.630122  \n",
       "min                    13.330000  \n",
       "25%                    38.062500  \n",
       "50%                    41.160000  \n",
       "75%                    45.505000  \n",
       "max                    72.570000  \n",
       "std                     8.111094  "
      ]
     },
     "execution_count": 33,
     "metadata": {},
     "output_type": "execute_result"
    }
   ],
   "source": [
    "data_df1.describe()"
   ]
  },
  {
   "cell_type": "code",
   "execution_count": 35,
   "id": "b22275f8-24fd-4d64-a49b-3de5fffbd36a",
   "metadata": {},
   "outputs": [],
   "source": [
    "data_df1['year'] = data_df1['Date'].dt.year"
   ]
  },
  {
   "cell_type": "code",
   "execution_count": 37,
   "id": "a50a206b-6214-4c1a-a34b-db01d427c014",
   "metadata": {},
   "outputs": [
    {
     "data": {
      "text/html": [
       "<div>\n",
       "<style scoped>\n",
       "    .dataframe tbody tr th:only-of-type {\n",
       "        vertical-align: middle;\n",
       "    }\n",
       "\n",
       "    .dataframe tbody tr th {\n",
       "        vertical-align: top;\n",
       "    }\n",
       "\n",
       "    .dataframe thead th {\n",
       "        text-align: right;\n",
       "    }\n",
       "</style>\n",
       "<table border=\"1\" class=\"dataframe\">\n",
       "  <thead>\n",
       "    <tr style=\"text-align: right;\">\n",
       "      <th></th>\n",
       "      <th>Region</th>\n",
       "      <th>Date</th>\n",
       "      <th>Frequency</th>\n",
       "      <th>Unemployment_Rate</th>\n",
       "      <th>Employed_Rate</th>\n",
       "      <th>Labour_Participation_Rate</th>\n",
       "      <th>Area</th>\n",
       "      <th>year</th>\n",
       "    </tr>\n",
       "  </thead>\n",
       "  <tbody>\n",
       "    <tr>\n",
       "      <th>0</th>\n",
       "      <td>Andhra Pradesh</td>\n",
       "      <td>2019-05-31</td>\n",
       "      <td>Monthly</td>\n",
       "      <td>3.65</td>\n",
       "      <td>11999139.0</td>\n",
       "      <td>43.24</td>\n",
       "      <td>Rural</td>\n",
       "      <td>2019</td>\n",
       "    </tr>\n",
       "    <tr>\n",
       "      <th>1</th>\n",
       "      <td>Andhra Pradesh</td>\n",
       "      <td>2019-06-30</td>\n",
       "      <td>Monthly</td>\n",
       "      <td>3.05</td>\n",
       "      <td>11755881.0</td>\n",
       "      <td>42.05</td>\n",
       "      <td>Rural</td>\n",
       "      <td>2019</td>\n",
       "    </tr>\n",
       "    <tr>\n",
       "      <th>2</th>\n",
       "      <td>Andhra Pradesh</td>\n",
       "      <td>2019-07-31</td>\n",
       "      <td>Monthly</td>\n",
       "      <td>3.75</td>\n",
       "      <td>12086707.0</td>\n",
       "      <td>43.50</td>\n",
       "      <td>Rural</td>\n",
       "      <td>2019</td>\n",
       "    </tr>\n",
       "  </tbody>\n",
       "</table>\n",
       "</div>"
      ],
      "text/plain": [
       "           Region       Date Frequency  Unemployment_Rate  Employed_Rate  \\\n",
       "0  Andhra Pradesh 2019-05-31   Monthly               3.65     11999139.0   \n",
       "1  Andhra Pradesh 2019-06-30   Monthly               3.05     11755881.0   \n",
       "2  Andhra Pradesh 2019-07-31   Monthly               3.75     12086707.0   \n",
       "\n",
       "   Labour_Participation_Rate   Area  year  \n",
       "0                      43.24  Rural  2019  \n",
       "1                      42.05  Rural  2019  \n",
       "2                      43.50  Rural  2019  "
      ]
     },
     "execution_count": 37,
     "metadata": {},
     "output_type": "execute_result"
    }
   ],
   "source": [
    "data_df1.head(3)"
   ]
  },
  {
   "cell_type": "code",
   "execution_count": 41,
   "id": "81613454-fbbf-43b3-88a5-120e6d2ba371",
   "metadata": {},
   "outputs": [],
   "source": [
    "data_df1['monthname'] = data_df1['Date'].dt.strftime('%b')\n",
    "data_df1['days'] = data_df1['Date'].dt.day_name()"
   ]
  },
  {
   "cell_type": "code",
   "execution_count": 43,
   "id": "ad2c4c5a-8bea-4423-a450-55b4d2bd8b2d",
   "metadata": {},
   "outputs": [
    {
     "data": {
      "text/html": [
       "<div>\n",
       "<style scoped>\n",
       "    .dataframe tbody tr th:only-of-type {\n",
       "        vertical-align: middle;\n",
       "    }\n",
       "\n",
       "    .dataframe tbody tr th {\n",
       "        vertical-align: top;\n",
       "    }\n",
       "\n",
       "    .dataframe thead th {\n",
       "        text-align: right;\n",
       "    }\n",
       "</style>\n",
       "<table border=\"1\" class=\"dataframe\">\n",
       "  <thead>\n",
       "    <tr style=\"text-align: right;\">\n",
       "      <th></th>\n",
       "      <th>Region</th>\n",
       "      <th>Date</th>\n",
       "      <th>Frequency</th>\n",
       "      <th>Unemployment_Rate</th>\n",
       "      <th>Employed_Rate</th>\n",
       "      <th>Labour_Participation_Rate</th>\n",
       "      <th>Area</th>\n",
       "      <th>year</th>\n",
       "      <th>monthname</th>\n",
       "      <th>days</th>\n",
       "    </tr>\n",
       "  </thead>\n",
       "  <tbody>\n",
       "    <tr>\n",
       "      <th>0</th>\n",
       "      <td>Andhra Pradesh</td>\n",
       "      <td>2019-05-31</td>\n",
       "      <td>Monthly</td>\n",
       "      <td>3.65</td>\n",
       "      <td>11999139.0</td>\n",
       "      <td>43.24</td>\n",
       "      <td>Rural</td>\n",
       "      <td>2019</td>\n",
       "      <td>May</td>\n",
       "      <td>Friday</td>\n",
       "    </tr>\n",
       "    <tr>\n",
       "      <th>1</th>\n",
       "      <td>Andhra Pradesh</td>\n",
       "      <td>2019-06-30</td>\n",
       "      <td>Monthly</td>\n",
       "      <td>3.05</td>\n",
       "      <td>11755881.0</td>\n",
       "      <td>42.05</td>\n",
       "      <td>Rural</td>\n",
       "      <td>2019</td>\n",
       "      <td>Jun</td>\n",
       "      <td>Sunday</td>\n",
       "    </tr>\n",
       "  </tbody>\n",
       "</table>\n",
       "</div>"
      ],
      "text/plain": [
       "           Region       Date Frequency  Unemployment_Rate  Employed_Rate  \\\n",
       "0  Andhra Pradesh 2019-05-31   Monthly               3.65     11999139.0   \n",
       "1  Andhra Pradesh 2019-06-30   Monthly               3.05     11755881.0   \n",
       "\n",
       "   Labour_Participation_Rate   Area  year monthname    days  \n",
       "0                      43.24  Rural  2019       May  Friday  \n",
       "1                      42.05  Rural  2019       Jun  Sunday  "
      ]
     },
     "execution_count": 43,
     "metadata": {},
     "output_type": "execute_result"
    }
   ],
   "source": [
    "data_df1.head(2)"
   ]
  },
  {
   "cell_type": "code",
   "execution_count": 45,
   "id": "d54ecae5-b1be-49be-95e5-02b1237ce973",
   "metadata": {},
   "outputs": [
    {
     "name": "stdout",
     "output_type": "stream",
     "text": [
      "year\n",
      "2020    4681.49\n",
      "2019    4041.59\n",
      "Name: Unemployment_Rate, dtype: float64\n"
     ]
    }
   ],
   "source": [
    "# UNEMPLOYMENT YEAR\n",
    "UNEMPLOYMENT_YEAR = data_df1.groupby('year')['Unemployment_Rate'].sum()\n",
    "print(UNEMPLOYMENT_YEAR.sort_values(ascending=False))"
   ]
  },
  {
   "cell_type": "code",
   "execution_count": 47,
   "id": "8090af8d-d1a7-474a-ba5d-6bea426f7160",
   "metadata": {},
   "outputs": [
    {
     "data": {
      "image/png": "[encoded data removed]",
      "text/plain": [
       "<Figure size 600x300 with 1 Axes>"
      ]
     },
     "metadata": {},
     "output_type": "display_data"
    }
   ],
   "source": [
    "# VISUAL FOR UNEMPLOYMENT YEAR \n",
    "plt.figure(figsize=(6,3))\n",
    "UNEMPLOYMENT_YEAR.plot(kind = 'bar')\n",
    "plt.title('UNEMPLOYMENT RATE OVER TIME')\n",
    "plt.show()"
   ]
  },
  {
   "cell_type": "markdown",
   "id": "080be085-eb37-4c45-b4c8-421a1e4db2c0",
   "metadata": {},
   "source": [
    "#### INSIGHTS\n",
    " - The insights here that the rate of unemployment in 2020 is higher than 2019. \n",
    "   - REASONS: The covid-19 pandemics affect the rate of employment in 2020."
   ]
  },
  {
   "cell_type": "code",
   "execution_count": 49,
   "id": "50a0fff3-640d-4eb2-acba-f4ef9b64b3e6",
   "metadata": {},
   "outputs": [
    {
     "name": "stdout",
     "output_type": "stream",
     "text": [
      "year\n",
      "2019    3.191880e+09\n",
      "2020    2.139421e+09\n",
      "Name: Employed_Rate, dtype: float64\n"
     ]
    }
   ],
   "source": [
    "# EMPLOYMENT YEAR\n",
    "EMPLOYMENT_YEAR = data_df1.groupby('year')['Employed_Rate'].sum()\n",
    "print(EMPLOYMENT_YEAR.sort_values(ascending=False))"
   ]
  },
  {
   "cell_type": "code",
   "execution_count": 51,
   "id": "5d527551-1fbe-485b-baeb-51c110c2f2dd",
   "metadata": {},
   "outputs": [
    {
     "data": {
      "image/png": "[encoded data removed]",
      "text/plain": [
       "<Figure size 600x300 with 1 Axes>"
      ]
     },
     "metadata": {},
     "output_type": "display_data"
    }
   ],
   "source": [
    "# VISUAL FOR EMPLOYMENT OVER TIME\n",
    "plt.figure(figsize=(6,3))\n",
    "EMPLOYMENT_YEAR.plot(kind = 'bar',color='indigo')\n",
    "plt.title('EMPLOYMENT RATE')\n",
    "plt.show()"
   ]
  },
  {
   "cell_type": "code",
   "execution_count": 53,
   "id": "2fcdd6dc-6745-4e68-8a5f-5dad0f8709af",
   "metadata": {},
   "outputs": [
    {
     "data": {
      "image/png": "[encoded data removed]",
      "text/plain": [
       "<Figure size 1200x600 with 1 Axes>"
      ]
     },
     "metadata": {},
     "output_type": "display_data"
    }
   ],
   "source": [
    "plt.figure(figsize=(12,6))\n",
    "sns.barplot(y='monthname', x = 'Unemployment_Rate',data = data_df1)\n",
    "plt.show()"
   ]
  },
  {
   "cell_type": "code",
   "execution_count": 55,
   "id": "ba42f499-4a24-4f38-beca-029d56dada72",
   "metadata": {},
   "outputs": [
    {
     "data": {
      "image/png": "[encoded data removed]",
      "text/plain": [
       "<Figure size 600x300 with 1 Axes>"
      ]
     },
     "metadata": {},
     "output_type": "display_data"
    }
   ],
   "source": [
    "plt.figure(figsize=(6,3))\n",
    "sns.barplot(y='Unemployment_Rate', x = 'monthname',hue= 'Area',data = data_df1)\n",
    "plt.show()"
   ]
  },
  {
   "cell_type": "code",
   "execution_count": 57,
   "id": "567286e3-e677-4ca3-8115-a971bd7cbdd9",
   "metadata": {},
   "outputs": [
    {
     "data": {
      "image/png": "[encoded data removed]",
      "text/plain": [
       "<Figure size 1200x600 with 1 Axes>"
      ]
     },
     "metadata": {},
     "output_type": "display_data"
    }
   ],
   "source": [
    "plt.figure(figsize=(12,6))\n",
    "sns.countplot(y='Region', data = data_df1)\n",
    "plt.show()"
   ]
  },
  {
   "cell_type": "code",
   "execution_count": 61,
   "id": "619aadbe-0660-4365-b0c0-21b77e3016f8",
   "metadata": {},
   "outputs": [
    {
     "data": {
      "image/png": "[encoded data removed]",
      "text/plain": [
       "<Figure size 600x300 with 1 Axes>"
      ]
     },
     "metadata": {},
     "output_type": "display_data"
    }
   ],
   "source": [
    "plt.figure(figsize=(6,3))\n",
    "sns.barplot(x='Area', y='Unemployment_Rate', data=data_df1, hue='year')\n",
    "plt.title(\"Area vs Unemployment rate\")\n",
    "plt.show()"
   ]
  },
  {
   "cell_type": "markdown",
   "id": "90b1687f-7572-4950-bf9b-83729318b199",
   "metadata": {},
   "source": [
    "#### INSIGHTS\n",
    "    - The rate of unemployment in year 2020 increases in both Rural and Urban area compared to year 2019.\n",
    "      -REASONS: COVID-19 pandemics affect both RURAL and URBAN AREA"
   ]
  },
  {
   "cell_type": "code",
   "execution_count": 63,
   "id": "227e1d25-5161-4324-99ef-5e079fb41716",
   "metadata": {},
   "outputs": [
    {
     "data": {
      "image/png": "[encoded data removed]",
      "text/plain": [
       "<Figure size 600x300 with 1 Axes>"
      ]
     },
     "metadata": {},
     "output_type": "display_data"
    }
   ],
   "source": [
    "plt.figure(figsize=(6,3))\n",
    "sns.barplot(x='Area', y='Employed_Rate', data=data_df1, hue='year')\n",
    "plt.title(\"Area vs Employment rate\")\n",
    "plt.show()"
   ]
  },
  {
   "cell_type": "markdown",
   "id": "a28e3594-b916-407d-b164-374f16dbf335",
   "metadata": {},
   "source": [
    "#### INSIGHTS\n",
    "- The rate of employment in Rural area increases in both year 2019 and 2020 while the rate of employment in Urban decrease in both year"
   ]
  },
  {
   "cell_type": "code",
   "execution_count": 65,
   "id": "587cfe00-bb13-4935-aa02-f85d0fda43c4",
   "metadata": {},
   "outputs": [
    {
     "data": {
      "image/png": "[encoded data removed]",
      "text/plain": [
       "<Figure size 1200x800 with 1 Axes>"
      ]
     },
     "metadata": {},
     "output_type": "display_data"
    }
   ],
   "source": [
    "plt.figure(figsize=(12,8))\n",
    "sns.barplot(x='Region', y='Unemployment_Rate', data=data_df1, hue='year')\n",
    "plt.title(\"Region vs Unemployment rate\")\n",
    "plt.xticks(rotation=90)\n",
    "plt.show()"
   ]
  },
  {
   "cell_type": "markdown",
   "id": "a6c54627-4719-468d-a16a-b81135012543",
   "metadata": {},
   "source": [
    "#### INSIGHTS\n",
    "- The rate of unemployment across all regions increases in the year 2020 compared to that of year 2019.\n",
    "- REASON: COVID-19 affects all regions in India"
   ]
  },
  {
   "cell_type": "code",
   "execution_count": 67,
   "id": "ed56c7e5-bdd7-4956-9fdd-8299a485b354",
   "metadata": {},
   "outputs": [],
   "source": [
    "import plotly.express as px"
   ]
  },
  {
   "cell_type": "code",
   "execution_count": 72,
   "id": "52d2fa1e-5c70-4101-a314-fc0e79db3b65",
   "metadata": {},
   "outputs": [
    {
     "data": {
      "application/vnd.plotly.v1+json": {
       "config": {
        "plotlyServerURL": "https://plot.ly"
       },
       "data": [
        {
         "customdata": [
          [
           "Rural"
          ],
          [
           "Rural"
          ],
          [
           "Rural"
          ],
          [
           "Rural"
          ],
          [
           "Rural"
          ],
          [
           "Rural"
          ],
          [
           "Rural"
          ],
          [
           "Rural"
          ],
          [
           "Rural"
          ],
          [
           "Rural"
          ],
          [
           "Rural"
          ],
          [
           "Rural"
          ],
          [
           "Rural"
          ],
          [
           "Rural"
          ],
          [
           "Urban"
          ],
          [
           "Urban"
          ],
          [
           "Urban"
          ],
          [
           "Urban"
          ],
          [
           "Urban"
          ],
          [
           "Urban"
          ],
          [
           "Urban"
          ],
          [
           "Urban"
          ],
          [
           "Urban"
          ],
          [
           "Urban"
          ],
          [
           "Urban"
          ],
          [
           "Urban"
          ],
          [
           "Urban"
          ],
          [
           "Urban"
          ]
         ],
         "hovertemplate": "Region=Andhra Pradesh<br>Labour_Participation_Rate=%{x}<br>Unemployment_Rate=%{y}<br>Employed_Rate=%{marker.size}<br>Area=%{customdata[0]}<extra></extra>",
         "legendgroup": "Andhra Pradesh",
         "marker": {
          "color": "#636efa",
          "size": [
           11999139,
           11755881,
           12086707,
           12285693,
           12256762,
           12017412,
           11397681,
           12528395,
           12016676,
           11723617,
           11359660,
           8792827,
           9526902,
           15572975,
           4788661,
           4824630,
           4657443,
           4743179,
           4733996,
           4774377,
           4668772,
           4913963,
           4618860,
           4822035,
           4521537,
           2544084,
           3428356,
           4954389
          ],
          "sizemode": "area",
          "sizeref": 114443.7725,
          "symbol": "circle"
         },
         "mode": "markers",
         "name": "Andhra Pradesh",
         "orientation": "v",
         "showlegend": true,
         "type": "scatter",
         "x": [
          43.24,
          42.05,
          43.5,
          43.97,
          44.68,
          43.01,
          41,
          45.14,
          43.46,
          42.83,
          40.66,
          36.03,
          38.16,
          53.76,
          37.45,
          36.76,
          36.1,
          36.29,
          36.69,
          36.41,
          36.62,
          38.61,
          35.91,
          36.84,
          36.08,
          26.97,
          32.69,
          37.61
         ],
         "xaxis": "x",
         "y": [
          3.65,
          3.05,
          3.75,
          3.32,
          5.17,
          3.52,
          4.12,
          4.38,
          4.84,
          5.91,
          4.06,
          16.29,
          14.46,
          0.85,
          6.09,
          3.8,
          5.64,
          4.61,
          6.01,
          4.7,
          7.54,
          7.88,
          7.11,
          5.66,
          9.88,
          32.3,
          24.91,
          5.86
         ],
         "yaxis": "y"
        },
        {
         "customdata": [
          [
           "Rural"
          ],
          [
           "Rural"
          ],
          [
           "Rural"
          ],
          [
           "Rural"
          ],
          [
           "Rural"
          ],
          [
           "Rural"
          ],
          [
           "Rural"
          ],
          [
           "Rural"
          ],
          [
           "Rural"
          ],
          [
           "Rural"
          ],
          [
           "Rural"
          ],
          [
           "Rural"
          ],
          [
           "Urban"
          ],
          [
           "Urban"
          ],
          [
           "Urban"
          ],
          [
           "Urban"
          ],
          [
           "Urban"
          ],
          [
           "Urban"
          ],
          [
           "Urban"
          ],
          [
           "Urban"
          ],
          [
           "Urban"
          ],
          [
           "Urban"
          ],
          [
           "Urban"
          ],
          [
           "Urban"
          ],
          [
           "Urban"
          ],
          [
           "Urban"
          ]
         ],
         "hovertemplate": "Region=Assam<br>Labour_Participation_Rate=%{x}<br>Unemployment_Rate=%{y}<br>Employed_Rate=%{marker.size}<br>Area=%{customdata[0]}<extra></extra>",
         "legendgroup": "Assam",
         "marker": {
          "color": "#EF553B",
          "size": [
           11749334,
           8923222,
           9911534,
           9292039,
           11468349,
           8395906,
           9625362,
           11420996,
           8462814,
           9878742,
           9926176,
           7544937,
           1671707,
           1647342,
           1739838,
           1595582,
           1576480,
           1595176,
           1708045,
           1722303,
           1630908,
           1625454,
           1664145,
           1454956,
           1441722,
           1551007
          ],
          "sizemode": "area",
          "sizeref": 114443.7725,
          "symbol": "circle"
         },
         "mode": "markers",
         "name": "Assam",
         "orientation": "v",
         "showlegend": true,
         "type": "scatter",
         "x": [
          57.39,
          43.87,
          48.21,
          45.83,
          55.67,
          40.76,
          46.64,
          54.9,
          40.17,
          47.05,
          50,
          34.38,
          44.92,
          45.17,
          44.32,
          43.81,
          42.66,
          44.01,
          44.59,
          44.26,
          42.82,
          43.9,
          45.03,
          38.45,
          39.04,
          38.73
         ],
         "xaxis": "x",
         "y": [
          4.29,
          5.08,
          4.26,
          5.79,
          4.46,
          4.65,
          4.66,
          4.29,
          3.26,
          3.77,
          9.38,
          0,
          7.87,
          9.89,
          3.21,
          10.39,
          9.26,
          11.17,
          6.31,
          5.02,
          7.24,
          9.98,
          10.34,
          8.37,
          10.77,
          3.42
         ],
         "yaxis": "y"
        },
        {
         "customdata": [
          [
           "Rural"
          ],
          [
           "Rural"
          ],
          [
           "Rural"
          ],
          [
           "Rural"
          ],
          [
           "Rural"
          ],
          [
           "Rural"
          ],
          [
           "Rural"
          ],
          [
           "Rural"
          ],
          [
           "Rural"
          ],
          [
           "Rural"
          ],
          [
           "Rural"
          ],
          [
           "Rural"
          ],
          [
           "Rural"
          ],
          [
           "Rural"
          ],
          [
           "Urban"
          ],
          [
           "Urban"
          ],
          [
           "Urban"
          ],
          [
           "Urban"
          ],
          [
           "Urban"
          ],
          [
           "Urban"
          ],
          [
           "Urban"
          ],
          [
           "Urban"
          ],
          [
           "Urban"
          ],
          [
           "Urban"
          ],
          [
           "Urban"
          ],
          [
           "Urban"
          ],
          [
           "Urban"
          ],
          [
           "Urban"
          ]
         ],
         "hovertemplate": "Region=Bihar<br>Labour_Participation_Rate=%{x}<br>Unemployment_Rate=%{y}<br>Employed_Rate=%{marker.size}<br>Area=%{customdata[0]}<extra></extra>",
         "legendgroup": "Bihar",
         "marker": {
          "color": "#00cc96",
          "size": [
           24322330,
           24097712,
           23248875,
           22260203,
           23905700,
           24053140,
           22445989,
           22914530,
           23409006,
           23168192,
           22667882,
           14645275,
           14050319,
           20622566,
           3029344,
           3248864,
           3059744,
           2994763,
           2992082,
           3173429,
           3081077,
           2977857,
           2988665,
           3113464,
           3049637,
           1400962,
           2207026,
           3124663
          ],
          "sizemode": "area",
          "sizeref": 114443.7725,
          "symbol": "circle"
         },
         "mode": "markers",
         "name": "Bihar",
         "orientation": "v",
         "showlegend": true,
         "type": "scatter",
         "x": [
          39.75,
          39.71,
          39.66,
          36.85,
          38.57,
          40.31,
          37.51,
          37.25,
          37.54,
          37.28,
          38.88,
          38.63,
          38.5,
          37.4,
          39.8,
          39.35,
          38.36,
          38.03,
          39.25,
          38.45,
          38.86,
          36.29,
          38.99,
          37.87,
          37.29,
          34.94,
          36.45,
          36.54
         ],
         "xaxis": "x",
         "y": [
          9.27,
          10.2,
          13.44,
          11,
          8.87,
          12.47,
          12.4,
          10.16,
          9.13,
          9.61,
          15.39,
          45.09,
          47.26,
          20.49,
          19.9,
          13.29,
          16.41,
          17.66,
          20.46,
          14.06,
          17.62,
          14.91,
          20.69,
          15.11,
          15.73,
          58.77,
          37.87,
          12.45
         ],
         "yaxis": "y"
        },
        {
         "customdata": [
          [
           "Rural"
          ],
          [
           "Rural"
          ],
          [
           "Rural"
          ],
          [
           "Rural"
          ],
          [
           "Rural"
          ],
          [
           "Rural"
          ],
          [
           "Rural"
          ],
          [
           "Rural"
          ],
          [
           "Rural"
          ],
          [
           "Rural"
          ],
          [
           "Rural"
          ],
          [
           "Rural"
          ],
          [
           "Rural"
          ],
          [
           "Rural"
          ],
          [
           "Urban"
          ],
          [
           "Urban"
          ],
          [
           "Urban"
          ],
          [
           "Urban"
          ],
          [
           "Urban"
          ],
          [
           "Urban"
          ],
          [
           "Urban"
          ],
          [
           "Urban"
          ],
          [
           "Urban"
          ],
          [
           "Urban"
          ],
          [
           "Urban"
          ],
          [
           "Urban"
          ],
          [
           "Urban"
          ],
          [
           "Urban"
          ]
         ],
         "hovertemplate": "Region=Chhattisgarh<br>Labour_Participation_Rate=%{x}<br>Unemployment_Rate=%{y}<br>Employed_Rate=%{marker.size}<br>Area=%{customdata[0]}<extra></extra>",
         "legendgroup": "Chhattisgarh",
         "marker": {
          "color": "#ab63fa",
          "size": [
           6259019,
           6608626,
           6753622,
           6607694,
           6490776,
           7043840,
           6942931,
           6569385,
           6236201,
           6847173,
           6894808,
           6534321,
           5454091,
           5781095,
           2223129,
           2192020,
           2285436,
           2392400,
           2311507,
           2297096,
           2341284,
           2415436,
           2315972,
           2347941,
           2407509,
           1066126,
           1276291,
           1602231
          ],
          "sizemode": "area",
          "sizeref": 114443.7725,
          "symbol": "circle"
         },
         "mode": "markers",
         "name": "Chhattisgarh",
         "orientation": "v",
         "showlegend": true,
         "type": "scatter",
         "x": [
          42.89,
          43.71,
          43.53,
          42.55,
          43.38,
          46.28,
          43.56,
          42.59,
          42.03,
          45.05,
          44.98,
          39.43,
          35.56,
          38.66,
          45.61,
          45.88,
          45.85,
          46.91,
          46.8,
          46.82,
          46.59,
          45.59,
          46.21,
          47.14,
          47.39,
          24.06,
          30.24,
          39.41
         ],
         "xaxis": "x",
         "y": [
          9.82,
          6.76,
          4.54,
          4.64,
          8.33,
          6.96,
          2.77,
          6.11,
          9.89,
          7.89,
          7.31,
          0,
          7.64,
          10.14,
          9.77,
          11.77,
          8.17,
          6.29,
          9.46,
          10.27,
          8.32,
          3.57,
          9.01,
          9.79,
          8.21,
          20.13,
          24.1,
          27.07
         ],
         "yaxis": "y"
        },
        {
         "customdata": [
          [
           "Rural"
          ],
          [
           "Rural"
          ],
          [
           "Rural"
          ],
          [
           "Rural"
          ],
          [
           "Rural"
          ],
          [
           "Rural"
          ],
          [
           "Rural"
          ],
          [
           "Rural"
          ],
          [
           "Rural"
          ],
          [
           "Rural"
          ],
          [
           "Rural"
          ],
          [
           "Rural"
          ],
          [
           "Rural"
          ],
          [
           "Rural"
          ],
          [
           "Urban"
          ],
          [
           "Urban"
          ],
          [
           "Urban"
          ],
          [
           "Urban"
          ],
          [
           "Urban"
          ],
          [
           "Urban"
          ],
          [
           "Urban"
          ],
          [
           "Urban"
          ],
          [
           "Urban"
          ],
          [
           "Urban"
          ],
          [
           "Urban"
          ],
          [
           "Urban"
          ],
          [
           "Urban"
          ],
          [
           "Urban"
          ]
         ],
         "hovertemplate": "Region=Delhi<br>Labour_Participation_Rate=%{x}<br>Unemployment_Rate=%{y}<br>Employed_Rate=%{marker.size}<br>Area=%{customdata[0]}<extra></extra>",
         "legendgroup": "Delhi",
         "marker": {
          "color": "#FFA15A",
          "size": [
           169487,
           149076,
           166605,
           135407,
           166056,
           149511,
           178768,
           145671,
           157791,
           147500,
           152413,
           115487,
           129610,
           112108,
           5756475,
           5550172,
           5393091,
           5552510,
           5642253,
           6030363,
           5439600,
           5718337,
           5647493,
           5708807,
           5401392,
           3003787,
           2343783,
           4306807
          ],
          "sizemode": "area",
          "sizeref": 114443.7725,
          "symbol": "circle"
         },
         "mode": "markers",
         "name": "Delhi",
         "orientation": "v",
         "showlegend": true,
         "type": "scatter",
         "x": [
          42.33,
          35.74,
          40.53,
          35.21,
          40.68,
          37.9,
          42.71,
          37.08,
          38.36,
          35.84,
          37.45,
          30.21,
          34.65,
          29.22,
          44.17,
          42.71,
          42.34,
          42.9,
          47.36,
          45.78,
          43.02,
          42.56,
          48.09,
          44.18,
          42.82,
          23.59,
          28.28,
          34.32
         ],
         "xaxis": "x",
         "y": [
          12.56,
          9.33,
          11.07,
          17.18,
          12.5,
          15.84,
          11.11,
          16.97,
          13.48,
          13.81,
          15.18,
          20.69,
          22.76,
          21.14,
          12.31,
          12.76,
          14.68,
          13.52,
          20.59,
          12.41,
          16.11,
          11.07,
          22.45,
          14.86,
          17.09,
          16.51,
          45.78,
          18.11
         ],
         "yaxis": "y"
        },
        {
         "customdata": [
          [
           "Rural"
          ],
          [
           "Rural"
          ],
          [
           "Rural"
          ],
          [
           "Rural"
          ],
          [
           "Rural"
          ],
          [
           "Rural"
          ],
          [
           "Rural"
          ],
          [
           "Rural"
          ],
          [
           "Rural"
          ],
          [
           "Rural"
          ],
          [
           "Rural"
          ],
          [
           "Rural"
          ],
          [
           "Urban"
          ],
          [
           "Urban"
          ],
          [
           "Urban"
          ],
          [
           "Urban"
          ],
          [
           "Urban"
          ],
          [
           "Urban"
          ],
          [
           "Urban"
          ],
          [
           "Urban"
          ],
          [
           "Urban"
          ],
          [
           "Urban"
          ],
          [
           "Urban"
          ],
          [
           "Urban"
          ]
         ],
         "hovertemplate": "Region=Goa<br>Labour_Participation_Rate=%{x}<br>Unemployment_Rate=%{y}<br>Employed_Rate=%{marker.size}<br>Area=%{customdata[0]}<extra></extra>",
         "legendgroup": "Goa",
         "marker": {
          "color": "#19d3f3",
          "size": [
           179340,
           170471,
           167437,
           183603,
           163215,
           177440,
           159489,
           177155,
           158936,
           171672,
           181657,
           128538,
           264855,
           304015,
           280367,
           243277,
           309643,
           290264,
           271612,
           288154,
           257814,
           306396,
           277093,
           318957
          ],
          "sizemode": "area",
          "sizeref": 114443.7725,
          "symbol": "circle"
         },
         "mode": "markers",
         "name": "Goa",
         "orientation": "v",
         "showlegend": true,
         "type": "scatter",
         "x": [
          39.16,
          38.19,
          39.81,
          39.61,
          35.78,
          40.36,
          44.09,
          38.7,
          35.36,
          36.11,
          45.36,
          33.71,
          34.17,
          43.96,
          40,
          31.97,
          39.92,
          41.27,
          45.22,
          42.77,
          35.95,
          39.73,
          36.05,
          44.74
         ],
         "xaxis": "x",
         "y": [
          2.91,
          5.45,
          10.98,
          1.98,
          3.61,
          7.21,
          23.71,
          3.54,
          5.38,
          0,
          15.91,
          20,
          2.75,
          13.33,
          12.28,
          4.9,
          3.16,
          12.31,
          25.2,
          16.22,
          10.92,
          4.31,
          4.76,
          11.76
         ],
         "yaxis": "y"
        },
        {
         "customdata": [
          [
           "Rural"
          ],
          [
           "Rural"
          ],
          [
           "Rural"
          ],
          [
           "Rural"
          ],
          [
           "Rural"
          ],
          [
           "Rural"
          ],
          [
           "Rural"
          ],
          [
           "Rural"
          ],
          [
           "Rural"
          ],
          [
           "Rural"
          ],
          [
           "Rural"
          ],
          [
           "Rural"
          ],
          [
           "Rural"
          ],
          [
           "Rural"
          ],
          [
           "Urban"
          ],
          [
           "Urban"
          ],
          [
           "Urban"
          ],
          [
           "Urban"
          ],
          [
           "Urban"
          ],
          [
           "Urban"
          ],
          [
           "Urban"
          ],
          [
           "Urban"
          ],
          [
           "Urban"
          ],
          [
           "Urban"
          ],
          [
           "Urban"
          ],
          [
           "Urban"
          ],
          [
           "Urban"
          ],
          [
           "Urban"
          ]
         ],
         "hovertemplate": "Region=Gujarat<br>Labour_Participation_Rate=%{x}<br>Unemployment_Rate=%{y}<br>Employed_Rate=%{marker.size}<br>Area=%{customdata[0]}<extra></extra>",
         "legendgroup": "Gujarat",
         "marker": {
          "color": "#FF6692",
          "size": [
           13954728,
           13199281,
           14327083,
           13507342,
           13280783,
           13828512,
           14487815,
           13877825,
           14301844,
           13973042,
           13483615,
           8587594,
           11121124,
           13243922,
           9686558,
           10144965,
           9828023,
           10228154,
           9609939,
           10474217,
           9896129,
           10172812,
           9824501,
           10784753,
           10083026,
           6701284,
           6072776,
           10574711
          ],
          "sizemode": "area",
          "sizeref": 114443.7725,
          "symbol": "circle"
         },
         "mode": "markers",
         "name": "Gujarat",
         "orientation": "v",
         "showlegend": true,
         "type": "scatter",
         "x": [
          52.03,
          50.12,
          54.21,
          50.57,
          51.01,
          52.27,
          54.55,
          51.51,
          54.07,
          53.48,
          52.06,
          34.77,
          46.31,
          47.72,
          41.67,
          44.57,
          42.54,
          43.72,
          41.75,
          45.14,
          43.5,
          43.75,
          42.19,
          46.31,
          42.9,
          36.33,
          27.52,
          44.26
         ],
         "xaxis": "x",
         "y": [
          2.88,
          4.77,
          4.58,
          3.7,
          6.29,
          4.91,
          4.68,
          3.46,
          5.35,
          6.64,
          7.59,
          12,
          14.58,
          1.41,
          4.09,
          6.31,
          5.15,
          4.2,
          5.96,
          5.45,
          7.53,
          5.71,
          5.82,
          6.04,
          5.39,
          25.94,
          11.62,
          4.54
         ],
         "yaxis": "y"
        },
        {
         "customdata": [
          [
           "Rural"
          ],
          [
           "Rural"
          ],
          [
           "Rural"
          ],
          [
           "Rural"
          ],
          [
           "Rural"
          ],
          [
           "Rural"
          ],
          [
           "Rural"
          ],
          [
           "Rural"
          ],
          [
           "Rural"
          ],
          [
           "Rural"
          ],
          [
           "Rural"
          ],
          [
           "Rural"
          ],
          [
           "Rural"
          ],
          [
           "Rural"
          ],
          [
           "Urban"
          ],
          [
           "Urban"
          ],
          [
           "Urban"
          ],
          [
           "Urban"
          ],
          [
           "Urban"
          ],
          [
           "Urban"
          ],
          [
           "Urban"
          ],
          [
           "Urban"
          ],
          [
           "Urban"
          ],
          [
           "Urban"
          ],
          [
           "Urban"
          ],
          [
           "Urban"
          ],
          [
           "Urban"
          ],
          [
           "Urban"
          ]
         ],
         "hovertemplate": "Region=Haryana<br>Labour_Participation_Rate=%{x}<br>Unemployment_Rate=%{y}<br>Employed_Rate=%{marker.size}<br>Area=%{customdata[0]}<extra></extra>",
         "legendgroup": "Haryana",
         "marker": {
          "color": "#B6E880",
          "size": [
           5249186,
           4745178,
           4826560,
           4558306,
           5127956,
           4798833,
           4875763,
           4603484,
           5062293,
           4570108,
           4366148,
           4041050,
           3914193,
           4357835,
           2693596,
           2845190,
           2405973,
           2523005,
           2675862,
           2821456,
           2404239,
           2548835,
           2630938,
           2752834,
           2275407,
           1606580,
           2013083,
           2304138
          ],
          "sizemode": "area",
          "sizeref": 114443.7725,
          "symbol": "circle"
         },
         "mode": "markers",
         "name": "Haryana",
         "orientation": "v",
         "showlegend": true,
         "type": "scatter",
         "x": [
          45.12,
          45.23,
          42.17,
          48.23,
          44.72,
          46.07,
          42.48,
          47.4,
          43.74,
          45.37,
          41.4,
          49.85,
          42.78,
          48.53,
          43.18,
          43.06,
          38.77,
          39.87,
          43.7,
          42.58,
          39.18,
          39.57,
          42.75,
          42.32,
          36.73,
          35.48,
          38.27,
          38.09
         ],
         "xaxis": "x",
         "y": [
          14.54,
          23.08,
          16.22,
          30.94,
          16.36,
          24.17,
          16.59,
          29.56,
          16.21,
          27.19,
          23.92,
          41.61,
          34.22,
          35.57,
          24.67,
          20.42,
          25.45,
          24.19,
          26.84,
          21.04,
          27.06,
          23.65,
          27.24,
          23.29,
          27.14,
          46.89,
          38.46,
          29.41
         ],
         "yaxis": "y"
        },
        {
         "customdata": [
          [
           "Rural"
          ],
          [
           "Rural"
          ],
          [
           "Rural"
          ],
          [
           "Rural"
          ],
          [
           "Rural"
          ],
          [
           "Rural"
          ],
          [
           "Rural"
          ],
          [
           "Rural"
          ],
          [
           "Rural"
          ],
          [
           "Rural"
          ],
          [
           "Rural"
          ],
          [
           "Rural"
          ],
          [
           "Rural"
          ],
          [
           "Rural"
          ],
          [
           "Urban"
          ],
          [
           "Urban"
          ],
          [
           "Urban"
          ],
          [
           "Urban"
          ],
          [
           "Urban"
          ],
          [
           "Urban"
          ],
          [
           "Urban"
          ],
          [
           "Urban"
          ],
          [
           "Urban"
          ],
          [
           "Urban"
          ],
          [
           "Urban"
          ],
          [
           "Urban"
          ],
          [
           "Urban"
          ],
          [
           "Urban"
          ]
         ],
         "hovertemplate": "Region=Himachal Pradesh<br>Labour_Participation_Rate=%{x}<br>Unemployment_Rate=%{y}<br>Employed_Rate=%{marker.size}<br>Area=%{customdata[0]}<extra></extra>",
         "legendgroup": "Himachal Pradesh",
         "marker": {
          "color": "#FF97FF",
          "size": [
           2045760,
           1957081,
           1916824,
           1969248,
           2039804,
           1946957,
           2024409,
           1922821,
           2041035,
           1952464,
           1800426,
           984171,
           1732050,
           2230075,
           245668,
           237576,
           235894,
           236315,
           247210,
           232322,
           233029,
           241366,
           246596,
           227804,
           221432,
           146957,
           134868,
           224902
          ],
          "sizemode": "area",
          "sizeref": 114443.7725,
          "symbol": "circle"
         },
         "mode": "markers",
         "name": "Himachal Pradesh",
         "orientation": "v",
         "showlegend": true,
         "type": "scatter",
         "x": [
          44.23,
          41.18,
          44.91,
          44.91,
          45.02,
          42.81,
          48.5,
          44.05,
          45.11,
          42.45,
          40.17,
          18.43,
          42.62,
          41.2,
          45.27,
          49.58,
          49.22,
          51.17,
          45.87,
          49.69,
          52.17,
          52.55,
          48.92,
          50.82,
          48.74,
          24.42,
          43.55,
          40.66
         ],
         "xaxis": "x",
         "y": [
          13.68,
          11.43,
          20.59,
          18.56,
          15.98,
          15.81,
          22.86,
          19.46,
          16.67,
          15.42,
          17.71,
          2.13,
          25.64,
          1.12,
          10.88,
          21.43,
          21.51,
          24.48,
          12,
          23.77,
          27.27,
          25.32,
          18.15,
          27.31,
          26.44,
          2.7,
          50,
          10.81
         ],
         "yaxis": "y"
        },
        {
         "customdata": [
          [
           "Rural"
          ],
          [
           "Rural"
          ],
          [
           "Rural"
          ],
          [
           "Rural"
          ],
          [
           "Rural"
          ],
          [
           "Rural"
          ],
          [
           "Rural"
          ],
          [
           "Rural"
          ],
          [
           "Rural"
          ],
          [
           "Rural"
          ],
          [
           "Rural"
          ],
          [
           "Urban"
          ],
          [
           "Urban"
          ],
          [
           "Urban"
          ],
          [
           "Urban"
          ],
          [
           "Urban"
          ],
          [
           "Urban"
          ],
          [
           "Urban"
          ],
          [
           "Urban"
          ],
          [
           "Urban"
          ],
          [
           "Urban"
          ]
         ],
         "hovertemplate": "Region=Jammu & Kashmir<br>Labour_Participation_Rate=%{x}<br>Unemployment_Rate=%{y}<br>Employed_Rate=%{marker.size}<br>Area=%{customdata[0]}<extra></extra>",
         "legendgroup": "Jammu & Kashmir",
         "marker": {
          "color": "#FECB52",
          "size": [
           2495186,
           2423742,
           2549316,
           2778624,
           2477621,
           2415724,
           2373488,
           2163397,
           2361004,
           2716966,
           2049617,
           1130139,
           1139815,
           1183770,
           1029087,
           1226793,
           1209085,
           1079537,
           1060116,
           998103,
           937435
          ],
          "sizemode": "area",
          "sizeref": 114443.7725,
          "symbol": "circle"
         },
         "mode": "markers",
         "name": "Jammu & Kashmir",
         "orientation": "v",
         "showlegend": true,
         "type": "scatter",
         "x": [
          40.57,
          39.02,
          41.71,
          44.17,
          43.08,
          39.69,
          42.56,
          38.25,
          39.06,
          38.46,
          34.94,
          46.74,
          45.17,
          47.8,
          42.63,
          44.92,
          40.71,
          41.4,
          41.23,
          36.21,
          33.33
         ],
         "xaxis": "x",
         "y": [
          12.78,
          12.09,
          13.67,
          11.32,
          19.27,
          14.73,
          22.19,
          21.23,
          16,
          2.22,
          18.97,
          23.04,
          19.88,
          21.55,
          24.06,
          14.29,
          7.02,
          18.54,
          19.86,
          14.29,
          12.96
         ],
         "yaxis": "y"
        },
        {
         "customdata": [
          [
           "Rural"
          ],
          [
           "Rural"
          ],
          [
           "Rural"
          ],
          [
           "Rural"
          ],
          [
           "Rural"
          ],
          [
           "Rural"
          ],
          [
           "Rural"
          ],
          [
           "Rural"
          ],
          [
           "Rural"
          ],
          [
           "Rural"
          ],
          [
           "Rural"
          ],
          [
           "Rural"
          ],
          [
           "Rural"
          ],
          [
           "Rural"
          ],
          [
           "Urban"
          ],
          [
           "Urban"
          ],
          [
           "Urban"
          ],
          [
           "Urban"
          ],
          [
           "Urban"
          ],
          [
           "Urban"
          ],
          [
           "Urban"
          ],
          [
           "Urban"
          ],
          [
           "Urban"
          ],
          [
           "Urban"
          ],
          [
           "Urban"
          ],
          [
           "Urban"
          ],
          [
           "Urban"
          ],
          [
           "Urban"
          ]
         ],
         "hovertemplate": "Region=Jharkhand<br>Labour_Participation_Rate=%{x}<br>Unemployment_Rate=%{y}<br>Employed_Rate=%{marker.size}<br>Area=%{customdata[0]}<extra></extra>",
         "legendgroup": "Jharkhand",
         "marker": {
          "color": "#636efa",
          "size": [
           7035766,
           7319782,
           6958404,
           7015356,
           7500122,
           7761243,
           7279628,
           6873437,
           7868736,
           7932402,
           7157454,
           4280434,
           3315038,
           6375114,
           2404033,
           2326911,
           2434579,
           2335406,
           2357627,
           2460196,
           2424281,
           2290170,
           2329293,
           2493023,
           2480661,
           1054829,
           830347,
           2244460
          ],
          "sizemode": "area",
          "sizeref": 114443.7725,
          "symbol": "circle"
         },
         "mode": "markers",
         "name": "Jharkhand",
         "orientation": "v",
         "showlegend": true,
         "type": "scatter",
         "x": [
          39.04,
          41.12,
          39.66,
          40.83,
          41.24,
          42.33,
          40.26,
          41.09,
          42.43,
          44.05,
          37.96,
          36.92,
          37.03,
          40.65,
          43.25,
          43.51,
          42.82,
          43.35,
          44.18,
          44.82,
          43.17,
          43.14,
          44.33,
          45.42,
          43.34,
          39.92,
          40.49,
          40.43
         ],
         "xaxis": "x",
         "y": [
          7.11,
          8.46,
          9.98,
          12.06,
          7.12,
          6.57,
          8.07,
          15.15,
          6.16,
          9.06,
          5.01,
          41.72,
          55.1,
          21.53,
          17.23,
          20.51,
          15.67,
          20.25,
          21.16,
          19.05,
          17.34,
          22.01,
          22.96,
          19.67,
          16.4,
          61.48,
          70.17,
          19.38
         ],
         "yaxis": "y"
        },
        {
         "customdata": [
          [
           "Rural"
          ],
          [
           "Rural"
          ],
          [
           "Rural"
          ],
          [
           "Rural"
          ],
          [
           "Rural"
          ],
          [
           "Rural"
          ],
          [
           "Rural"
          ],
          [
           "Rural"
          ],
          [
           "Rural"
          ],
          [
           "Rural"
          ],
          [
           "Rural"
          ],
          [
           "Rural"
          ],
          [
           "Rural"
          ],
          [
           "Rural"
          ],
          [
           "Urban"
          ],
          [
           "Urban"
          ],
          [
           "Urban"
          ],
          [
           "Urban"
          ],
          [
           "Urban"
          ],
          [
           "Urban"
          ],
          [
           "Urban"
          ],
          [
           "Urban"
          ],
          [
           "Urban"
          ],
          [
           "Urban"
          ],
          [
           "Urban"
          ],
          [
           "Urban"
          ],
          [
           "Urban"
          ],
          [
           "Urban"
          ]
         ],
         "hovertemplate": "Region=Karnataka<br>Labour_Participation_Rate=%{x}<br>Unemployment_Rate=%{y}<br>Employed_Rate=%{marker.size}<br>Area=%{customdata[0]}<extra></extra>",
         "legendgroup": "Karnataka",
         "marker": {
          "color": "#EF553B",
          "size": [
           13911440,
           12888490,
           12169808,
           12686470,
           13741892,
           12803527,
           11537217,
           12756132,
           13938874,
           12753657,
           12853818,
           9330400,
           10626328,
           15396213,
           8638239,
           8862498,
           8738029,
           8614340,
           8647794,
           8799249,
           8613835,
           8592376,
           8749154,
           8924061,
           9225835,
           7387995,
           8669258,
           8822411
          ],
          "sizemode": "area",
          "sizeref": 114443.7725,
          "symbol": "circle"
         },
         "mode": "markers",
         "name": "Karnataka",
         "orientation": "v",
         "showlegend": true,
         "type": "scatter",
         "x": [
          46.36,
          43.12,
          38.42,
          39.93,
          44.45,
          43.1,
          36.45,
          39.92,
          44.52,
          41.33,
          40.85,
          43.25,
          43.09,
          53.37,
          40.62,
          40.89,
          39.09,
          38.04,
          39,
          39.7,
          38.6,
          37.66,
          38.94,
          39.45,
          41.55,
          42.14,
          43.9,
          39.93
         ],
         "xaxis": "x",
         "y": [
          5.46,
          5.98,
          0.52,
          0.37,
          3.2,
          7.13,
          1.19,
          0.41,
          2.57,
          4.11,
          2.39,
          33.17,
          23.72,
          10.92,
          6.56,
          5,
          2.29,
          1.27,
          3.57,
          3.87,
          3.44,
          1.56,
          3.31,
          2.88,
          4.92,
          25.12,
          15.88,
          6.12
         ],
         "yaxis": "y"
        },
        {
         "customdata": [
          [
           "Rural"
          ],
          [
           "Rural"
          ],
          [
           "Rural"
          ],
          [
           "Rural"
          ],
          [
           "Rural"
          ],
          [
           "Rural"
          ],
          [
           "Rural"
          ],
          [
           "Rural"
          ],
          [
           "Rural"
          ],
          [
           "Rural"
          ],
          [
           "Rural"
          ],
          [
           "Rural"
          ],
          [
           "Rural"
          ],
          [
           "Rural"
          ],
          [
           "Urban"
          ],
          [
           "Urban"
          ],
          [
           "Urban"
          ],
          [
           "Urban"
          ],
          [
           "Urban"
          ],
          [
           "Urban"
          ],
          [
           "Urban"
          ],
          [
           "Urban"
          ],
          [
           "Urban"
          ],
          [
           "Urban"
          ],
          [
           "Urban"
          ],
          [
           "Urban"
          ],
          [
           "Urban"
          ],
          [
           "Urban"
          ]
         ],
         "hovertemplate": "Region=Kerala<br>Labour_Participation_Rate=%{x}<br>Unemployment_Rate=%{y}<br>Employed_Rate=%{marker.size}<br>Area=%{customdata[0]}<extra></extra>",
         "legendgroup": "Kerala",
         "marker": {
          "color": "#00cc96",
          "size": [
           5184355,
           5605627,
           4855393,
           5233449,
           5400499,
           5328825,
           4557906,
           5065804,
           5307026,
           5203579,
           4141953,
           1754170,
           3799919,
           3952088,
           4605913,
           4678374,
           4105211,
           4448650,
           4640642,
           4644510,
           4062767,
           4440283,
           4597507,
           4624444,
           4079775,
           2179106,
           2826118,
           4601293
          ],
          "sizemode": "area",
          "sizeref": 114443.7725,
          "symbol": "circle"
         },
         "mode": "markers",
         "name": "Kerala",
         "orientation": "v",
         "showlegend": true,
         "type": "scatter",
         "x": [
          38.07,
          42.19,
          34.96,
          39.9,
          38.97,
          40.02,
          32.71,
          38.67,
          37.66,
          38.84,
          30.87,
          13.33,
          33.62,
          37.01,
          36.65,
          37.42,
          33.13,
          35.91,
          36.57,
          36.49,
          32.36,
          35.56,
          36.53,
          36.48,
          33.24,
          20.51,
          29.95,
          38.68
         ],
         "xaxis": "x",
         "y": [
          6.63,
          9,
          4.95,
          10.32,
          5.35,
          9.14,
          5,
          10.77,
          4.11,
          8.91,
          8.85,
          10.71,
          23.38,
          27.66,
          6.11,
          6.67,
          7.58,
          7.69,
          5.52,
          5.35,
          6.71,
          7.31,
          6.65,
          6.08,
          9.14,
          21.43,
          30.28,
          12.17
         ],
         "yaxis": "y"
        },
        {
         "customdata": [
          [
           "Rural"
          ],
          [
           "Rural"
          ],
          [
           "Rural"
          ],
          [
           "Rural"
          ],
          [
           "Rural"
          ],
          [
           "Rural"
          ],
          [
           "Rural"
          ],
          [
           "Rural"
          ],
          [
           "Rural"
          ],
          [
           "Rural"
          ],
          [
           "Rural"
          ],
          [
           "Rural"
          ],
          [
           "Rural"
          ],
          [
           "Rural"
          ],
          [
           "Urban"
          ],
          [
           "Urban"
          ],
          [
           "Urban"
          ],
          [
           "Urban"
          ],
          [
           "Urban"
          ],
          [
           "Urban"
          ],
          [
           "Urban"
          ],
          [
           "Urban"
          ],
          [
           "Urban"
          ],
          [
           "Urban"
          ],
          [
           "Urban"
          ],
          [
           "Urban"
          ],
          [
           "Urban"
          ],
          [
           "Urban"
          ]
         ],
         "hovertemplate": "Region=Madhya Pradesh<br>Labour_Participation_Rate=%{x}<br>Unemployment_Rate=%{y}<br>Employed_Rate=%{marker.size}<br>Area=%{customdata[0]}<extra></extra>",
         "legendgroup": "Madhya Pradesh",
         "marker": {
          "color": "#ab63fa",
          "size": [
           15349838,
           16294794,
           16274707,
           16559137,
           16159315,
           17060638,
           16306428,
           16854647,
           16183702,
           16178044,
           16480441,
           14238959,
           13099601,
           16748971,
           6692720,
           6509340,
           6266446,
           6809834,
           6655967,
           6603715,
           6459457,
           6787403,
           6834930,
           6533435,
           6386723,
           4802873,
           3879934,
           6221562
          ],
          "sizemode": "area",
          "sizeref": 114443.7725,
          "symbol": "circle"
         },
         "mode": "markers",
         "name": "Madhya Pradesh",
         "orientation": "v",
         "showlegend": true,
         "type": "scatter",
         "x": [
          37.97,
          40.48,
          40.2,
          41.25,
          39.4,
          41.46,
          39.44,
          40.77,
          39.35,
          39.57,
          38.9,
          37.88,
          39.24,
          41.5,
          38.96,
          38.8,
          37.67,
          40.6,
          39.67,
          38.2,
          37.94,
          39.83,
          39.59,
          37.68,
          36.68,
          29.76,
          35.49,
          38.72
         ],
         "xaxis": "x",
         "y": [
          3.63,
          4.25,
          3.92,
          4.94,
          3.08,
          2.98,
          2.72,
          2.94,
          3.66,
          4.42,
          1.19,
          12.5,
          22.46,
          6.46,
          3.91,
          6.38,
          7.38,
          6.82,
          7,
          4.4,
          6.06,
          6.2,
          5.17,
          4.96,
          4.8,
          11.94,
          40.49,
          12.72
         ],
         "yaxis": "y"
        },
        {
         "customdata": [
          [
           "Rural"
          ],
          [
           "Rural"
          ],
          [
           "Rural"
          ],
          [
           "Rural"
          ],
          [
           "Rural"
          ],
          [
           "Rural"
          ],
          [
           "Rural"
          ],
          [
           "Rural"
          ],
          [
           "Rural"
          ],
          [
           "Rural"
          ],
          [
           "Rural"
          ],
          [
           "Rural"
          ],
          [
           "Rural"
          ],
          [
           "Rural"
          ],
          [
           "Urban"
          ],
          [
           "Urban"
          ],
          [
           "Urban"
          ],
          [
           "Urban"
          ],
          [
           "Urban"
          ],
          [
           "Urban"
          ],
          [
           "Urban"
          ],
          [
           "Urban"
          ],
          [
           "Urban"
          ],
          [
           "Urban"
          ],
          [
           "Urban"
          ],
          [
           "Urban"
          ],
          [
           "Urban"
          ],
          [
           "Urban"
          ]
         ],
         "hovertemplate": "Region=Maharashtra<br>Labour_Participation_Rate=%{x}<br>Unemployment_Rate=%{y}<br>Employed_Rate=%{marker.size}<br>Area=%{customdata[0]}<extra></extra>",
         "legendgroup": "Maharashtra",
         "marker": {
          "color": "#FFA15A",
          "size": [
           23896858,
           23056511,
           24843750,
           26835389,
           25219281,
           24330249,
           24881383,
           26357625,
           25881398,
           25293535,
           23130976,
           15014802,
           18423447,
           23601016,
           16962574,
           17375053,
           17215677,
           16602767,
           17396398,
           17221991,
           17486683,
           16581144,
           16715470,
           17122782,
           17065830,
           12674451,
           12365754,
           16172690
          ],
          "sizemode": "area",
          "sizeref": 114443.7725,
          "symbol": "circle"
         },
         "mode": "markers",
         "name": "Maharashtra",
         "orientation": "v",
         "showlegend": true,
         "type": "scatter",
         "x": [
          47.11,
          45.69,
          48.8,
          52.67,
          49.74,
          47.61,
          48.53,
          50.98,
          50.36,
          49.36,
          45.6,
          37.42,
          41.21,
          48.34,
          38.3,
          39.3,
          38.81,
          37.84,
          39.58,
          39.05,
          39.61,
          37.57,
          37.32,
          37.61,
          37.8,
          30.86,
          30.38,
          37.04
         ],
         "xaxis": "x",
         "y": [
          3.67,
          4.34,
          3.66,
          3.76,
          4.4,
          3.81,
          3.68,
          3.03,
          3.8,
          4.24,
          5.38,
          25.28,
          16.89,
          9.4,
          6.08,
          6.46,
          6.35,
          7.57,
          7.6,
          7.51,
          7.6,
          7.83,
          6.67,
          5.34,
          6.34,
          14.99,
          15.92,
          10.01
         ],
         "yaxis": "y"
        },
        {
         "customdata": [
          [
           "Rural"
          ],
          [
           "Rural"
          ],
          [
           "Rural"
          ],
          [
           "Rural"
          ],
          [
           "Rural"
          ],
          [
           "Rural"
          ],
          [
           "Rural"
          ],
          [
           "Rural"
          ],
          [
           "Rural"
          ],
          [
           "Rural"
          ],
          [
           "Rural"
          ],
          [
           "Rural"
          ],
          [
           "Rural"
          ],
          [
           "Rural"
          ],
          [
           "Urban"
          ],
          [
           "Urban"
          ],
          [
           "Urban"
          ],
          [
           "Urban"
          ],
          [
           "Urban"
          ],
          [
           "Urban"
          ],
          [
           "Urban"
          ],
          [
           "Urban"
          ],
          [
           "Urban"
          ],
          [
           "Urban"
          ],
          [
           "Urban"
          ],
          [
           "Urban"
          ],
          [
           "Urban"
          ]
         ],
         "hovertemplate": "Region=Meghalaya<br>Labour_Participation_Rate=%{x}<br>Unemployment_Rate=%{y}<br>Employed_Rate=%{marker.size}<br>Area=%{customdata[0]}<extra></extra>",
         "legendgroup": "Meghalaya",
         "marker": {
          "color": "#19d3f3",
          "size": [
           1119011,
           1024797,
           1158511,
           1065725,
           1162159,
           1080609,
           1205703,
           1102997,
           1229406,
           1112864,
           1192616,
           803118,
           992148,
           1150200,
           228978,
           231252,
           284015,
           259433,
           253887,
           234375,
           293431,
           267417,
           261687,
           233965,
           289735,
           161939,
           222916
          ],
          "sizemode": "area",
          "sizeref": 114443.7725,
          "symbol": "circle"
         },
         "mode": "markers",
         "name": "Meghalaya",
         "orientation": "v",
         "showlegend": true,
         "type": "scatter",
         "x": [
          66.13,
          61.09,
          66.67,
          60.86,
          66.02,
          63.44,
          69.03,
          63.18,
          69.66,
          64.06,
          67.46,
          48.83,
          57.26,
          64.63,
          47.79,
          48.29,
          56.55,
          52.27,
          50.77,
          47.71,
          57.02,
          53.04,
          51.53,
          47.26,
          55.64,
          36.51,
          48.48
         ],
         "xaxis": "x",
         "y": [
          3.16,
          4.23,
          1.03,
          0.52,
          0.24,
          3.7,
          1.5,
          1.8,
          0.97,
          2.76,
          1.28,
          8.38,
          3.73,
          1.35,
          8.4,
          8.66,
          4.43,
          5.8,
          5.3,
          7.2,
          3.02,
          5.21,
          4.76,
          7.37,
          2.8,
          17.39,
          14.58
         ],
         "yaxis": "y"
        },
        {
         "customdata": [
          [
           "Rural"
          ],
          [
           "Rural"
          ],
          [
           "Rural"
          ],
          [
           "Rural"
          ],
          [
           "Rural"
          ],
          [
           "Rural"
          ],
          [
           "Rural"
          ],
          [
           "Rural"
          ],
          [
           "Rural"
          ],
          [
           "Rural"
          ],
          [
           "Rural"
          ],
          [
           "Rural"
          ],
          [
           "Rural"
          ],
          [
           "Rural"
          ],
          [
           "Urban"
          ],
          [
           "Urban"
          ],
          [
           "Urban"
          ],
          [
           "Urban"
          ],
          [
           "Urban"
          ],
          [
           "Urban"
          ],
          [
           "Urban"
          ],
          [
           "Urban"
          ],
          [
           "Urban"
          ],
          [
           "Urban"
          ],
          [
           "Urban"
          ],
          [
           "Urban"
          ],
          [
           "Urban"
          ],
          [
           "Urban"
          ]
         ],
         "hovertemplate": "Region=Odisha<br>Labour_Participation_Rate=%{x}<br>Unemployment_Rate=%{y}<br>Employed_Rate=%{marker.size}<br>Area=%{customdata[0]}<extra></extra>",
         "legendgroup": "Odisha",
         "marker": {
          "color": "#FF6692",
          "size": [
           11155753,
           10965154,
           12009883,
           11727659,
           11167715,
           11621534,
           12192623,
           11345069,
           11182128,
           11842655,
           9814156,
           5562449,
           9683719,
           10187145,
           2519582,
           2356290,
           2542237,
           2456983,
           2570663,
           2456855,
           2594469,
           2369048,
           2561320,
           2438080,
           2457952,
           1303244,
           1975481,
           2221069
          ],
          "sizemode": "area",
          "sizeref": 114443.7725,
          "symbol": "circle"
         },
         "mode": "markers",
         "name": "Odisha",
         "orientation": "v",
         "showlegend": true,
         "type": "scatter",
         "x": [
          40.47,
          39.94,
          43.05,
          42.13,
          40.32,
          41.88,
          44.06,
          40.91,
          39.09,
          41.98,
          39.55,
          25.16,
          36.48,
          36.36,
          41.26,
          38.39,
          40.99,
          40.25,
          42.15,
          40.51,
          41.71,
          38.46,
          41.05,
          38.97,
          39.93,
          25.53,
          34.12,
          35.24
         ],
         "xaxis": "x",
         "y": [
          4.17,
          4.71,
          3.31,
          3.68,
          4.31,
          4.28,
          4.72,
          4.67,
          1.81,
          3.31,
          15.09,
          24.48,
          9.45,
          4.59,
          2.95,
          2.63,
          1.78,
          3.5,
          3.78,
          4.5,
          2.23,
          3.36,
          2.28,
          2.19,
          3.96,
          20.5,
          10,
          2.18
         ],
         "yaxis": "y"
        },
        {
         "customdata": [
          [
           "Rural"
          ],
          [
           "Rural"
          ],
          [
           "Rural"
          ],
          [
           "Rural"
          ],
          [
           "Rural"
          ],
          [
           "Rural"
          ],
          [
           "Rural"
          ],
          [
           "Rural"
          ],
          [
           "Rural"
          ],
          [
           "Rural"
          ],
          [
           "Rural"
          ],
          [
           "Rural"
          ],
          [
           "Urban"
          ],
          [
           "Urban"
          ],
          [
           "Urban"
          ],
          [
           "Urban"
          ],
          [
           "Urban"
          ],
          [
           "Urban"
          ],
          [
           "Urban"
          ],
          [
           "Urban"
          ],
          [
           "Urban"
          ],
          [
           "Urban"
          ],
          [
           "Urban"
          ],
          [
           "Urban"
          ],
          [
           "Urban"
          ],
          [
           "Urban"
          ]
         ],
         "hovertemplate": "Region=Puducherry<br>Labour_Participation_Rate=%{x}<br>Unemployment_Rate=%{y}<br>Employed_Rate=%{marker.size}<br>Area=%{customdata[0]}<extra></extra>",
         "legendgroup": "Puducherry",
         "marker": {
          "color": "#B6E880",
          "size": [
           172474,
           184527,
           139227,
           183930,
           175718,
           180283,
           142787,
           180808,
           176252,
           183619,
           142176,
           49420,
           283905,
           304369,
           281117,
           312882,
           286573,
           312548,
           275003,
           313135,
           281698,
           310342,
           278851,
           68122,
           64538,
           234926
          ],
          "sizemode": "area",
          "sizeref": 114443.7725,
          "symbol": "circle"
         },
         "mode": "markers",
         "name": "Puducherry",
         "orientation": "v",
         "showlegend": true,
         "type": "scatter",
         "x": [
          43.08,
          45.95,
          34.56,
          47.83,
          43.34,
          44.85,
          35,
          45.07,
          43.18,
          45.38,
          35.23,
          46.79,
          35.71,
          37.73,
          34.77,
          42.41,
          35.73,
          38.86,
          34.19,
          40.42,
          34.59,
          38.5,
          34.12,
          35.54,
          31.25,
          29.73
         ],
         "xaxis": "x",
         "y": [
          0,
          0,
          0,
          4.85,
          0,
          1.18,
          0,
          1.99,
          0.58,
          1.74,
          2.31,
          74.51,
          1.25,
          0,
          0,
          8.95,
          1.22,
          1.17,
          1.37,
          5.21,
          0.57,
          1.78,
          0.62,
          76.74,
          75,
          4.55
         ],
         "yaxis": "y"
        },
        {
         "customdata": [
          [
           "Rural"
          ],
          [
           "Rural"
          ],
          [
           "Rural"
          ],
          [
           "Rural"
          ],
          [
           "Rural"
          ],
          [
           "Rural"
          ],
          [
           "Rural"
          ],
          [
           "Rural"
          ],
          [
           "Rural"
          ],
          [
           "Rural"
          ],
          [
           "Rural"
          ],
          [
           "Rural"
          ],
          [
           "Rural"
          ],
          [
           "Rural"
          ],
          [
           "Urban"
          ],
          [
           "Urban"
          ],
          [
           "Urban"
          ],
          [
           "Urban"
          ],
          [
           "Urban"
          ],
          [
           "Urban"
          ],
          [
           "Urban"
          ],
          [
           "Urban"
          ],
          [
           "Urban"
          ],
          [
           "Urban"
          ],
          [
           "Urban"
          ],
          [
           "Urban"
          ],
          [
           "Urban"
          ],
          [
           "Urban"
          ]
         ],
         "hovertemplate": "Region=Punjab<br>Labour_Participation_Rate=%{x}<br>Unemployment_Rate=%{y}<br>Employed_Rate=%{marker.size}<br>Area=%{customdata[0]}<extra></extra>",
         "legendgroup": "Punjab",
         "marker": {
          "color": "#FF97FF",
          "size": [
           6088547,
           6025235,
           6308129,
           6183427,
           6260971,
           6021921,
           6395022,
           6164215,
           6189471,
           6009820,
           6373692,
           4721590,
           3727366,
           5364047,
           3289918,
           3307798,
           3592442,
           3499863,
           3227178,
           3070438,
           3602243,
           3575778,
           3252622,
           3219227,
           3601793,
           2298975,
           2682658,
           3047750
          ],
          "sizemode": "area",
          "sizeref": 114443.7725,
          "symbol": "circle"
         },
         "mode": "markers",
         "name": "Punjab",
         "orientation": "v",
         "showlegend": true,
         "type": "scatter",
         "x": [
          44.79,
          45.79,
          46.5,
          44.08,
          45.49,
          45.66,
          45.55,
          43.4,
          45.22,
          44.19,
          46.85,
          32.2,
          41.14,
          43.9,
          40.03,
          40.02,
          42.62,
          41.61,
          39.97,
          37.1,
          41.82,
          42.17,
          39.04,
          37.82,
          41.29,
          23.95,
          34.71,
          34.96
         ],
         "xaxis": "x",
         "y": [
          9.17,
          12.21,
          9.64,
          6.69,
          8.59,
          12.56,
          7.07,
          6.13,
          9.69,
          10.41,
          10.51,
          3.69,
          40.59,
          20,
          13.49,
          13.17,
          11.61,
          11.99,
          15.69,
          13.75,
          10.39,
          11.97,
          13.68,
          11.99,
          9.97,
          1.13,
          20.54,
          10.55
         ],
         "yaxis": "y"
        },
        {
         "customdata": [
          [
           "Rural"
          ],
          [
           "Rural"
          ],
          [
           "Rural"
          ],
          [
           "Rural"
          ],
          [
           "Rural"
          ],
          [
           "Rural"
          ],
          [
           "Rural"
          ],
          [
           "Rural"
          ],
          [
           "Rural"
          ],
          [
           "Rural"
          ],
          [
           "Rural"
          ],
          [
           "Rural"
          ],
          [
           "Rural"
          ],
          [
           "Rural"
          ],
          [
           "Urban"
          ],
          [
           "Urban"
          ],
          [
           "Urban"
          ],
          [
           "Urban"
          ],
          [
           "Urban"
          ],
          [
           "Urban"
          ],
          [
           "Urban"
          ],
          [
           "Urban"
          ],
          [
           "Urban"
          ],
          [
           "Urban"
          ],
          [
           "Urban"
          ],
          [
           "Urban"
          ],
          [
           "Urban"
          ],
          [
           "Urban"
          ]
         ],
         "hovertemplate": "Region=Rajasthan<br>Labour_Participation_Rate=%{x}<br>Unemployment_Rate=%{y}<br>Employed_Rate=%{marker.size}<br>Area=%{customdata[0]}<extra></extra>",
         "legendgroup": "Rajasthan",
         "marker": {
          "color": "#FECB52",
          "size": [
           15226005,
           14610564,
           14859873,
           15052051,
           15419779,
           15178544,
           15278556,
           15485307,
           15484353,
           15040572,
           15059769,
           13051219,
           15586833,
           16076978,
           5108436,
           5241174,
           5372470,
           5195170,
           5176819,
           5384335,
           5306715,
           5109481,
           5157363,
           5288343,
           4964911,
           2932923,
           4225486,
           5275784
          ],
          "sizemode": "area",
          "sizeref": 114443.7725,
          "symbol": "circle"
         },
         "mode": "markers",
         "name": "Rajasthan",
         "orientation": "v",
         "showlegend": true,
         "type": "scatter",
         "x": [
          38.52,
          41.02,
          39.78,
          41.48,
          39.24,
          42.69,
          40.87,
          43,
          40.12,
          41.83,
          39.47,
          35.21,
          41.11,
          43.98,
          39.44,
          40.73,
          40.38,
          40.34,
          39.15,
          40.8,
          40.73,
          40.9,
          41.59,
          41.62,
          39.71,
          29.57,
          36.71,
          39.26
         ],
         "xaxis": "x",
         "y": [
          4.03,
          13.7,
          9.7,
          12.5,
          5.45,
          14.66,
          10.47,
          13.96,
          8,
          14.48,
          9.47,
          12.25,
          10.45,
          13.86,
          13.62,
          14.36,
          11.67,
          14.71,
          12.63,
          13.02,
          14.3,
          18.04,
          18.82,
          17.02,
          18.54,
          35.53,
          25.35,
          13.04
         ],
         "yaxis": "y"
        },
        {
         "customdata": [
          [
           "Rural"
          ],
          [
           "Rural"
          ],
          [
           "Rural"
          ],
          [
           "Rural"
          ],
          [
           "Rural"
          ],
          [
           "Urban"
          ],
          [
           "Urban"
          ],
          [
           "Urban"
          ],
          [
           "Urban"
          ],
          [
           "Urban"
          ],
          [
           "Urban"
          ],
          [
           "Urban"
          ],
          [
           "Urban"
          ],
          [
           "Urban"
          ],
          [
           "Urban"
          ],
          [
           "Urban"
          ],
          [
           "Urban"
          ]
         ],
         "hovertemplate": "Region=Sikkim<br>Labour_Participation_Rate=%{x}<br>Unemployment_Rate=%{y}<br>Employed_Rate=%{marker.size}<br>Area=%{customdata[0]}<extra></extra>",
         "legendgroup": "Sikkim",
         "marker": {
          "color": "#636efa",
          "size": [
           146688,
           162426,
           161647,
           133399,
           141313,
           89587,
           89702,
           108334,
           90850,
           89450,
           87974,
           107751,
           88035,
           86186,
           81905,
           75456,
           76269
          ],
          "sizemode": "area",
          "sizeref": 114443.7725,
          "symbol": "circle"
         },
         "mode": "markers",
         "name": "Sikkim",
         "orientation": "v",
         "showlegend": true,
         "type": "scatter",
         "x": [
          44.06,
          53.04,
          46.3,
          37.72,
          42.36,
          48.61,
          48.13,
          54.67,
          46.63,
          45.61,
          46.97,
          53.8,
          45.24,
          50.57,
          40.31,
          43.32,
          35.85
         ],
         "xaxis": "x",
         "y": [
          5.48,
          13.11,
          1,
          0,
          5.81,
          8.2,
          7.76,
          2.56,
          4.82,
          4.81,
          9.68,
          4.04,
          7.37,
          20.45,
          5.77,
          19.75,
          2.63
         ],
         "yaxis": "y"
        },
        {
         "customdata": [
          [
           "Rural"
          ],
          [
           "Rural"
          ],
          [
           "Rural"
          ],
          [
           "Rural"
          ],
          [
           "Rural"
          ],
          [
           "Rural"
          ],
          [
           "Rural"
          ],
          [
           "Rural"
          ],
          [
           "Rural"
          ],
          [
           "Rural"
          ],
          [
           "Rural"
          ],
          [
           "Rural"
          ],
          [
           "Rural"
          ],
          [
           "Rural"
          ],
          [
           "Urban"
          ],
          [
           "Urban"
          ],
          [
           "Urban"
          ],
          [
           "Urban"
          ],
          [
           "Urban"
          ],
          [
           "Urban"
          ],
          [
           "Urban"
          ],
          [
           "Urban"
          ],
          [
           "Urban"
          ],
          [
           "Urban"
          ],
          [
           "Urban"
          ],
          [
           "Urban"
          ],
          [
           "Urban"
          ],
          [
           "Urban"
          ]
         ],
         "hovertemplate": "Region=Tamil Nadu<br>Labour_Participation_Rate=%{x}<br>Unemployment_Rate=%{y}<br>Employed_Rate=%{marker.size}<br>Area=%{customdata[0]}<extra></extra>",
         "legendgroup": "Tamil Nadu",
         "marker": {
          "color": "#EF553B",
          "size": [
           15844698,
           16375303,
           16455928,
           16463931,
           14595441,
           15595647,
           16223430,
           15356938,
           14954646,
           15828488,
           15848590,
           5086200,
           5768342,
           10169115,
           11798080,
           12318745,
           12054414,
           11933093,
           11902824,
           12223948,
           11729952,
           12260389,
           11926995,
           11742101,
           10982178,
           4632967,
           5733921,
           7741005
          ],
          "sizemode": "area",
          "sizeref": 114443.7725,
          "symbol": "circle"
         },
         "mode": "markers",
         "name": "Tamil Nadu",
         "orientation": "v",
         "showlegend": true,
         "type": "scatter",
         "x": [
          49.44,
          50.99,
          53.94,
          52.17,
          45.62,
          48.55,
          50.95,
          48.8,
          46.23,
          48.86,
          51.56,
          33.05,
          28.6,
          31.49,
          37.31,
          39.16,
          38.89,
          41.13,
          37.76,
          38.42,
          37.38,
          41.29,
          37.64,
          37.48,
          36.17,
          26.17,
          23.77,
          31.6
         ],
         "xaxis": "x",
         "y": [
          0.97,
          0.92,
          6.01,
          2.91,
          1.71,
          1.46,
          2.46,
          3.73,
          1.18,
          1.17,
          6.36,
          53.19,
          38.73,
          2.06,
          0.89,
          1.56,
          3.18,
          9.53,
          1.86,
          1.13,
          2.65,
          8.05,
          2.05,
          3.31,
          6.46,
          45.55,
          25.95,
          24.93
         ],
         "yaxis": "y"
        },
        {
         "customdata": [
          [
           "Rural"
          ],
          [
           "Rural"
          ],
          [
           "Rural"
          ],
          [
           "Rural"
          ],
          [
           "Rural"
          ],
          [
           "Rural"
          ],
          [
           "Rural"
          ],
          [
           "Rural"
          ],
          [
           "Rural"
          ],
          [
           "Rural"
          ],
          [
           "Rural"
          ],
          [
           "Rural"
          ],
          [
           "Rural"
          ],
          [
           "Rural"
          ],
          [
           "Urban"
          ],
          [
           "Urban"
          ],
          [
           "Urban"
          ],
          [
           "Urban"
          ],
          [
           "Urban"
          ],
          [
           "Urban"
          ],
          [
           "Urban"
          ],
          [
           "Urban"
          ],
          [
           "Urban"
          ],
          [
           "Urban"
          ],
          [
           "Urban"
          ],
          [
           "Urban"
          ],
          [
           "Urban"
          ],
          [
           "Urban"
          ]
         ],
         "hovertemplate": "Region=Telangana<br>Labour_Participation_Rate=%{x}<br>Unemployment_Rate=%{y}<br>Employed_Rate=%{marker.size}<br>Area=%{customdata[0]}<extra></extra>",
         "legendgroup": "Telangana",
         "marker": {
          "color": "#00cc96",
          "size": [
           11053353,
           10728822,
           11538688,
           10743959,
           12636415,
           11375354,
           11265828,
           11068056,
           12065915,
           11304474,
           12028377,
           8793799,
           7508747,
           8891181,
           5560649,
           5683349,
           5432503,
           5544693,
           5668785,
           5318341,
           5338119,
           5317782,
           5543380,
           5521496,
           5313236,
           3378431,
           3108830,
           4577995
          ],
          "sizemode": "area",
          "sizeref": 114443.7725,
          "symbol": "circle"
         },
         "mode": "markers",
         "name": "Telangana",
         "orientation": "v",
         "showlegend": true,
         "type": "scatter",
         "x": [
          61.74,
          62.19,
          64.4,
          59.23,
          72.57,
          66.49,
          65.17,
          60.61,
          68.51,
          66.92,
          68.53,
          49.44,
          61,
          58.97,
          44.59,
          45.43,
          44.36,
          45.39,
          47.28,
          44.51,
          43.87,
          43.13,
          45.95,
          45.78,
          43.65,
          29.05,
          37.63,
          37.68
         ],
         "xaxis": "x",
         "y": [
          2.23,
          5.92,
          2.45,
          1.4,
          5.49,
          7.29,
          6.47,
          1.35,
          5.02,
          9.02,
          5.63,
          4.51,
          34.01,
          19.3,
          1.52,
          1.43,
          3.73,
          4.19,
          6.19,
          6.74,
          5.23,
          4.22,
          6.49,
          6.74,
          6.1,
          10.5,
          36.57,
          6.92
         ],
         "yaxis": "y"
        },
        {
         "customdata": [
          [
           "Rural"
          ],
          [
           "Rural"
          ],
          [
           "Rural"
          ],
          [
           "Rural"
          ],
          [
           "Rural"
          ],
          [
           "Rural"
          ],
          [
           "Rural"
          ],
          [
           "Rural"
          ],
          [
           "Rural"
          ],
          [
           "Rural"
          ],
          [
           "Rural"
          ],
          [
           "Rural"
          ],
          [
           "Rural"
          ],
          [
           "Rural"
          ],
          [
           "Urban"
          ],
          [
           "Urban"
          ],
          [
           "Urban"
          ],
          [
           "Urban"
          ],
          [
           "Urban"
          ],
          [
           "Urban"
          ],
          [
           "Urban"
          ],
          [
           "Urban"
          ],
          [
           "Urban"
          ],
          [
           "Urban"
          ],
          [
           "Urban"
          ],
          [
           "Urban"
          ],
          [
           "Urban"
          ],
          [
           "Urban"
          ]
         ],
         "hovertemplate": "Region=Tripura<br>Labour_Participation_Rate=%{x}<br>Unemployment_Rate=%{y}<br>Employed_Rate=%{marker.size}<br>Area=%{customdata[0]}<extra></extra>",
         "legendgroup": "Tripura",
         "marker": {
          "color": "#ab63fa",
          "size": [
           1019549,
           1107013,
           1052597,
           975501,
           1034408,
           1113764,
           1084633,
           1046878,
           1057975,
           1169347,
           1060946,
           675083,
           911789,
           1106978,
           423127,
           408738,
           410583,
           368977,
           418043,
           414808,
           427700,
           399427,
           450155,
           415339,
           450271,
           296431,
           384999,
           391015
          ],
          "sizemode": "area",
          "sizeref": 114443.7725,
          "symbol": "circle"
         },
         "mode": "markers",
         "name": "Tripura",
         "orientation": "v",
         "showlegend": true,
         "type": "scatter",
         "x": [
          64.47,
          67.4,
          60.54,
          58.29,
          65.9,
          68.21,
          64.29,
          63.02,
          68.61,
          69.88,
          68.28,
          52.63,
          46.9,
          59.74,
          69.5,
          58.8,
          59.1,
          59.07,
          66.9,
          60,
          62.14,
          63.41,
          72.26,
          66.04,
          63.56,
          47.65,
          48.31,
          56.17
         ],
         "xaxis": "x",
         "y": [
          29.25,
          26.64,
          22.47,
          25.49,
          30.23,
          27.54,
          25.25,
          26.53,
          31.91,
          26.22,
          31.61,
          43.64,
          14.71,
          18.84,
          34.69,
          25.59,
          25.81,
          33.45,
          33.57,
          26.67,
          27.15,
          33.48,
          34.37,
          33.88,
          25.69,
          34.88,
          16.78,
          27.47
         ],
         "yaxis": "y"
        },
        {
         "customdata": [
          [
           "Rural"
          ],
          [
           "Rural"
          ],
          [
           "Rural"
          ],
          [
           "Rural"
          ],
          [
           "Rural"
          ],
          [
           "Rural"
          ],
          [
           "Rural"
          ],
          [
           "Rural"
          ],
          [
           "Rural"
          ],
          [
           "Rural"
          ],
          [
           "Rural"
          ],
          [
           "Rural"
          ],
          [
           "Rural"
          ],
          [
           "Rural"
          ],
          [
           "Urban"
          ],
          [
           "Urban"
          ],
          [
           "Urban"
          ],
          [
           "Urban"
          ],
          [
           "Urban"
          ],
          [
           "Urban"
          ],
          [
           "Urban"
          ],
          [
           "Urban"
          ],
          [
           "Urban"
          ],
          [
           "Urban"
          ],
          [
           "Urban"
          ],
          [
           "Urban"
          ],
          [
           "Urban"
          ],
          [
           "Urban"
          ]
         ],
         "hovertemplate": "Region=Uttar Pradesh<br>Labour_Participation_Rate=%{x}<br>Unemployment_Rate=%{y}<br>Employed_Rate=%{marker.size}<br>Area=%{customdata[0]}<extra></extra>",
         "legendgroup": "Uttar Pradesh",
         "marker": {
          "color": "#FFA15A",
          "size": [
           43287808,
           42276572,
           42697000,
           43298746,
           44198762,
           42833265,
           43261530,
           44640087,
           45777509,
           44257432,
           43086706,
           39970677,
           38640999,
           41908909,
           13391244,
           13624452,
           13862431,
           13580241,
           13522970,
           13938303,
           14128888,
           13857200,
           13656250,
           13803099,
           13889632,
           10944379,
           11111486,
           13208724
          ],
          "sizemode": "area",
          "sizeref": 114443.7725,
          "symbol": "circle"
         },
         "mode": "markers",
         "name": "Uttar Pradesh",
         "orientation": "v",
         "showlegend": true,
         "type": "scatter",
         "x": [
          39.96,
          39.32,
          38.78,
          40.24,
          38.79,
          39.07,
          38.01,
          39.77,
          39.67,
          39.13,
          38.53,
          40.37,
          37.52,
          36.89,
          40.43,
          39.75,
          40.43,
          40.87,
          40.07,
          39.71,
          40.6,
          40.21,
          39.52,
          39.54,
          40,
          37.74,
          41.1,
          38.09
         ],
         "xaxis": "x",
         "y": [
          10.26,
          11.13,
          9.19,
          11.47,
          6.45,
          10.18,
          6.94,
          8.43,
          6.06,
          8.12,
          9.37,
          19.92,
          16.89,
          8.51,
          14.4,
          11.62,
          11.8,
          14.73,
          13.58,
          10.35,
          11.31,
          12.37,
          12.34,
          11.65,
          12.32,
          26.94,
          32.06,
          13.05
         ],
         "yaxis": "y"
        },
        {
         "customdata": [
          [
           "Rural"
          ],
          [
           "Rural"
          ],
          [
           "Rural"
          ],
          [
           "Rural"
          ],
          [
           "Rural"
          ],
          [
           "Rural"
          ],
          [
           "Rural"
          ],
          [
           "Rural"
          ],
          [
           "Rural"
          ],
          [
           "Rural"
          ],
          [
           "Rural"
          ],
          [
           "Rural"
          ],
          [
           "Rural"
          ],
          [
           "Urban"
          ],
          [
           "Urban"
          ],
          [
           "Urban"
          ],
          [
           "Urban"
          ],
          [
           "Urban"
          ],
          [
           "Urban"
          ],
          [
           "Urban"
          ],
          [
           "Urban"
          ],
          [
           "Urban"
          ],
          [
           "Urban"
          ],
          [
           "Urban"
          ],
          [
           "Urban"
          ],
          [
           "Urban"
          ],
          [
           "Urban"
          ]
         ],
         "hovertemplate": "Region=Uttarakhand<br>Labour_Participation_Rate=%{x}<br>Unemployment_Rate=%{y}<br>Employed_Rate=%{marker.size}<br>Area=%{customdata[0]}<extra></extra>",
         "legendgroup": "Uttarakhand",
         "marker": {
          "color": "#19d3f3",
          "size": [
           2108044,
           2021553,
           2000524,
           1911380,
           2157845,
           2027662,
           2007113,
           1947566,
           1986386,
           2057523,
           1972074,
           1915482,
           1675441,
           676797,
           906889,
           859900,
           823967,
           711150,
           925174,
           904903,
           844779,
           725253,
           963408,
           889245,
           748041,
           778590,
           989470
          ],
          "sizemode": "area",
          "sizeref": 114443.7725,
          "symbol": "circle"
         },
         "mode": "markers",
         "name": "Uttarakhand",
         "orientation": "v",
         "showlegend": true,
         "type": "scatter",
         "x": [
          37.47,
          37.01,
          36.97,
          35.39,
          38.79,
          36.9,
          36.73,
          35.19,
          35.69,
          37.16,
          35.04,
          33.94,
          32,
          26.33,
          33.54,
          32.48,
          31.21,
          27.51,
          33.87,
          33.61,
          31.65,
          27.55,
          35.11,
          33.33,
          29.59,
          32.27,
          35.61
         ],
         "xaxis": "x",
         "y": [
          1.63,
          4.65,
          5.74,
          6.11,
          3.47,
          4.83,
          5.56,
          4.52,
          4.17,
          4.85,
          3.66,
          3.57,
          10.71,
          9.17,
          4.69,
          6.94,
          7.43,
          9.62,
          4.72,
          6.34,
          7.39,
          8.92,
          5.28,
          8.15,
          13.18,
          17.36,
          5.08
         ],
         "yaxis": "y"
        },
        {
         "customdata": [
          [
           "Rural"
          ],
          [
           "Rural"
          ],
          [
           "Rural"
          ],
          [
           "Rural"
          ],
          [
           "Rural"
          ],
          [
           "Rural"
          ],
          [
           "Rural"
          ],
          [
           "Rural"
          ],
          [
           "Rural"
          ],
          [
           "Rural"
          ],
          [
           "Rural"
          ],
          [
           "Rural"
          ],
          [
           "Rural"
          ],
          [
           "Rural"
          ],
          [
           "Urban"
          ],
          [
           "Urban"
          ],
          [
           "Urban"
          ],
          [
           "Urban"
          ],
          [
           "Urban"
          ],
          [
           "Urban"
          ],
          [
           "Urban"
          ],
          [
           "Urban"
          ],
          [
           "Urban"
          ],
          [
           "Urban"
          ],
          [
           "Urban"
          ],
          [
           "Urban"
          ],
          [
           "Urban"
          ],
          [
           "Urban"
          ]
         ],
         "hovertemplate": "Region=West Bengal<br>Labour_Participation_Rate=%{x}<br>Unemployment_Rate=%{y}<br>Employed_Rate=%{marker.size}<br>Area=%{customdata[0]}<extra></extra>",
         "legendgroup": "West Bengal",
         "marker": {
          "color": "#FF6692",
          "size": [
           23452875,
           25543465,
           24857807,
           24924827,
           25610773,
           24353018,
           25630359,
           24906239,
           24612171,
           26093009,
           25097812,
           17639370,
           19115772,
           21225887,
           11306177,
           10611498,
           10779829,
           11456493,
           11158649,
           10563686,
           10768462,
           11335696,
           11208617,
           10871168,
           10806105,
           9299466,
           9240903,
           9088931
          ],
          "sizemode": "area",
          "sizeref": 114443.7725,
          "symbol": "circle"
         },
         "mode": "markers",
         "name": "West Bengal",
         "orientation": "v",
         "showlegend": true,
         "type": "scatter",
         "x": [
          46.41,
          50.36,
          48.78,
          48.79,
          49.87,
          48.09,
          50,
          48.47,
          48.3,
          49.51,
          49.18,
          39.27,
          42.53,
          40.44,
          46.37,
          43.51,
          44.38,
          46.77,
          45.74,
          43.25,
          43.44,
          45.97,
          45.39,
          44.09,
          43.34,
          41.2,
          40.67,
          37.57
         ],
         "xaxis": "x",
         "y": [
          6.02,
          5.85,
          5.62,
          5.58,
          5.26,
          6.78,
          5.83,
          5.79,
          6.79,
          3.78,
          7.02,
          18.32,
          18.43,
          4.94,
          7.25,
          7.38,
          7.91,
          7.27,
          7.79,
          7.83,
          6.61,
          7.24,
          7.27,
          7.55,
          6.67,
          15.63,
          15.22,
          9.86
         ],
         "yaxis": "y"
        },
        {
         "customdata": [
          [
           "Urban"
          ],
          [
           "Urban"
          ],
          [
           "Urban"
          ],
          [
           "Urban"
          ],
          [
           "Urban"
          ],
          [
           "Urban"
          ],
          [
           "Urban"
          ],
          [
           "Urban"
          ],
          [
           "Urban"
          ],
          [
           "Urban"
          ],
          [
           "Urban"
          ],
          [
           "Urban"
          ]
         ],
         "hovertemplate": "Region=Chandigarh<br>Labour_Participation_Rate=%{x}<br>Unemployment_Rate=%{y}<br>Employed_Rate=%{marker.size}<br>Area=%{customdata[0]}<extra></extra>",
         "legendgroup": "Chandigarh",
         "marker": {
          "color": "#B6E880",
          "size": [
           348042,
           337145,
           294379,
           328282,
           327239,
           330856,
           289593,
           311146,
           332062,
           316887,
           279839,
           306505
          ],
          "sizemode": "area",
          "sizeref": 114443.7725,
          "symbol": "circle"
         },
         "mode": "markers",
         "name": "Chandigarh",
         "orientation": "v",
         "showlegend": true,
         "type": "scatter",
         "x": [
          44.89,
          40.44,
          39.47,
          37.95,
          42.77,
          40.06,
          38.6,
          35.19,
          42.94,
          39.25,
          36.68,
          33.8
         ],
         "xaxis": "x",
         "y": [
          18.35,
          12.4,
          21.8,
          9.52,
          20.14,
          13.99,
          22.05,
          8.33,
          20,
          16.67,
          21.43,
          7.22
         ],
         "yaxis": "y"
        }
       ],
       "layout": {
        "autosize": true,
        "legend": {
         "itemsizing": "constant",
         "title": {
          "text": "Region"
         },
         "tracegroupgap": 0
        },
        "template": {
         "data": {
          "bar": [
           {
            "error_x": {
             "color": "#2a3f5f"
            },
            "error_y": {
             "color": "#2a3f5f"
            },
            "marker": {
             "line": {
              "color": "#E5ECF6",
              "width": 0.5
             },
             "pattern": {
              "fillmode": "overlay",
              "size": 10,
              "solidity": 0.2
             }
            },
            "type": "bar"
           }
          ],
          "barpolar": [
           {
            "marker": {
             "line": {
              "color": "#E5ECF6",
              "width": 0.5
             },
             "pattern": {
              "fillmode": "overlay",
              "size": 10,
              "solidity": 0.2
             }
            },
            "type": "barpolar"
           }
          ],
          "carpet": [
           {
            "aaxis": {
             "endlinecolor": "#2a3f5f",
             "gridcolor": "white",
             "linecolor": "white",
             "minorgridcolor": "white",
             "startlinecolor": "#2a3f5f"
            },
            "baxis": {
             "endlinecolor": "#2a3f5f",
             "gridcolor": "white",
             "linecolor": "white",
             "minorgridcolor": "white",
             "startlinecolor": "#2a3f5f"
            },
            "type": "carpet"
           }
          ],
          "choropleth": [
           {
            "colorbar": {
             "outlinewidth": 0,
             "ticks": ""
            },
            "type": "choropleth"
           }
          ],
          "contour": [
           {
            "colorbar": {
             "outlinewidth": 0,
             "ticks": ""
            },
            "colorscale": [
             [
              0,
              "#0d0887"
             ],
             [
              0.1111111111111111,
              "#46039f"
             ],
             [
              0.2222222222222222,
              "#7201a8"
             ],
             [
              0.3333333333333333,
              "#9c179e"
             ],
             [
              0.4444444444444444,
              "#bd3786"
             ],
             [
              0.5555555555555556,
              "#d8576b"
             ],
             [
              0.6666666666666666,
              "#ed7953"
             ],
             [
              0.7777777777777778,
              "#fb9f3a"
             ],
             [
              0.8888888888888888,
              "#fdca26"
             ],
             [
              1,
              "#f0f921"
             ]
            ],
            "type": "contour"
           }
          ],
          "contourcarpet": [
           {
            "colorbar": {
             "outlinewidth": 0,
             "ticks": ""
            },
            "type": "contourcarpet"
           }
          ],
          "heatmap": [
           {
            "colorbar": {
             "outlinewidth": 0,
             "ticks": ""
            },
            "colorscale": [
             [
              0,
              "#0d0887"
             ],
             [
              0.1111111111111111,
              "#46039f"
             ],
             [
              0.2222222222222222,
              "#7201a8"
             ],
             [
              0.3333333333333333,
              "#9c179e"
             ],
             [
              0.4444444444444444,
              "#bd3786"
             ],
             [
              0.5555555555555556,
              "#d8576b"
             ],
             [
              0.6666666666666666,
              "#ed7953"
             ],
             [
              0.7777777777777778,
              "#fb9f3a"
             ],
             [
              0.8888888888888888,
              "#fdca26"
             ],
             [
              1,
              "#f0f921"
             ]
            ],
            "type": "heatmap"
           }
          ],
          "heatmapgl": [
           {
            "colorbar": {
             "outlinewidth": 0,
             "ticks": ""
            },
            "colorscale": [
             [
              0,
              "#0d0887"
             ],
             [
              0.1111111111111111,
              "#46039f"
             ],
             [
              0.2222222222222222,
              "#7201a8"
             ],
             [
              0.3333333333333333,
              "#9c179e"
             ],
             [
              0.4444444444444444,
              "#bd3786"
             ],
             [
              0.5555555555555556,
              "#d8576b"
             ],
             [
              0.6666666666666666,
              "#ed7953"
             ],
             [
              0.7777777777777778,
              "#fb9f3a"
             ],
             [
              0.8888888888888888,
              "#fdca26"
             ],
             [
              1,
              "#f0f921"
             ]
            ],
            "type": "heatmapgl"
           }
          ],
          "histogram": [
           {
            "marker": {
             "pattern": {
              "fillmode": "overlay",
              "size": 10,
              "solidity": 0.2
             }
            },
            "type": "histogram"
           }
          ],
          "histogram2d": [
           {
            "colorbar": {
             "outlinewidth": 0,
             "ticks": ""
            },
            "colorscale": [
             [
              0,
              "#0d0887"
             ],
             [
              0.1111111111111111,
              "#46039f"
             ],
             [
              0.2222222222222222,
              "#7201a8"
             ],
             [
              0.3333333333333333,
              "#9c179e"
             ],
             [
              0.4444444444444444,
              "#bd3786"
             ],
             [
              0.5555555555555556,
              "#d8576b"
             ],
             [
              0.6666666666666666,
              "#ed7953"
             ],
             [
              0.7777777777777778,
              "#fb9f3a"
             ],
             [
              0.8888888888888888,
              "#fdca26"
             ],
             [
              1,
              "#f0f921"
             ]
            ],
            "type": "histogram2d"
           }
          ],
          "histogram2dcontour": [
           {
            "colorbar": {
             "outlinewidth": 0,
             "ticks": ""
            },
            "colorscale": [
             [
              0,
              "#0d0887"
             ],
             [
              0.1111111111111111,
              "#46039f"
             ],
             [
              0.2222222222222222,
              "#7201a8"
             ],
             [
              0.3333333333333333,
              "#9c179e"
             ],
             [
              0.4444444444444444,
              "#bd3786"
             ],
             [
              0.5555555555555556,
              "#d8576b"
             ],
             [
              0.6666666666666666,
              "#ed7953"
             ],
             [
              0.7777777777777778,
              "#fb9f3a"
             ],
             [
              0.8888888888888888,
              "#fdca26"
             ],
             [
              1,
              "#f0f921"
             ]
            ],
            "type": "histogram2dcontour"
           }
          ],
          "mesh3d": [
           {
            "colorbar": {
             "outlinewidth": 0,
             "ticks": ""
            },
            "type": "mesh3d"
           }
          ],
          "parcoords": [
           {
            "line": {
             "colorbar": {
              "outlinewidth": 0,
              "ticks": ""
             }
            },
            "type": "parcoords"
           }
          ],
          "pie": [
           {
            "automargin": true,
            "type": "pie"
           }
          ],
          "scatter": [
           {
            "fillpattern": {
             "fillmode": "overlay",
             "size": 10,
             "solidity": 0.2
            },
            "type": "scatter"
           }
          ],
          "scatter3d": [
           {
            "line": {
             "colorbar": {
              "outlinewidth": 0,
              "ticks": ""
             }
            },
            "marker": {
             "colorbar": {
              "outlinewidth": 0,
              "ticks": ""
             }
            },
            "type": "scatter3d"
           }
          ],
          "scattercarpet": [
           {
            "marker": {
             "colorbar": {
              "outlinewidth": 0,
              "ticks": ""
             }
            },
            "type": "scattercarpet"
           }
          ],
          "scattergeo": [
           {
            "marker": {
             "colorbar": {
              "outlinewidth": 0,
              "ticks": ""
             }
            },
            "type": "scattergeo"
           }
          ],
          "scattergl": [
           {
            "marker": {
             "colorbar": {
              "outlinewidth": 0,
              "ticks": ""
             }
            },
            "type": "scattergl"
           }
          ],
          "scattermapbox": [
           {
            "marker": {
             "colorbar": {
              "outlinewidth": 0,
              "ticks": ""
             }
            },
            "type": "scattermapbox"
           }
          ],
          "scatterpolar": [
           {
            "marker": {
             "colorbar": {
              "outlinewidth": 0,
              "ticks": ""
             }
            },
            "type": "scatterpolar"
           }
          ],
          "scatterpolargl": [
           {
            "marker": {
             "colorbar": {
              "outlinewidth": 0,
              "ticks": ""
             }
            },
            "type": "scatterpolargl"
           }
          ],
          "scatterternary": [
           {
            "marker": {
             "colorbar": {
              "outlinewidth": 0,
              "ticks": ""
             }
            },
            "type": "scatterternary"
           }
          ],
          "surface": [
           {
            "colorbar": {
             "outlinewidth": 0,
             "ticks": ""
            },
            "colorscale": [
             [
              0,
              "#0d0887"
             ],
             [
              0.1111111111111111,
              "#46039f"
             ],
             [
              0.2222222222222222,
              "#7201a8"
             ],
             [
              0.3333333333333333,
              "#9c179e"
             ],
             [
              0.4444444444444444,
              "#bd3786"
             ],
             [
              0.5555555555555556,
              "#d8576b"
             ],
             [
              0.6666666666666666,
              "#ed7953"
             ],
             [
              0.7777777777777778,
              "#fb9f3a"
             ],
             [
              0.8888888888888888,
              "#fdca26"
             ],
             [
              1,
              "#f0f921"
             ]
            ],
            "type": "surface"
           }
          ],
          "table": [
           {
            "cells": {
             "fill": {
              "color": "#EBF0F8"
             },
             "line": {
              "color": "white"
             }
            },
            "header": {
             "fill": {
              "color": "#C8D4E3"
             },
             "line": {
              "color": "white"
             }
            },
            "type": "table"
           }
          ]
         },
         "layout": {
          "annotationdefaults": {
           "arrowcolor": "#2a3f5f",
           "arrowhead": 0,
           "arrowwidth": 1
          },
          "autotypenumbers": "strict",
          "coloraxis": {
           "colorbar": {
            "outlinewidth": 0,
            "ticks": ""
           }
          },
          "colorscale": {
           "diverging": [
            [
             0,
             "#8e0152"
            ],
            [
             0.1,
             "#c51b7d"
            ],
            [
             0.2,
             "#de77ae"
            ],
            [
             0.3,
             "#f1b6da"
            ],
            [
             0.4,
             "#fde0ef"
            ],
            [
             0.5,
             "#f7f7f7"
            ],
            [
             0.6,
             "#e6f5d0"
            ],
            [
             0.7,
             "#b8e186"
            ],
            [
             0.8,
             "#7fbc41"
            ],
            [
             0.9,
             "#4d9221"
            ],
            [
             1,
             "#276419"
            ]
           ],
           "sequential": [
            [
             0,
             "#0d0887"
            ],
            [
             0.1111111111111111,
             "#46039f"
            ],
            [
             0.2222222222222222,
             "#7201a8"
            ],
            [
             0.3333333333333333,
             "#9c179e"
            ],
            [
             0.4444444444444444,
             "#bd3786"
            ],
            [
             0.5555555555555556,
             "#d8576b"
            ],
            [
             0.6666666666666666,
             "#ed7953"
            ],
            [
             0.7777777777777778,
             "#fb9f3a"
            ],
            [
             0.8888888888888888,
             "#fdca26"
            ],
            [
             1,
             "#f0f921"
            ]
           ],
           "sequentialminus": [
            [
             0,
             "#0d0887"
            ],
            [
             0.1111111111111111,
             "#46039f"
            ],
            [
             0.2222222222222222,
             "#7201a8"
            ],
            [
             0.3333333333333333,
             "#9c179e"
            ],
            [
             0.4444444444444444,
             "#bd3786"
            ],
            [
             0.5555555555555556,
             "#d8576b"
            ],
            [
             0.6666666666666666,
             "#ed7953"
            ],
            [
             0.7777777777777778,
             "#fb9f3a"
            ],
            [
             0.8888888888888888,
             "#fdca26"
            ],
            [
             1,
             "#f0f921"
            ]
           ]
          },
          "colorway": [
           "#636efa",
           "#EF553B",
           "#00cc96",
           "#ab63fa",
           "#FFA15A",
           "#19d3f3",
           "#FF6692",
           "#B6E880",
           "#FF97FF",
           "#FECB52"
          ],
          "font": {
           "color": "#2a3f5f"
          },
          "geo": {
           "bgcolor": "white",
           "lakecolor": "white",
           "landcolor": "#E5ECF6",
           "showlakes": true,
           "showland": true,
           "subunitcolor": "white"
          },
          "hoverlabel": {
           "align": "left"
          },
          "hovermode": "closest",
          "mapbox": {
           "style": "light"
          },
          "paper_bgcolor": "white",
          "plot_bgcolor": "#E5ECF6",
          "polar": {
           "angularaxis": {
            "gridcolor": "white",
            "linecolor": "white",
            "ticks": ""
           },
           "bgcolor": "#E5ECF6",
           "radialaxis": {
            "gridcolor": "white",
            "linecolor": "white",
            "ticks": ""
           }
          },
          "scene": {
           "xaxis": {
            "backgroundcolor": "#E5ECF6",
            "gridcolor": "white",
            "gridwidth": 2,
            "linecolor": "white",
            "showbackground": true,
            "ticks": "",
            "zerolinecolor": "white"
           },
           "yaxis": {
            "backgroundcolor": "#E5ECF6",
            "gridcolor": "white",
            "gridwidth": 2,
            "linecolor": "white",
            "showbackground": true,
            "ticks": "",
            "zerolinecolor": "white"
           },
           "zaxis": {
            "backgroundcolor": "#E5ECF6",
            "gridcolor": "white",
            "gridwidth": 2,
            "linecolor": "white",
            "showbackground": true,
            "ticks": "",
            "zerolinecolor": "white"
           }
          },
          "shapedefaults": {
           "line": {
            "color": "#2a3f5f"
           }
          },
          "ternary": {
           "aaxis": {
            "gridcolor": "white",
            "linecolor": "white",
            "ticks": ""
           },
           "baxis": {
            "gridcolor": "white",
            "linecolor": "white",
            "ticks": ""
           },
           "bgcolor": "#E5ECF6",
           "caxis": {
            "gridcolor": "white",
            "linecolor": "white",
            "ticks": ""
           }
          },
          "title": {
           "x": 0.05
          },
          "xaxis": {
           "automargin": true,
           "gridcolor": "white",
           "linecolor": "white",
           "ticks": "",
           "title": {
            "standoff": 15
           },
           "zerolinecolor": "white",
           "zerolinewidth": 2
          },
          "yaxis": {
           "automargin": true,
           "gridcolor": "white",
           "linecolor": "white",
           "ticks": "",
           "title": {
            "standoff": 15
           },
           "zerolinecolor": "white",
           "zerolinewidth": 2
          }
         }
        },
        "title": {
         "text": "Relationship between Estimated Labor Participation Rate and Estimated Unemployment Rate"
        },
        "xaxis": {
         "anchor": "y",
         "autorange": true,
         "domain": [
          0,
          1
         ],
         "range": [
          9.741162777287883,
          76.57501864933624
         ],
         "title": {
          "text": "Labour_Participation_Rate"
         },
         "type": "linear"
        },
        "yaxis": {
         "anchor": "x",
         "autorange": true,
         "domain": [
          0,
          1
         ],
         "range": [
          -8.437725248309071,
          82.82412323202207
         ],
         "title": {
          "text": "Unemployment_Rate"
         },
         "type": "linear"
        }
       }
      },
      "image/png": "[encoded data removed]",
      "text/html": [
       "<div>                            <div id=\"c1546837-35b7-4749-bf77-b5126da36ced\" class=\"plotly-graph-div\" style=\"height:525px; width:100%;\"></div>            <script type=\"text/javascript\">                require([\"plotly\"], function(Plotly) {                    window.PLOTLYENV=window.PLOTLYENV || {};                                    if (document.getElementById(\"c1546837-35b7-4749-bf77-b5126da36ced\")) {                    Plotly.newPlot(                        \"c1546837-35b7-4749-bf77-b5126da36ced\",                        [{\"customdata\":[[\"Rural\"],[\"Rural\"],[\"Rural\"],[\"Rural\"],[\"Rural\"],[\"Rural\"],[\"Rural\"],[\"Rural\"],[\"Rural\"],[\"Rural\"],[\"Rural\"],[\"Rural\"],[\"Rural\"],[\"Rural\"],[\"Urban\"],[\"Urban\"],[\"Urban\"],[\"Urban\"],[\"Urban\"],[\"Urban\"],[\"Urban\"],[\"Urban\"],[\"Urban\"],[\"Urban\"],[\"Urban\"],[\"Urban\"],[\"Urban\"],[\"Urban\"]],\"hovertemplate\":\"Region=Andhra Pradesh\\u003cbr\\u003eLabour_Participation_Rate=%{x}\\u003cbr\\u003eUnemployment_Rate=%{y}\\u003cbr\\u003eEmployed_Rate=%{marker.size}\\u003cbr\\u003eArea=%{customdata[0]}\\u003cextra\\u003e\\u003c\\u002fextra\\u003e\",\"legendgroup\":\"Andhra Pradesh\",\"marker\":{\"color\":\"#636efa\",\"size\":[11999139.0,11755881.0,12086707.0,12285693.0,12256762.0,12017412.0,11397681.0,12528395.0,12016676.0,11723617.0,11359660.0,8792827.0,9526902.0,15572975.0,4788661.0,4824630.0,4657443.0,4743179.0,4733996.0,4774377.0,4668772.0,4913963.0,4618860.0,4822035.0,4521537.0,2544084.0,3428356.0,4954389.0],\"sizemode\":\"area\",\"sizeref\":114443.7725,\"symbol\":\"circle\"},\"mode\":\"markers\",\"name\":\"Andhra Pradesh\",\"orientation\":\"v\",\"showlegend\":true,\"x\":[43.24,42.05,43.5,43.97,44.68,43.01,41.0,45.14,43.46,42.83,40.66,36.03,38.16,53.76,37.45,36.76,36.1,36.29,36.69,36.41,36.62,38.61,35.91,36.84,36.08,26.97,32.69,37.61],\"xaxis\":\"x\",\"y\":[3.65,3.05,3.75,3.32,5.17,3.52,4.12,4.38,4.84,5.91,4.06,16.29,14.46,0.85,6.09,3.8,5.64,4.61,6.01,4.7,7.54,7.88,7.11,5.66,9.88,32.3,24.91,5.86],\"yaxis\":\"y\",\"type\":\"scatter\"},{\"customdata\":[[\"Rural\"],[\"Rural\"],[\"Rural\"],[\"Rural\"],[\"Rural\"],[\"Rural\"],[\"Rural\"],[\"Rural\"],[\"Rural\"],[\"Rural\"],[\"Rural\"],[\"Rural\"],[\"Urban\"],[\"Urban\"],[\"Urban\"],[\"Urban\"],[\"Urban\"],[\"Urban\"],[\"Urban\"],[\"Urban\"],[\"Urban\"],[\"Urban\"],[\"Urban\"],[\"Urban\"],[\"Urban\"],[\"Urban\"]],\"hovertemplate\":\"Region=Assam\\u003cbr\\u003eLabour_Participation_Rate=%{x}\\u003cbr\\u003eUnemployment_Rate=%{y}\\u003cbr\\u003eEmployed_Rate=%{marker.size}\\u003cbr\\u003eArea=%{customdata[0]}\\u003cextra\\u003e\\u003c\\u002fextra\\u003e\",\"legendgroup\":\"Assam\",\"marker\":{\"color\":\"#EF553B\",\"size\":[11749334.0,8923222.0,9911534.0,9292039.0,11468349.0,8395906.0,9625362.0,11420996.0,8462814.0,9878742.0,9926176.0,7544937.0,1671707.0,1647342.0,1739838.0,1595582.0,1576480.0,1595176.0,1708045.0,1722303.0,1630908.0,1625454.0,1664145.0,1454956.0,1441722.0,1551007.0],\"sizemode\":\"area\",\"sizeref\":114443.7725,\"symbol\":\"circle\"},\"mode\":\"markers\",\"name\":\"Assam\",\"orientation\":\"v\",\"showlegend\":true,\"x\":[57.39,43.87,48.21,45.83,55.67,40.76,46.64,54.9,40.17,47.05,50.0,34.38,44.92,45.17,44.32,43.81,42.66,44.01,44.59,44.26,42.82,43.9,45.03,38.45,39.04,38.73],\"xaxis\":\"x\",\"y\":[4.29,5.08,4.26,5.79,4.46,4.65,4.66,4.29,3.26,3.77,9.38,0.0,7.87,9.89,3.21,10.39,9.26,11.17,6.31,5.02,7.24,9.98,10.34,8.37,10.77,3.42],\"yaxis\":\"y\",\"type\":\"scatter\"},{\"customdata\":[[\"Rural\"],[\"Rural\"],[\"Rural\"],[\"Rural\"],[\"Rural\"],[\"Rural\"],[\"Rural\"],[\"Rural\"],[\"Rural\"],[\"Rural\"],[\"Rural\"],[\"Rural\"],[\"Rural\"],[\"Rural\"],[\"Urban\"],[\"Urban\"],[\"Urban\"],[\"Urban\"],[\"Urban\"],[\"Urban\"],[\"Urban\"],[\"Urban\"],[\"Urban\"],[\"Urban\"],[\"Urban\"],[\"Urban\"],[\"Urban\"],[\"Urban\"]],\"hovertemplate\":\"Region=Bihar\\u003cbr\\u003eLabour_Participation_Rate=%{x}\\u003cbr\\u003eUnemployment_Rate=%{y}\\u003cbr\\u003eEmployed_Rate=%{marker.size}\\u003cbr\\u003eArea=%{customdata[0]}\\u003cextra\\u003e\\u003c\\u002fextra\\u003e\",\"legendgroup\":\"Bihar\",\"marker\":{\"color\":\"#00cc96\",\"size\":[24322330.0,24097712.0,23248875.0,22260203.0,23905700.0,24053140.0,22445989.0,22914530.0,23409006.0,23168192.0,22667882.0,14645275.0,14050319.0,20622566.0,3029344.0,3248864.0,3059744.0,2994763.0,2992082.0,3173429.0,3081077.0,2977857.0,2988665.0,3113464.0,3049637.0,1400962.0,2207026.0,3124663.0],\"sizemode\":\"area\",\"sizeref\":114443.7725,\"symbol\":\"circle\"},\"mode\":\"markers\",\"name\":\"Bihar\",\"orientation\":\"v\",\"showlegend\":true,\"x\":[39.75,39.71,39.66,36.85,38.57,40.31,37.51,37.25,37.54,37.28,38.88,38.63,38.5,37.4,39.8,39.35,38.36,38.03,39.25,38.45,38.86,36.29,38.99,37.87,37.29,34.94,36.45,36.54],\"xaxis\":\"x\",\"y\":[9.27,10.2,13.44,11.0,8.87,12.47,12.4,10.16,9.13,9.61,15.39,45.09,47.26,20.49,19.9,13.29,16.41,17.66,20.46,14.06,17.62,14.91,20.69,15.11,15.73,58.77,37.87,12.45],\"yaxis\":\"y\",\"type\":\"scatter\"},{\"customdata\":[[\"Rural\"],[\"Rural\"],[\"Rural\"],[\"Rural\"],[\"Rural\"],[\"Rural\"],[\"Rural\"],[\"Rural\"],[\"Rural\"],[\"Rural\"],[\"Rural\"],[\"Rural\"],[\"Rural\"],[\"Rural\"],[\"Urban\"],[\"Urban\"],[\"Urban\"],[\"Urban\"],[\"Urban\"],[\"Urban\"],[\"Urban\"],[\"Urban\"],[\"Urban\"],[\"Urban\"],[\"Urban\"],[\"Urban\"],[\"Urban\"],[\"Urban\"]],\"hovertemplate\":\"Region=Chhattisgarh\\u003cbr\\u003eLabour_Participation_Rate=%{x}\\u003cbr\\u003eUnemployment_Rate=%{y}\\u003cbr\\u003eEmployed_Rate=%{marker.size}\\u003cbr\\u003eArea=%{customdata[0]}\\u003cextra\\u003e\\u003c\\u002fextra\\u003e\",\"legendgroup\":\"Chhattisgarh\",\"marker\":{\"color\":\"#ab63fa\",\"size\":[6259019.0,6608626.0,6753622.0,6607694.0,6490776.0,7043840.0,6942931.0,6569385.0,6236201.0,6847173.0,6894808.0,6534321.0,5454091.0,5781095.0,2223129.0,2192020.0,2285436.0,2392400.0,2311507.0,2297096.0,2341284.0,2415436.0,2315972.0,2347941.0,2407509.0,1066126.0,1276291.0,1602231.0],\"sizemode\":\"area\",\"sizeref\":114443.7725,\"symbol\":\"circle\"},\"mode\":\"markers\",\"name\":\"Chhattisgarh\",\"orientation\":\"v\",\"showlegend\":true,\"x\":[42.89,43.71,43.53,42.55,43.38,46.28,43.56,42.59,42.03,45.05,44.98,39.43,35.56,38.66,45.61,45.88,45.85,46.91,46.8,46.82,46.59,45.59,46.21,47.14,47.39,24.06,30.24,39.41],\"xaxis\":\"x\",\"y\":[9.82,6.76,4.54,4.64,8.33,6.96,2.77,6.11,9.89,7.89,7.31,0.0,7.64,10.14,9.77,11.77,8.17,6.29,9.46,10.27,8.32,3.57,9.01,9.79,8.21,20.13,24.1,27.07],\"yaxis\":\"y\",\"type\":\"scatter\"},{\"customdata\":[[\"Rural\"],[\"Rural\"],[\"Rural\"],[\"Rural\"],[\"Rural\"],[\"Rural\"],[\"Rural\"],[\"Rural\"],[\"Rural\"],[\"Rural\"],[\"Rural\"],[\"Rural\"],[\"Rural\"],[\"Rural\"],[\"Urban\"],[\"Urban\"],[\"Urban\"],[\"Urban\"],[\"Urban\"],[\"Urban\"],[\"Urban\"],[\"Urban\"],[\"Urban\"],[\"Urban\"],[\"Urban\"],[\"Urban\"],[\"Urban\"],[\"Urban\"]],\"hovertemplate\":\"Region=Delhi\\u003cbr\\u003eLabour_Participation_Rate=%{x}\\u003cbr\\u003eUnemployment_Rate=%{y}\\u003cbr\\u003eEmployed_Rate=%{marker.size}\\u003cbr\\u003eArea=%{customdata[0]}\\u003cextra\\u003e\\u003c\\u002fextra\\u003e\",\"legendgroup\":\"Delhi\",\"marker\":{\"color\":\"#FFA15A\",\"size\":[169487.0,149076.0,166605.0,135407.0,166056.0,149511.0,178768.0,145671.0,157791.0,147500.0,152413.0,115487.0,129610.0,112108.0,5756475.0,5550172.0,5393091.0,5552510.0,5642253.0,6030363.0,5439600.0,5718337.0,5647493.0,5708807.0,5401392.0,3003787.0,2343783.0,4306807.0],\"sizemode\":\"area\",\"sizeref\":114443.7725,\"symbol\":\"circle\"},\"mode\":\"markers\",\"name\":\"Delhi\",\"orientation\":\"v\",\"showlegend\":true,\"x\":[42.33,35.74,40.53,35.21,40.68,37.9,42.71,37.08,38.36,35.84,37.45,30.21,34.65,29.22,44.17,42.71,42.34,42.9,47.36,45.78,43.02,42.56,48.09,44.18,42.82,23.59,28.28,34.32],\"xaxis\":\"x\",\"y\":[12.56,9.33,11.07,17.18,12.5,15.84,11.11,16.97,13.48,13.81,15.18,20.69,22.76,21.14,12.31,12.76,14.68,13.52,20.59,12.41,16.11,11.07,22.45,14.86,17.09,16.51,45.78,18.11],\"yaxis\":\"y\",\"type\":\"scatter\"},{\"customdata\":[[\"Rural\"],[\"Rural\"],[\"Rural\"],[\"Rural\"],[\"Rural\"],[\"Rural\"],[\"Rural\"],[\"Rural\"],[\"Rural\"],[\"Rural\"],[\"Rural\"],[\"Rural\"],[\"Urban\"],[\"Urban\"],[\"Urban\"],[\"Urban\"],[\"Urban\"],[\"Urban\"],[\"Urban\"],[\"Urban\"],[\"Urban\"],[\"Urban\"],[\"Urban\"],[\"Urban\"]],\"hovertemplate\":\"Region=Goa\\u003cbr\\u003eLabour_Participation_Rate=%{x}\\u003cbr\\u003eUnemployment_Rate=%{y}\\u003cbr\\u003eEmployed_Rate=%{marker.size}\\u003cbr\\u003eArea=%{customdata[0]}\\u003cextra\\u003e\\u003c\\u002fextra\\u003e\",\"legendgroup\":\"Goa\",\"marker\":{\"color\":\"#19d3f3\",\"size\":[179340.0,170471.0,167437.0,183603.0,163215.0,177440.0,159489.0,177155.0,158936.0,171672.0,181657.0,128538.0,264855.0,304015.0,280367.0,243277.0,309643.0,290264.0,271612.0,288154.0,257814.0,306396.0,277093.0,318957.0],\"sizemode\":\"area\",\"sizeref\":114443.7725,\"symbol\":\"circle\"},\"mode\":\"markers\",\"name\":\"Goa\",\"orientation\":\"v\",\"showlegend\":true,\"x\":[39.16,38.19,39.81,39.61,35.78,40.36,44.09,38.7,35.36,36.11,45.36,33.71,34.17,43.96,40.0,31.97,39.92,41.27,45.22,42.77,35.95,39.73,36.05,44.74],\"xaxis\":\"x\",\"y\":[2.91,5.45,10.98,1.98,3.61,7.21,23.71,3.54,5.38,0.0,15.91,20.0,2.75,13.33,12.28,4.9,3.16,12.31,25.2,16.22,10.92,4.31,4.76,11.76],\"yaxis\":\"y\",\"type\":\"scatter\"},{\"customdata\":[[\"Rural\"],[\"Rural\"],[\"Rural\"],[\"Rural\"],[\"Rural\"],[\"Rural\"],[\"Rural\"],[\"Rural\"],[\"Rural\"],[\"Rural\"],[\"Rural\"],[\"Rural\"],[\"Rural\"],[\"Rural\"],[\"Urban\"],[\"Urban\"],[\"Urban\"],[\"Urban\"],[\"Urban\"],[\"Urban\"],[\"Urban\"],[\"Urban\"],[\"Urban\"],[\"Urban\"],[\"Urban\"],[\"Urban\"],[\"Urban\"],[\"Urban\"]],\"hovertemplate\":\"Region=Gujarat\\u003cbr\\u003eLabour_Participation_Rate=%{x}\\u003cbr\\u003eUnemployment_Rate=%{y}\\u003cbr\\u003eEmployed_Rate=%{marker.size}\\u003cbr\\u003eArea=%{customdata[0]}\\u003cextra\\u003e\\u003c\\u002fextra\\u003e\",\"legendgroup\":\"Gujarat\",\"marker\":{\"color\":\"#FF6692\",\"size\":[13954728.0,13199281.0,14327083.0,13507342.0,13280783.0,13828512.0,14487815.0,13877825.0,14301844.0,13973042.0,13483615.0,8587594.0,11121124.0,13243922.0,9686558.0,10144965.0,9828023.0,10228154.0,9609939.0,10474217.0,9896129.0,10172812.0,9824501.0,10784753.0,10083026.0,6701284.0,6072776.0,10574711.0],\"sizemode\":\"area\",\"sizeref\":114443.7725,\"symbol\":\"circle\"},\"mode\":\"markers\",\"name\":\"Gujarat\",\"orientation\":\"v\",\"showlegend\":true,\"x\":[52.03,50.12,54.21,50.57,51.01,52.27,54.55,51.51,54.07,53.48,52.06,34.77,46.31,47.72,41.67,44.57,42.54,43.72,41.75,45.14,43.5,43.75,42.19,46.31,42.9,36.33,27.52,44.26],\"xaxis\":\"x\",\"y\":[2.88,4.77,4.58,3.7,6.29,4.91,4.68,3.46,5.35,6.64,7.59,12.0,14.58,1.41,4.09,6.31,5.15,4.2,5.96,5.45,7.53,5.71,5.82,6.04,5.39,25.94,11.62,4.54],\"yaxis\":\"y\",\"type\":\"scatter\"},{\"customdata\":[[\"Rural\"],[\"Rural\"],[\"Rural\"],[\"Rural\"],[\"Rural\"],[\"Rural\"],[\"Rural\"],[\"Rural\"],[\"Rural\"],[\"Rural\"],[\"Rural\"],[\"Rural\"],[\"Rural\"],[\"Rural\"],[\"Urban\"],[\"Urban\"],[\"Urban\"],[\"Urban\"],[\"Urban\"],[\"Urban\"],[\"Urban\"],[\"Urban\"],[\"Urban\"],[\"Urban\"],[\"Urban\"],[\"Urban\"],[\"Urban\"],[\"Urban\"]],\"hovertemplate\":\"Region=Haryana\\u003cbr\\u003eLabour_Participation_Rate=%{x}\\u003cbr\\u003eUnemployment_Rate=%{y}\\u003cbr\\u003eEmployed_Rate=%{marker.size}\\u003cbr\\u003eArea=%{customdata[0]}\\u003cextra\\u003e\\u003c\\u002fextra\\u003e\",\"legendgroup\":\"Haryana\",\"marker\":{\"color\":\"#B6E880\",\"size\":[5249186.0,4745178.0,4826560.0,4558306.0,5127956.0,4798833.0,4875763.0,4603484.0,5062293.0,4570108.0,4366148.0,4041050.0,3914193.0,4357835.0,2693596.0,2845190.0,2405973.0,2523005.0,2675862.0,2821456.0,2404239.0,2548835.0,2630938.0,2752834.0,2275407.0,1606580.0,2013083.0,2304138.0],\"sizemode\":\"area\",\"sizeref\":114443.7725,\"symbol\":\"circle\"},\"mode\":\"markers\",\"name\":\"Haryana\",\"orientation\":\"v\",\"showlegend\":true,\"x\":[45.12,45.23,42.17,48.23,44.72,46.07,42.48,47.4,43.74,45.37,41.4,49.85,42.78,48.53,43.18,43.06,38.77,39.87,43.7,42.58,39.18,39.57,42.75,42.32,36.73,35.48,38.27,38.09],\"xaxis\":\"x\",\"y\":[14.54,23.08,16.22,30.94,16.36,24.17,16.59,29.56,16.21,27.19,23.92,41.61,34.22,35.57,24.67,20.42,25.45,24.19,26.84,21.04,27.06,23.65,27.24,23.29,27.14,46.89,38.46,29.41],\"yaxis\":\"y\",\"type\":\"scatter\"},{\"customdata\":[[\"Rural\"],[\"Rural\"],[\"Rural\"],[\"Rural\"],[\"Rural\"],[\"Rural\"],[\"Rural\"],[\"Rural\"],[\"Rural\"],[\"Rural\"],[\"Rural\"],[\"Rural\"],[\"Rural\"],[\"Rural\"],[\"Urban\"],[\"Urban\"],[\"Urban\"],[\"Urban\"],[\"Urban\"],[\"Urban\"],[\"Urban\"],[\"Urban\"],[\"Urban\"],[\"Urban\"],[\"Urban\"],[\"Urban\"],[\"Urban\"],[\"Urban\"]],\"hovertemplate\":\"Region=Himachal Pradesh\\u003cbr\\u003eLabour_Participation_Rate=%{x}\\u003cbr\\u003eUnemployment_Rate=%{y}\\u003cbr\\u003eEmployed_Rate=%{marker.size}\\u003cbr\\u003eArea=%{customdata[0]}\\u003cextra\\u003e\\u003c\\u002fextra\\u003e\",\"legendgroup\":\"Himachal Pradesh\",\"marker\":{\"color\":\"#FF97FF\",\"size\":[2045760.0,1957081.0,1916824.0,1969248.0,2039804.0,1946957.0,2024409.0,1922821.0,2041035.0,1952464.0,1800426.0,984171.0,1732050.0,2230075.0,245668.0,237576.0,235894.0,236315.0,247210.0,232322.0,233029.0,241366.0,246596.0,227804.0,221432.0,146957.0,134868.0,224902.0],\"sizemode\":\"area\",\"sizeref\":114443.7725,\"symbol\":\"circle\"},\"mode\":\"markers\",\"name\":\"Himachal Pradesh\",\"orientation\":\"v\",\"showlegend\":true,\"x\":[44.23,41.18,44.91,44.91,45.02,42.81,48.5,44.05,45.11,42.45,40.17,18.43,42.62,41.2,45.27,49.58,49.22,51.17,45.87,49.69,52.17,52.55,48.92,50.82,48.74,24.42,43.55,40.66],\"xaxis\":\"x\",\"y\":[13.68,11.43,20.59,18.56,15.98,15.81,22.86,19.46,16.67,15.42,17.71,2.13,25.64,1.12,10.88,21.43,21.51,24.48,12.0,23.77,27.27,25.32,18.15,27.31,26.44,2.7,50.0,10.81],\"yaxis\":\"y\",\"type\":\"scatter\"},{\"customdata\":[[\"Rural\"],[\"Rural\"],[\"Rural\"],[\"Rural\"],[\"Rural\"],[\"Rural\"],[\"Rural\"],[\"Rural\"],[\"Rural\"],[\"Rural\"],[\"Rural\"],[\"Urban\"],[\"Urban\"],[\"Urban\"],[\"Urban\"],[\"Urban\"],[\"Urban\"],[\"Urban\"],[\"Urban\"],[\"Urban\"],[\"Urban\"]],\"hovertemplate\":\"Region=Jammu & Kashmir\\u003cbr\\u003eLabour_Participation_Rate=%{x}\\u003cbr\\u003eUnemployment_Rate=%{y}\\u003cbr\\u003eEmployed_Rate=%{marker.size}\\u003cbr\\u003eArea=%{customdata[0]}\\u003cextra\\u003e\\u003c\\u002fextra\\u003e\",\"legendgroup\":\"Jammu & Kashmir\",\"marker\":{\"color\":\"#FECB52\",\"size\":[2495186.0,2423742.0,2549316.0,2778624.0,2477621.0,2415724.0,2373488.0,2163397.0,2361004.0,2716966.0,2049617.0,1130139.0,1139815.0,1183770.0,1029087.0,1226793.0,1209085.0,1079537.0,1060116.0,998103.0,937435.0],\"sizemode\":\"area\",\"sizeref\":114443.7725,\"symbol\":\"circle\"},\"mode\":\"markers\",\"name\":\"Jammu & Kashmir\",\"orientation\":\"v\",\"showlegend\":true,\"x\":[40.57,39.02,41.71,44.17,43.08,39.69,42.56,38.25,39.06,38.46,34.94,46.74,45.17,47.8,42.63,44.92,40.71,41.4,41.23,36.21,33.33],\"xaxis\":\"x\",\"y\":[12.78,12.09,13.67,11.32,19.27,14.73,22.19,21.23,16.0,2.22,18.97,23.04,19.88,21.55,24.06,14.29,7.02,18.54,19.86,14.29,12.96],\"yaxis\":\"y\",\"type\":\"scatter\"},{\"customdata\":[[\"Rural\"],[\"Rural\"],[\"Rural\"],[\"Rural\"],[\"Rural\"],[\"Rural\"],[\"Rural\"],[\"Rural\"],[\"Rural\"],[\"Rural\"],[\"Rural\"],[\"Rural\"],[\"Rural\"],[\"Rural\"],[\"Urban\"],[\"Urban\"],[\"Urban\"],[\"Urban\"],[\"Urban\"],[\"Urban\"],[\"Urban\"],[\"Urban\"],[\"Urban\"],[\"Urban\"],[\"Urban\"],[\"Urban\"],[\"Urban\"],[\"Urban\"]],\"hovertemplate\":\"Region=Jharkhand\\u003cbr\\u003eLabour_Participation_Rate=%{x}\\u003cbr\\u003eUnemployment_Rate=%{y}\\u003cbr\\u003eEmployed_Rate=%{marker.size}\\u003cbr\\u003eArea=%{customdata[0]}\\u003cextra\\u003e\\u003c\\u002fextra\\u003e\",\"legendgroup\":\"Jharkhand\",\"marker\":{\"color\":\"#636efa\",\"size\":[7035766.0,7319782.0,6958404.0,7015356.0,7500122.0,7761243.0,7279628.0,6873437.0,7868736.0,7932402.0,7157454.0,4280434.0,3315038.0,6375114.0,2404033.0,2326911.0,2434579.0,2335406.0,2357627.0,2460196.0,2424281.0,2290170.0,2329293.0,2493023.0,2480661.0,1054829.0,830347.0,2244460.0],\"sizemode\":\"area\",\"sizeref\":114443.7725,\"symbol\":\"circle\"},\"mode\":\"markers\",\"name\":\"Jharkhand\",\"orientation\":\"v\",\"showlegend\":true,\"x\":[39.04,41.12,39.66,40.83,41.24,42.33,40.26,41.09,42.43,44.05,37.96,36.92,37.03,40.65,43.25,43.51,42.82,43.35,44.18,44.82,43.17,43.14,44.33,45.42,43.34,39.92,40.49,40.43],\"xaxis\":\"x\",\"y\":[7.11,8.46,9.98,12.06,7.12,6.57,8.07,15.15,6.16,9.06,5.01,41.72,55.1,21.53,17.23,20.51,15.67,20.25,21.16,19.05,17.34,22.01,22.96,19.67,16.4,61.48,70.17,19.38],\"yaxis\":\"y\",\"type\":\"scatter\"},{\"customdata\":[[\"Rural\"],[\"Rural\"],[\"Rural\"],[\"Rural\"],[\"Rural\"],[\"Rural\"],[\"Rural\"],[\"Rural\"],[\"Rural\"],[\"Rural\"],[\"Rural\"],[\"Rural\"],[\"Rural\"],[\"Rural\"],[\"Urban\"],[\"Urban\"],[\"Urban\"],[\"Urban\"],[\"Urban\"],[\"Urban\"],[\"Urban\"],[\"Urban\"],[\"Urban\"],[\"Urban\"],[\"Urban\"],[\"Urban\"],[\"Urban\"],[\"Urban\"]],\"hovertemplate\":\"Region=Karnataka\\u003cbr\\u003eLabour_Participation_Rate=%{x}\\u003cbr\\u003eUnemployment_Rate=%{y}\\u003cbr\\u003eEmployed_Rate=%{marker.size}\\u003cbr\\u003eArea=%{customdata[0]}\\u003cextra\\u003e\\u003c\\u002fextra\\u003e\",\"legendgroup\":\"Karnataka\",\"marker\":{\"color\":\"#EF553B\",\"size\":[13911440.0,12888490.0,12169808.0,12686470.0,13741892.0,12803527.0,11537217.0,12756132.0,13938874.0,12753657.0,12853818.0,9330400.0,10626328.0,15396213.0,8638239.0,8862498.0,8738029.0,8614340.0,8647794.0,8799249.0,8613835.0,8592376.0,8749154.0,8924061.0,9225835.0,7387995.0,8669258.0,8822411.0],\"sizemode\":\"area\",\"sizeref\":114443.7725,\"symbol\":\"circle\"},\"mode\":\"markers\",\"name\":\"Karnataka\",\"orientation\":\"v\",\"showlegend\":true,\"x\":[46.36,43.12,38.42,39.93,44.45,43.1,36.45,39.92,44.52,41.33,40.85,43.25,43.09,53.37,40.62,40.89,39.09,38.04,39.0,39.7,38.6,37.66,38.94,39.45,41.55,42.14,43.9,39.93],\"xaxis\":\"x\",\"y\":[5.46,5.98,0.52,0.37,3.2,7.13,1.19,0.41,2.57,4.11,2.39,33.17,23.72,10.92,6.56,5.0,2.29,1.27,3.57,3.87,3.44,1.56,3.31,2.88,4.92,25.12,15.88,6.12],\"yaxis\":\"y\",\"type\":\"scatter\"},{\"customdata\":[[\"Rural\"],[\"Rural\"],[\"Rural\"],[\"Rural\"],[\"Rural\"],[\"Rural\"],[\"Rural\"],[\"Rural\"],[\"Rural\"],[\"Rural\"],[\"Rural\"],[\"Rural\"],[\"Rural\"],[\"Rural\"],[\"Urban\"],[\"Urban\"],[\"Urban\"],[\"Urban\"],[\"Urban\"],[\"Urban\"],[\"Urban\"],[\"Urban\"],[\"Urban\"],[\"Urban\"],[\"Urban\"],[\"Urban\"],[\"Urban\"],[\"Urban\"]],\"hovertemplate\":\"Region=Kerala\\u003cbr\\u003eLabour_Participation_Rate=%{x}\\u003cbr\\u003eUnemployment_Rate=%{y}\\u003cbr\\u003eEmployed_Rate=%{marker.size}\\u003cbr\\u003eArea=%{customdata[0]}\\u003cextra\\u003e\\u003c\\u002fextra\\u003e\",\"legendgroup\":\"Kerala\",\"marker\":{\"color\":\"#00cc96\",\"size\":[5184355.0,5605627.0,4855393.0,5233449.0,5400499.0,5328825.0,4557906.0,5065804.0,5307026.0,5203579.0,4141953.0,1754170.0,3799919.0,3952088.0,4605913.0,4678374.0,4105211.0,4448650.0,4640642.0,4644510.0,4062767.0,4440283.0,4597507.0,4624444.0,4079775.0,2179106.0,2826118.0,4601293.0],\"sizemode\":\"area\",\"sizeref\":114443.7725,\"symbol\":\"circle\"},\"mode\":\"markers\",\"name\":\"Kerala\",\"orientation\":\"v\",\"showlegend\":true,\"x\":[38.07,42.19,34.96,39.9,38.97,40.02,32.71,38.67,37.66,38.84,30.87,13.33,33.62,37.01,36.65,37.42,33.13,35.91,36.57,36.49,32.36,35.56,36.53,36.48,33.24,20.51,29.95,38.68],\"xaxis\":\"x\",\"y\":[6.63,9.0,4.95,10.32,5.35,9.14,5.0,10.77,4.11,8.91,8.85,10.71,23.38,27.66,6.11,6.67,7.58,7.69,5.52,5.35,6.71,7.31,6.65,6.08,9.14,21.43,30.28,12.17],\"yaxis\":\"y\",\"type\":\"scatter\"},{\"customdata\":[[\"Rural\"],[\"Rural\"],[\"Rural\"],[\"Rural\"],[\"Rural\"],[\"Rural\"],[\"Rural\"],[\"Rural\"],[\"Rural\"],[\"Rural\"],[\"Rural\"],[\"Rural\"],[\"Rural\"],[\"Rural\"],[\"Urban\"],[\"Urban\"],[\"Urban\"],[\"Urban\"],[\"Urban\"],[\"Urban\"],[\"Urban\"],[\"Urban\"],[\"Urban\"],[\"Urban\"],[\"Urban\"],[\"Urban\"],[\"Urban\"],[\"Urban\"]],\"hovertemplate\":\"Region=Madhya Pradesh\\u003cbr\\u003eLabour_Participation_Rate=%{x}\\u003cbr\\u003eUnemployment_Rate=%{y}\\u003cbr\\u003eEmployed_Rate=%{marker.size}\\u003cbr\\u003eArea=%{customdata[0]}\\u003cextra\\u003e\\u003c\\u002fextra\\u003e\",\"legendgroup\":\"Madhya Pradesh\",\"marker\":{\"color\":\"#ab63fa\",\"size\":[15349838.0,16294794.0,16274707.0,16559137.0,16159315.0,17060638.0,16306428.0,16854647.0,16183702.0,16178044.0,16480441.0,14238959.0,13099601.0,16748971.0,6692720.0,6509340.0,6266446.0,6809834.0,6655967.0,6603715.0,6459457.0,6787403.0,6834930.0,6533435.0,6386723.0,4802873.0,3879934.0,6221562.0],\"sizemode\":\"area\",\"sizeref\":114443.7725,\"symbol\":\"circle\"},\"mode\":\"markers\",\"name\":\"Madhya Pradesh\",\"orientation\":\"v\",\"showlegend\":true,\"x\":[37.97,40.48,40.2,41.25,39.4,41.46,39.44,40.77,39.35,39.57,38.9,37.88,39.24,41.5,38.96,38.8,37.67,40.6,39.67,38.2,37.94,39.83,39.59,37.68,36.68,29.76,35.49,38.72],\"xaxis\":\"x\",\"y\":[3.63,4.25,3.92,4.94,3.08,2.98,2.72,2.94,3.66,4.42,1.19,12.5,22.46,6.46,3.91,6.38,7.38,6.82,7.0,4.4,6.06,6.2,5.17,4.96,4.8,11.94,40.49,12.72],\"yaxis\":\"y\",\"type\":\"scatter\"},{\"customdata\":[[\"Rural\"],[\"Rural\"],[\"Rural\"],[\"Rural\"],[\"Rural\"],[\"Rural\"],[\"Rural\"],[\"Rural\"],[\"Rural\"],[\"Rural\"],[\"Rural\"],[\"Rural\"],[\"Rural\"],[\"Rural\"],[\"Urban\"],[\"Urban\"],[\"Urban\"],[\"Urban\"],[\"Urban\"],[\"Urban\"],[\"Urban\"],[\"Urban\"],[\"Urban\"],[\"Urban\"],[\"Urban\"],[\"Urban\"],[\"Urban\"],[\"Urban\"]],\"hovertemplate\":\"Region=Maharashtra\\u003cbr\\u003eLabour_Participation_Rate=%{x}\\u003cbr\\u003eUnemployment_Rate=%{y}\\u003cbr\\u003eEmployed_Rate=%{marker.size}\\u003cbr\\u003eArea=%{customdata[0]}\\u003cextra\\u003e\\u003c\\u002fextra\\u003e\",\"legendgroup\":\"Maharashtra\",\"marker\":{\"color\":\"#FFA15A\",\"size\":[23896858.0,23056511.0,24843750.0,26835389.0,25219281.0,24330249.0,24881383.0,26357625.0,25881398.0,25293535.0,23130976.0,15014802.0,18423447.0,23601016.0,16962574.0,17375053.0,17215677.0,16602767.0,17396398.0,17221991.0,17486683.0,16581144.0,16715470.0,17122782.0,17065830.0,12674451.0,12365754.0,16172690.0],\"sizemode\":\"area\",\"sizeref\":114443.7725,\"symbol\":\"circle\"},\"mode\":\"markers\",\"name\":\"Maharashtra\",\"orientation\":\"v\",\"showlegend\":true,\"x\":[47.11,45.69,48.8,52.67,49.74,47.61,48.53,50.98,50.36,49.36,45.6,37.42,41.21,48.34,38.3,39.3,38.81,37.84,39.58,39.05,39.61,37.57,37.32,37.61,37.8,30.86,30.38,37.04],\"xaxis\":\"x\",\"y\":[3.67,4.34,3.66,3.76,4.4,3.81,3.68,3.03,3.8,4.24,5.38,25.28,16.89,9.4,6.08,6.46,6.35,7.57,7.6,7.51,7.6,7.83,6.67,5.34,6.34,14.99,15.92,10.01],\"yaxis\":\"y\",\"type\":\"scatter\"},{\"customdata\":[[\"Rural\"],[\"Rural\"],[\"Rural\"],[\"Rural\"],[\"Rural\"],[\"Rural\"],[\"Rural\"],[\"Rural\"],[\"Rural\"],[\"Rural\"],[\"Rural\"],[\"Rural\"],[\"Rural\"],[\"Rural\"],[\"Urban\"],[\"Urban\"],[\"Urban\"],[\"Urban\"],[\"Urban\"],[\"Urban\"],[\"Urban\"],[\"Urban\"],[\"Urban\"],[\"Urban\"],[\"Urban\"],[\"Urban\"],[\"Urban\"]],\"hovertemplate\":\"Region=Meghalaya\\u003cbr\\u003eLabour_Participation_Rate=%{x}\\u003cbr\\u003eUnemployment_Rate=%{y}\\u003cbr\\u003eEmployed_Rate=%{marker.size}\\u003cbr\\u003eArea=%{customdata[0]}\\u003cextra\\u003e\\u003c\\u002fextra\\u003e\",\"legendgroup\":\"Meghalaya\",\"marker\":{\"color\":\"#19d3f3\",\"size\":[1119011.0,1024797.0,1158511.0,1065725.0,1162159.0,1080609.0,1205703.0,1102997.0,1229406.0,1112864.0,1192616.0,803118.0,992148.0,1150200.0,228978.0,231252.0,284015.0,259433.0,253887.0,234375.0,293431.0,267417.0,261687.0,233965.0,289735.0,161939.0,222916.0],\"sizemode\":\"area\",\"sizeref\":114443.7725,\"symbol\":\"circle\"},\"mode\":\"markers\",\"name\":\"Meghalaya\",\"orientation\":\"v\",\"showlegend\":true,\"x\":[66.13,61.09,66.67,60.86,66.02,63.44,69.03,63.18,69.66,64.06,67.46,48.83,57.26,64.63,47.79,48.29,56.55,52.27,50.77,47.71,57.02,53.04,51.53,47.26,55.64,36.51,48.48],\"xaxis\":\"x\",\"y\":[3.16,4.23,1.03,0.52,0.24,3.7,1.5,1.8,0.97,2.76,1.28,8.38,3.73,1.35,8.4,8.66,4.43,5.8,5.3,7.2,3.02,5.21,4.76,7.37,2.8,17.39,14.58],\"yaxis\":\"y\",\"type\":\"scatter\"},{\"customdata\":[[\"Rural\"],[\"Rural\"],[\"Rural\"],[\"Rural\"],[\"Rural\"],[\"Rural\"],[\"Rural\"],[\"Rural\"],[\"Rural\"],[\"Rural\"],[\"Rural\"],[\"Rural\"],[\"Rural\"],[\"Rural\"],[\"Urban\"],[\"Urban\"],[\"Urban\"],[\"Urban\"],[\"Urban\"],[\"Urban\"],[\"Urban\"],[\"Urban\"],[\"Urban\"],[\"Urban\"],[\"Urban\"],[\"Urban\"],[\"Urban\"],[\"Urban\"]],\"hovertemplate\":\"Region=Odisha\\u003cbr\\u003eLabour_Participation_Rate=%{x}\\u003cbr\\u003eUnemployment_Rate=%{y}\\u003cbr\\u003eEmployed_Rate=%{marker.size}\\u003cbr\\u003eArea=%{customdata[0]}\\u003cextra\\u003e\\u003c\\u002fextra\\u003e\",\"legendgroup\":\"Odisha\",\"marker\":{\"color\":\"#FF6692\",\"size\":[11155753.0,10965154.0,12009883.0,11727659.0,11167715.0,11621534.0,12192623.0,11345069.0,11182128.0,11842655.0,9814156.0,5562449.0,9683719.0,10187145.0,2519582.0,2356290.0,2542237.0,2456983.0,2570663.0,2456855.0,2594469.0,2369048.0,2561320.0,2438080.0,2457952.0,1303244.0,1975481.0,2221069.0],\"sizemode\":\"area\",\"sizeref\":114443.7725,\"symbol\":\"circle\"},\"mode\":\"markers\",\"name\":\"Odisha\",\"orientation\":\"v\",\"showlegend\":true,\"x\":[40.47,39.94,43.05,42.13,40.32,41.88,44.06,40.91,39.09,41.98,39.55,25.16,36.48,36.36,41.26,38.39,40.99,40.25,42.15,40.51,41.71,38.46,41.05,38.97,39.93,25.53,34.12,35.24],\"xaxis\":\"x\",\"y\":[4.17,4.71,3.31,3.68,4.31,4.28,4.72,4.67,1.81,3.31,15.09,24.48,9.45,4.59,2.95,2.63,1.78,3.5,3.78,4.5,2.23,3.36,2.28,2.19,3.96,20.5,10.0,2.18],\"yaxis\":\"y\",\"type\":\"scatter\"},{\"customdata\":[[\"Rural\"],[\"Rural\"],[\"Rural\"],[\"Rural\"],[\"Rural\"],[\"Rural\"],[\"Rural\"],[\"Rural\"],[\"Rural\"],[\"Rural\"],[\"Rural\"],[\"Rural\"],[\"Urban\"],[\"Urban\"],[\"Urban\"],[\"Urban\"],[\"Urban\"],[\"Urban\"],[\"Urban\"],[\"Urban\"],[\"Urban\"],[\"Urban\"],[\"Urban\"],[\"Urban\"],[\"Urban\"],[\"Urban\"]],\"hovertemplate\":\"Region=Puducherry\\u003cbr\\u003eLabour_Participation_Rate=%{x}\\u003cbr\\u003eUnemployment_Rate=%{y}\\u003cbr\\u003eEmployed_Rate=%{marker.size}\\u003cbr\\u003eArea=%{customdata[0]}\\u003cextra\\u003e\\u003c\\u002fextra\\u003e\",\"legendgroup\":\"Puducherry\",\"marker\":{\"color\":\"#B6E880\",\"size\":[172474.0,184527.0,139227.0,183930.0,175718.0,180283.0,142787.0,180808.0,176252.0,183619.0,142176.0,49420.0,283905.0,304369.0,281117.0,312882.0,286573.0,312548.0,275003.0,313135.0,281698.0,310342.0,278851.0,68122.0,64538.0,234926.0],\"sizemode\":\"area\",\"sizeref\":114443.7725,\"symbol\":\"circle\"},\"mode\":\"markers\",\"name\":\"Puducherry\",\"orientation\":\"v\",\"showlegend\":true,\"x\":[43.08,45.95,34.56,47.83,43.34,44.85,35.0,45.07,43.18,45.38,35.23,46.79,35.71,37.73,34.77,42.41,35.73,38.86,34.19,40.42,34.59,38.5,34.12,35.54,31.25,29.73],\"xaxis\":\"x\",\"y\":[0.0,0.0,0.0,4.85,0.0,1.18,0.0,1.99,0.58,1.74,2.31,74.51,1.25,0.0,0.0,8.95,1.22,1.17,1.37,5.21,0.57,1.78,0.62,76.74,75.0,4.55],\"yaxis\":\"y\",\"type\":\"scatter\"},{\"customdata\":[[\"Rural\"],[\"Rural\"],[\"Rural\"],[\"Rural\"],[\"Rural\"],[\"Rural\"],[\"Rural\"],[\"Rural\"],[\"Rural\"],[\"Rural\"],[\"Rural\"],[\"Rural\"],[\"Rural\"],[\"Rural\"],[\"Urban\"],[\"Urban\"],[\"Urban\"],[\"Urban\"],[\"Urban\"],[\"Urban\"],[\"Urban\"],[\"Urban\"],[\"Urban\"],[\"Urban\"],[\"Urban\"],[\"Urban\"],[\"Urban\"],[\"Urban\"]],\"hovertemplate\":\"Region=Punjab\\u003cbr\\u003eLabour_Participation_Rate=%{x}\\u003cbr\\u003eUnemployment_Rate=%{y}\\u003cbr\\u003eEmployed_Rate=%{marker.size}\\u003cbr\\u003eArea=%{customdata[0]}\\u003cextra\\u003e\\u003c\\u002fextra\\u003e\",\"legendgroup\":\"Punjab\",\"marker\":{\"color\":\"#FF97FF\",\"size\":[6088547.0,6025235.0,6308129.0,6183427.0,6260971.0,6021921.0,6395022.0,6164215.0,6189471.0,6009820.0,6373692.0,4721590.0,3727366.0,5364047.0,3289918.0,3307798.0,3592442.0,3499863.0,3227178.0,3070438.0,3602243.0,3575778.0,3252622.0,3219227.0,3601793.0,2298975.0,2682658.0,3047750.0],\"sizemode\":\"area\",\"sizeref\":114443.7725,\"symbol\":\"circle\"},\"mode\":\"markers\",\"name\":\"Punjab\",\"orientation\":\"v\",\"showlegend\":true,\"x\":[44.79,45.79,46.5,44.08,45.49,45.66,45.55,43.4,45.22,44.19,46.85,32.2,41.14,43.9,40.03,40.02,42.62,41.61,39.97,37.1,41.82,42.17,39.04,37.82,41.29,23.95,34.71,34.96],\"xaxis\":\"x\",\"y\":[9.17,12.21,9.64,6.69,8.59,12.56,7.07,6.13,9.69,10.41,10.51,3.69,40.59,20.0,13.49,13.17,11.61,11.99,15.69,13.75,10.39,11.97,13.68,11.99,9.97,1.13,20.54,10.55],\"yaxis\":\"y\",\"type\":\"scatter\"},{\"customdata\":[[\"Rural\"],[\"Rural\"],[\"Rural\"],[\"Rural\"],[\"Rural\"],[\"Rural\"],[\"Rural\"],[\"Rural\"],[\"Rural\"],[\"Rural\"],[\"Rural\"],[\"Rural\"],[\"Rural\"],[\"Rural\"],[\"Urban\"],[\"Urban\"],[\"Urban\"],[\"Urban\"],[\"Urban\"],[\"Urban\"],[\"Urban\"],[\"Urban\"],[\"Urban\"],[\"Urban\"],[\"Urban\"],[\"Urban\"],[\"Urban\"],[\"Urban\"]],\"hovertemplate\":\"Region=Rajasthan\\u003cbr\\u003eLabour_Participation_Rate=%{x}\\u003cbr\\u003eUnemployment_Rate=%{y}\\u003cbr\\u003eEmployed_Rate=%{marker.size}\\u003cbr\\u003eArea=%{customdata[0]}\\u003cextra\\u003e\\u003c\\u002fextra\\u003e\",\"legendgroup\":\"Rajasthan\",\"marker\":{\"color\":\"#FECB52\",\"size\":[15226005.0,14610564.0,14859873.0,15052051.0,15419779.0,15178544.0,15278556.0,15485307.0,15484353.0,15040572.0,15059769.0,13051219.0,15586833.0,16076978.0,5108436.0,5241174.0,5372470.0,5195170.0,5176819.0,5384335.0,5306715.0,5109481.0,5157363.0,5288343.0,4964911.0,2932923.0,4225486.0,5275784.0],\"sizemode\":\"area\",\"sizeref\":114443.7725,\"symbol\":\"circle\"},\"mode\":\"markers\",\"name\":\"Rajasthan\",\"orientation\":\"v\",\"showlegend\":true,\"x\":[38.52,41.02,39.78,41.48,39.24,42.69,40.87,43.0,40.12,41.83,39.47,35.21,41.11,43.98,39.44,40.73,40.38,40.34,39.15,40.8,40.73,40.9,41.59,41.62,39.71,29.57,36.71,39.26],\"xaxis\":\"x\",\"y\":[4.03,13.7,9.7,12.5,5.45,14.66,10.47,13.96,8.0,14.48,9.47,12.25,10.45,13.86,13.62,14.36,11.67,14.71,12.63,13.02,14.3,18.04,18.82,17.02,18.54,35.53,25.35,13.04],\"yaxis\":\"y\",\"type\":\"scatter\"},{\"customdata\":[[\"Rural\"],[\"Rural\"],[\"Rural\"],[\"Rural\"],[\"Rural\"],[\"Urban\"],[\"Urban\"],[\"Urban\"],[\"Urban\"],[\"Urban\"],[\"Urban\"],[\"Urban\"],[\"Urban\"],[\"Urban\"],[\"Urban\"],[\"Urban\"],[\"Urban\"]],\"hovertemplate\":\"Region=Sikkim\\u003cbr\\u003eLabour_Participation_Rate=%{x}\\u003cbr\\u003eUnemployment_Rate=%{y}\\u003cbr\\u003eEmployed_Rate=%{marker.size}\\u003cbr\\u003eArea=%{customdata[0]}\\u003cextra\\u003e\\u003c\\u002fextra\\u003e\",\"legendgroup\":\"Sikkim\",\"marker\":{\"color\":\"#636efa\",\"size\":[146688.0,162426.0,161647.0,133399.0,141313.0,89587.0,89702.0,108334.0,90850.0,89450.0,87974.0,107751.0,88035.0,86186.0,81905.0,75456.0,76269.0],\"sizemode\":\"area\",\"sizeref\":114443.7725,\"symbol\":\"circle\"},\"mode\":\"markers\",\"name\":\"Sikkim\",\"orientation\":\"v\",\"showlegend\":true,\"x\":[44.06,53.04,46.3,37.72,42.36,48.61,48.13,54.67,46.63,45.61,46.97,53.8,45.24,50.57,40.31,43.32,35.85],\"xaxis\":\"x\",\"y\":[5.48,13.11,1.0,0.0,5.81,8.2,7.76,2.56,4.82,4.81,9.68,4.04,7.37,20.45,5.77,19.75,2.63],\"yaxis\":\"y\",\"type\":\"scatter\"},{\"customdata\":[[\"Rural\"],[\"Rural\"],[\"Rural\"],[\"Rural\"],[\"Rural\"],[\"Rural\"],[\"Rural\"],[\"Rural\"],[\"Rural\"],[\"Rural\"],[\"Rural\"],[\"Rural\"],[\"Rural\"],[\"Rural\"],[\"Urban\"],[\"Urban\"],[\"Urban\"],[\"Urban\"],[\"Urban\"],[\"Urban\"],[\"Urban\"],[\"Urban\"],[\"Urban\"],[\"Urban\"],[\"Urban\"],[\"Urban\"],[\"Urban\"],[\"Urban\"]],\"hovertemplate\":\"Region=Tamil Nadu\\u003cbr\\u003eLabour_Participation_Rate=%{x}\\u003cbr\\u003eUnemployment_Rate=%{y}\\u003cbr\\u003eEmployed_Rate=%{marker.size}\\u003cbr\\u003eArea=%{customdata[0]}\\u003cextra\\u003e\\u003c\\u002fextra\\u003e\",\"legendgroup\":\"Tamil Nadu\",\"marker\":{\"color\":\"#EF553B\",\"size\":[15844698.0,16375303.0,16455928.0,16463931.0,14595441.0,15595647.0,16223430.0,15356938.0,14954646.0,15828488.0,15848590.0,5086200.0,5768342.0,10169115.0,11798080.0,12318745.0,12054414.0,11933093.0,11902824.0,12223948.0,11729952.0,12260389.0,11926995.0,11742101.0,10982178.0,4632967.0,5733921.0,7741005.0],\"sizemode\":\"area\",\"sizeref\":114443.7725,\"symbol\":\"circle\"},\"mode\":\"markers\",\"name\":\"Tamil Nadu\",\"orientation\":\"v\",\"showlegend\":true,\"x\":[49.44,50.99,53.94,52.17,45.62,48.55,50.95,48.8,46.23,48.86,51.56,33.05,28.6,31.49,37.31,39.16,38.89,41.13,37.76,38.42,37.38,41.29,37.64,37.48,36.17,26.17,23.77,31.6],\"xaxis\":\"x\",\"y\":[0.97,0.92,6.01,2.91,1.71,1.46,2.46,3.73,1.18,1.17,6.36,53.19,38.73,2.06,0.89,1.56,3.18,9.53,1.86,1.13,2.65,8.05,2.05,3.31,6.46,45.55,25.95,24.93],\"yaxis\":\"y\",\"type\":\"scatter\"},{\"customdata\":[[\"Rural\"],[\"Rural\"],[\"Rural\"],[\"Rural\"],[\"Rural\"],[\"Rural\"],[\"Rural\"],[\"Rural\"],[\"Rural\"],[\"Rural\"],[\"Rural\"],[\"Rural\"],[\"Rural\"],[\"Rural\"],[\"Urban\"],[\"Urban\"],[\"Urban\"],[\"Urban\"],[\"Urban\"],[\"Urban\"],[\"Urban\"],[\"Urban\"],[\"Urban\"],[\"Urban\"],[\"Urban\"],[\"Urban\"],[\"Urban\"],[\"Urban\"]],\"hovertemplate\":\"Region=Telangana\\u003cbr\\u003eLabour_Participation_Rate=%{x}\\u003cbr\\u003eUnemployment_Rate=%{y}\\u003cbr\\u003eEmployed_Rate=%{marker.size}\\u003cbr\\u003eArea=%{customdata[0]}\\u003cextra\\u003e\\u003c\\u002fextra\\u003e\",\"legendgroup\":\"Telangana\",\"marker\":{\"color\":\"#00cc96\",\"size\":[11053353.0,10728822.0,11538688.0,10743959.0,12636415.0,11375354.0,11265828.0,11068056.0,12065915.0,11304474.0,12028377.0,8793799.0,7508747.0,8891181.0,5560649.0,5683349.0,5432503.0,5544693.0,5668785.0,5318341.0,5338119.0,5317782.0,5543380.0,5521496.0,5313236.0,3378431.0,3108830.0,4577995.0],\"sizemode\":\"area\",\"sizeref\":114443.7725,\"symbol\":\"circle\"},\"mode\":\"markers\",\"name\":\"Telangana\",\"orientation\":\"v\",\"showlegend\":true,\"x\":[61.74,62.19,64.4,59.23,72.57,66.49,65.17,60.61,68.51,66.92,68.53,49.44,61.0,58.97,44.59,45.43,44.36,45.39,47.28,44.51,43.87,43.13,45.95,45.78,43.65,29.05,37.63,37.68],\"xaxis\":\"x\",\"y\":[2.23,5.92,2.45,1.4,5.49,7.29,6.47,1.35,5.02,9.02,5.63,4.51,34.01,19.3,1.52,1.43,3.73,4.19,6.19,6.74,5.23,4.22,6.49,6.74,6.1,10.5,36.57,6.92],\"yaxis\":\"y\",\"type\":\"scatter\"},{\"customdata\":[[\"Rural\"],[\"Rural\"],[\"Rural\"],[\"Rural\"],[\"Rural\"],[\"Rural\"],[\"Rural\"],[\"Rural\"],[\"Rural\"],[\"Rural\"],[\"Rural\"],[\"Rural\"],[\"Rural\"],[\"Rural\"],[\"Urban\"],[\"Urban\"],[\"Urban\"],[\"Urban\"],[\"Urban\"],[\"Urban\"],[\"Urban\"],[\"Urban\"],[\"Urban\"],[\"Urban\"],[\"Urban\"],[\"Urban\"],[\"Urban\"],[\"Urban\"]],\"hovertemplate\":\"Region=Tripura\\u003cbr\\u003eLabour_Participation_Rate=%{x}\\u003cbr\\u003eUnemployment_Rate=%{y}\\u003cbr\\u003eEmployed_Rate=%{marker.size}\\u003cbr\\u003eArea=%{customdata[0]}\\u003cextra\\u003e\\u003c\\u002fextra\\u003e\",\"legendgroup\":\"Tripura\",\"marker\":{\"color\":\"#ab63fa\",\"size\":[1019549.0,1107013.0,1052597.0,975501.0,1034408.0,1113764.0,1084633.0,1046878.0,1057975.0,1169347.0,1060946.0,675083.0,911789.0,1106978.0,423127.0,408738.0,410583.0,368977.0,418043.0,414808.0,427700.0,399427.0,450155.0,415339.0,450271.0,296431.0,384999.0,391015.0],\"sizemode\":\"area\",\"sizeref\":114443.7725,\"symbol\":\"circle\"},\"mode\":\"markers\",\"name\":\"Tripura\",\"orientation\":\"v\",\"showlegend\":true,\"x\":[64.47,67.4,60.54,58.29,65.9,68.21,64.29,63.02,68.61,69.88,68.28,52.63,46.9,59.74,69.5,58.8,59.1,59.07,66.9,60.0,62.14,63.41,72.26,66.04,63.56,47.65,48.31,56.17],\"xaxis\":\"x\",\"y\":[29.25,26.64,22.47,25.49,30.23,27.54,25.25,26.53,31.91,26.22,31.61,43.64,14.71,18.84,34.69,25.59,25.81,33.45,33.57,26.67,27.15,33.48,34.37,33.88,25.69,34.88,16.78,27.47],\"yaxis\":\"y\",\"type\":\"scatter\"},{\"customdata\":[[\"Rural\"],[\"Rural\"],[\"Rural\"],[\"Rural\"],[\"Rural\"],[\"Rural\"],[\"Rural\"],[\"Rural\"],[\"Rural\"],[\"Rural\"],[\"Rural\"],[\"Rural\"],[\"Rural\"],[\"Rural\"],[\"Urban\"],[\"Urban\"],[\"Urban\"],[\"Urban\"],[\"Urban\"],[\"Urban\"],[\"Urban\"],[\"Urban\"],[\"Urban\"],[\"Urban\"],[\"Urban\"],[\"Urban\"],[\"Urban\"],[\"Urban\"]],\"hovertemplate\":\"Region=Uttar Pradesh\\u003cbr\\u003eLabour_Participation_Rate=%{x}\\u003cbr\\u003eUnemployment_Rate=%{y}\\u003cbr\\u003eEmployed_Rate=%{marker.size}\\u003cbr\\u003eArea=%{customdata[0]}\\u003cextra\\u003e\\u003c\\u002fextra\\u003e\",\"legendgroup\":\"Uttar Pradesh\",\"marker\":{\"color\":\"#FFA15A\",\"size\":[43287808.0,42276572.0,42697000.0,43298746.0,44198762.0,42833265.0,43261530.0,44640087.0,45777509.0,44257432.0,43086706.0,39970677.0,38640999.0,41908909.0,13391244.0,13624452.0,13862431.0,13580241.0,13522970.0,13938303.0,14128888.0,13857200.0,13656250.0,13803099.0,13889632.0,10944379.0,11111486.0,13208724.0],\"sizemode\":\"area\",\"sizeref\":114443.7725,\"symbol\":\"circle\"},\"mode\":\"markers\",\"name\":\"Uttar Pradesh\",\"orientation\":\"v\",\"showlegend\":true,\"x\":[39.96,39.32,38.78,40.24,38.79,39.07,38.01,39.77,39.67,39.13,38.53,40.37,37.52,36.89,40.43,39.75,40.43,40.87,40.07,39.71,40.6,40.21,39.52,39.54,40.0,37.74,41.1,38.09],\"xaxis\":\"x\",\"y\":[10.26,11.13,9.19,11.47,6.45,10.18,6.94,8.43,6.06,8.12,9.37,19.92,16.89,8.51,14.4,11.62,11.8,14.73,13.58,10.35,11.31,12.37,12.34,11.65,12.32,26.94,32.06,13.05],\"yaxis\":\"y\",\"type\":\"scatter\"},{\"customdata\":[[\"Rural\"],[\"Rural\"],[\"Rural\"],[\"Rural\"],[\"Rural\"],[\"Rural\"],[\"Rural\"],[\"Rural\"],[\"Rural\"],[\"Rural\"],[\"Rural\"],[\"Rural\"],[\"Rural\"],[\"Urban\"],[\"Urban\"],[\"Urban\"],[\"Urban\"],[\"Urban\"],[\"Urban\"],[\"Urban\"],[\"Urban\"],[\"Urban\"],[\"Urban\"],[\"Urban\"],[\"Urban\"],[\"Urban\"],[\"Urban\"]],\"hovertemplate\":\"Region=Uttarakhand\\u003cbr\\u003eLabour_Participation_Rate=%{x}\\u003cbr\\u003eUnemployment_Rate=%{y}\\u003cbr\\u003eEmployed_Rate=%{marker.size}\\u003cbr\\u003eArea=%{customdata[0]}\\u003cextra\\u003e\\u003c\\u002fextra\\u003e\",\"legendgroup\":\"Uttarakhand\",\"marker\":{\"color\":\"#19d3f3\",\"size\":[2108044.0,2021553.0,2000524.0,1911380.0,2157845.0,2027662.0,2007113.0,1947566.0,1986386.0,2057523.0,1972074.0,1915482.0,1675441.0,676797.0,906889.0,859900.0,823967.0,711150.0,925174.0,904903.0,844779.0,725253.0,963408.0,889245.0,748041.0,778590.0,989470.0],\"sizemode\":\"area\",\"sizeref\":114443.7725,\"symbol\":\"circle\"},\"mode\":\"markers\",\"name\":\"Uttarakhand\",\"orientation\":\"v\",\"showlegend\":true,\"x\":[37.47,37.01,36.97,35.39,38.79,36.9,36.73,35.19,35.69,37.16,35.04,33.94,32.0,26.33,33.54,32.48,31.21,27.51,33.87,33.61,31.65,27.55,35.11,33.33,29.59,32.27,35.61],\"xaxis\":\"x\",\"y\":[1.63,4.65,5.74,6.11,3.47,4.83,5.56,4.52,4.17,4.85,3.66,3.57,10.71,9.17,4.69,6.94,7.43,9.62,4.72,6.34,7.39,8.92,5.28,8.15,13.18,17.36,5.08],\"yaxis\":\"y\",\"type\":\"scatter\"},{\"customdata\":[[\"Rural\"],[\"Rural\"],[\"Rural\"],[\"Rural\"],[\"Rural\"],[\"Rural\"],[\"Rural\"],[\"Rural\"],[\"Rural\"],[\"Rural\"],[\"Rural\"],[\"Rural\"],[\"Rural\"],[\"Rural\"],[\"Urban\"],[\"Urban\"],[\"Urban\"],[\"Urban\"],[\"Urban\"],[\"Urban\"],[\"Urban\"],[\"Urban\"],[\"Urban\"],[\"Urban\"],[\"Urban\"],[\"Urban\"],[\"Urban\"],[\"Urban\"]],\"hovertemplate\":\"Region=West Bengal\\u003cbr\\u003eLabour_Participation_Rate=%{x}\\u003cbr\\u003eUnemployment_Rate=%{y}\\u003cbr\\u003eEmployed_Rate=%{marker.size}\\u003cbr\\u003eArea=%{customdata[0]}\\u003cextra\\u003e\\u003c\\u002fextra\\u003e\",\"legendgroup\":\"West Bengal\",\"marker\":{\"color\":\"#FF6692\",\"size\":[23452875.0,25543465.0,24857807.0,24924827.0,25610773.0,24353018.0,25630359.0,24906239.0,24612171.0,26093009.0,25097812.0,17639370.0,19115772.0,21225887.0,11306177.0,10611498.0,10779829.0,11456493.0,11158649.0,10563686.0,10768462.0,11335696.0,11208617.0,10871168.0,10806105.0,9299466.0,9240903.0,9088931.0],\"sizemode\":\"area\",\"sizeref\":114443.7725,\"symbol\":\"circle\"},\"mode\":\"markers\",\"name\":\"West Bengal\",\"orientation\":\"v\",\"showlegend\":true,\"x\":[46.41,50.36,48.78,48.79,49.87,48.09,50.0,48.47,48.3,49.51,49.18,39.27,42.53,40.44,46.37,43.51,44.38,46.77,45.74,43.25,43.44,45.97,45.39,44.09,43.34,41.2,40.67,37.57],\"xaxis\":\"x\",\"y\":[6.02,5.85,5.62,5.58,5.26,6.78,5.83,5.79,6.79,3.78,7.02,18.32,18.43,4.94,7.25,7.38,7.91,7.27,7.79,7.83,6.61,7.24,7.27,7.55,6.67,15.63,15.22,9.86],\"yaxis\":\"y\",\"type\":\"scatter\"},{\"customdata\":[[\"Urban\"],[\"Urban\"],[\"Urban\"],[\"Urban\"],[\"Urban\"],[\"Urban\"],[\"Urban\"],[\"Urban\"],[\"Urban\"],[\"Urban\"],[\"Urban\"],[\"Urban\"]],\"hovertemplate\":\"Region=Chandigarh\\u003cbr\\u003eLabour_Participation_Rate=%{x}\\u003cbr\\u003eUnemployment_Rate=%{y}\\u003cbr\\u003eEmployed_Rate=%{marker.size}\\u003cbr\\u003eArea=%{customdata[0]}\\u003cextra\\u003e\\u003c\\u002fextra\\u003e\",\"legendgroup\":\"Chandigarh\",\"marker\":{\"color\":\"#B6E880\",\"size\":[348042.0,337145.0,294379.0,328282.0,327239.0,330856.0,289593.0,311146.0,332062.0,316887.0,279839.0,306505.0],\"sizemode\":\"area\",\"sizeref\":114443.7725,\"symbol\":\"circle\"},\"mode\":\"markers\",\"name\":\"Chandigarh\",\"orientation\":\"v\",\"showlegend\":true,\"x\":[44.89,40.44,39.47,37.95,42.77,40.06,38.6,35.19,42.94,39.25,36.68,33.8],\"xaxis\":\"x\",\"y\":[18.35,12.4,21.8,9.52,20.14,13.99,22.05,8.33,20.0,16.67,21.43,7.22],\"yaxis\":\"y\",\"type\":\"scatter\"}],                        {\"template\":{\"data\":{\"histogram2dcontour\":[{\"type\":\"histogram2dcontour\",\"colorbar\":{\"outlinewidth\":0,\"ticks\":\"\"},\"colorscale\":[[0.0,\"#0d0887\"],[0.1111111111111111,\"#46039f\"],[0.2222222222222222,\"#7201a8\"],[0.3333333333333333,\"#9c179e\"],[0.4444444444444444,\"#bd3786\"],[0.5555555555555556,\"#d8576b\"],[0.6666666666666666,\"#ed7953\"],[0.7777777777777778,\"#fb9f3a\"],[0.8888888888888888,\"#fdca26\"],[1.0,\"#f0f921\"]]}],\"choropleth\":[{\"type\":\"choropleth\",\"colorbar\":{\"outlinewidth\":0,\"ticks\":\"\"}}],\"histogram2d\":[{\"type\":\"histogram2d\",\"colorbar\":{\"outlinewidth\":0,\"ticks\":\"\"},\"colorscale\":[[0.0,\"#0d0887\"],[0.1111111111111111,\"#46039f\"],[0.2222222222222222,\"#7201a8\"],[0.3333333333333333,\"#9c179e\"],[0.4444444444444444,\"#bd3786\"],[0.5555555555555556,\"#d8576b\"],[0.6666666666666666,\"#ed7953\"],[0.7777777777777778,\"#fb9f3a\"],[0.8888888888888888,\"#fdca26\"],[1.0,\"#f0f921\"]]}],\"heatmap\":[{\"type\":\"heatmap\",\"colorbar\":{\"outlinewidth\":0,\"ticks\":\"\"},\"colorscale\":[[0.0,\"#0d0887\"],[0.1111111111111111,\"#46039f\"],[0.2222222222222222,\"#7201a8\"],[0.3333333333333333,\"#9c179e\"],[0.4444444444444444,\"#bd3786\"],[0.5555555555555556,\"#d8576b\"],[0.6666666666666666,\"#ed7953\"],[0.7777777777777778,\"#fb9f3a\"],[0.8888888888888888,\"#fdca26\"],[1.0,\"#f0f921\"]]}],\"heatmapgl\":[{\"type\":\"heatmapgl\",\"colorbar\":{\"outlinewidth\":0,\"ticks\":\"\"},\"colorscale\":[[0.0,\"#0d0887\"],[0.1111111111111111,\"#46039f\"],[0.2222222222222222,\"#7201a8\"],[0.3333333333333333,\"#9c179e\"],[0.4444444444444444,\"#bd3786\"],[0.5555555555555556,\"#d8576b\"],[0.6666666666666666,\"#ed7953\"],[0.7777777777777778,\"#fb9f3a\"],[0.8888888888888888,\"#fdca26\"],[1.0,\"#f0f921\"]]}],\"contourcarpet\":[{\"type\":\"contourcarpet\",\"colorbar\":{\"outlinewidth\":0,\"ticks\":\"\"}}],\"contour\":[{\"type\":\"contour\",\"colorbar\":{\"outlinewidth\":0,\"ticks\":\"\"},\"colorscale\":[[0.0,\"#0d0887\"],[0.1111111111111111,\"#46039f\"],[0.2222222222222222,\"#7201a8\"],[0.3333333333333333,\"#9c179e\"],[0.4444444444444444,\"#bd3786\"],[0.5555555555555556,\"#d8576b\"],[0.6666666666666666,\"#ed7953\"],[0.7777777777777778,\"#fb9f3a\"],[0.8888888888888888,\"#fdca26\"],[1.0,\"#f0f921\"]]}],\"surface\":[{\"type\":\"surface\",\"colorbar\":{\"outlinewidth\":0,\"ticks\":\"\"},\"colorscale\":[[0.0,\"#0d0887\"],[0.1111111111111111,\"#46039f\"],[0.2222222222222222,\"#7201a8\"],[0.3333333333333333,\"#9c179e\"],[0.4444444444444444,\"#bd3786\"],[0.5555555555555556,\"#d8576b\"],[0.6666666666666666,\"#ed7953\"],[0.7777777777777778,\"#fb9f3a\"],[0.8888888888888888,\"#fdca26\"],[1.0,\"#f0f921\"]]}],\"mesh3d\":[{\"type\":\"mesh3d\",\"colorbar\":{\"outlinewidth\":0,\"ticks\":\"\"}}],\"scatter\":[{\"fillpattern\":{\"fillmode\":\"overlay\",\"size\":10,\"solidity\":0.2},\"type\":\"scatter\"}],\"parcoords\":[{\"type\":\"parcoords\",\"line\":{\"colorbar\":{\"outlinewidth\":0,\"ticks\":\"\"}}}],\"scatterpolargl\":[{\"type\":\"scatterpolargl\",\"marker\":{\"colorbar\":{\"outlinewidth\":0,\"ticks\":\"\"}}}],\"bar\":[{\"error_x\":{\"color\":\"#2a3f5f\"},\"error_y\":{\"color\":\"#2a3f5f\"},\"marker\":{\"line\":{\"color\":\"#E5ECF6\",\"width\":0.5},\"pattern\":{\"fillmode\":\"overlay\",\"size\":10,\"solidity\":0.2}},\"type\":\"bar\"}],\"scattergeo\":[{\"type\":\"scattergeo\",\"marker\":{\"colorbar\":{\"outlinewidth\":0,\"ticks\":\"\"}}}],\"scatterpolar\":[{\"type\":\"scatterpolar\",\"marker\":{\"colorbar\":{\"outlinewidth\":0,\"ticks\":\"\"}}}],\"histogram\":[{\"marker\":{\"pattern\":{\"fillmode\":\"overlay\",\"size\":10,\"solidity\":0.2}},\"type\":\"histogram\"}],\"scattergl\":[{\"type\":\"scattergl\",\"marker\":{\"colorbar\":{\"outlinewidth\":0,\"ticks\":\"\"}}}],\"scatter3d\":[{\"type\":\"scatter3d\",\"line\":{\"colorbar\":{\"outlinewidth\":0,\"ticks\":\"\"}},\"marker\":{\"colorbar\":{\"outlinewidth\":0,\"ticks\":\"\"}}}],\"scattermapbox\":[{\"type\":\"scattermapbox\",\"marker\":{\"colorbar\":{\"outlinewidth\":0,\"ticks\":\"\"}}}],\"scatterternary\":[{\"type\":\"scatterternary\",\"marker\":{\"colorbar\":{\"outlinewidth\":0,\"ticks\":\"\"}}}],\"scattercarpet\":[{\"type\":\"scattercarpet\",\"marker\":{\"colorbar\":{\"outlinewidth\":0,\"ticks\":\"\"}}}],\"carpet\":[{\"aaxis\":{\"endlinecolor\":\"#2a3f5f\",\"gridcolor\":\"white\",\"linecolor\":\"white\",\"minorgridcolor\":\"white\",\"startlinecolor\":\"#2a3f5f\"},\"baxis\":{\"endlinecolor\":\"#2a3f5f\",\"gridcolor\":\"white\",\"linecolor\":\"white\",\"minorgridcolor\":\"white\",\"startlinecolor\":\"#2a3f5f\"},\"type\":\"carpet\"}],\"table\":[{\"cells\":{\"fill\":{\"color\":\"#EBF0F8\"},\"line\":{\"color\":\"white\"}},\"header\":{\"fill\":{\"color\":\"#C8D4E3\"},\"line\":{\"color\":\"white\"}},\"type\":\"table\"}],\"barpolar\":[{\"marker\":{\"line\":{\"color\":\"#E5ECF6\",\"width\":0.5},\"pattern\":{\"fillmode\":\"overlay\",\"size\":10,\"solidity\":0.2}},\"type\":\"barpolar\"}],\"pie\":[{\"automargin\":true,\"type\":\"pie\"}]},\"layout\":{\"autotypenumbers\":\"strict\",\"colorway\":[\"#636efa\",\"#EF553B\",\"#00cc96\",\"#ab63fa\",\"#FFA15A\",\"#19d3f3\",\"#FF6692\",\"#B6E880\",\"#FF97FF\",\"#FECB52\"],\"font\":{\"color\":\"#2a3f5f\"},\"hovermode\":\"closest\",\"hoverlabel\":{\"align\":\"left\"},\"paper_bgcolor\":\"white\",\"plot_bgcolor\":\"#E5ECF6\",\"polar\":{\"bgcolor\":\"#E5ECF6\",\"angularaxis\":{\"gridcolor\":\"white\",\"linecolor\":\"white\",\"ticks\":\"\"},\"radialaxis\":{\"gridcolor\":\"white\",\"linecolor\":\"white\",\"ticks\":\"\"}},\"ternary\":{\"bgcolor\":\"#E5ECF6\",\"aaxis\":{\"gridcolor\":\"white\",\"linecolor\":\"white\",\"ticks\":\"\"},\"baxis\":{\"gridcolor\":\"white\",\"linecolor\":\"white\",\"ticks\":\"\"},\"caxis\":{\"gridcolor\":\"white\",\"linecolor\":\"white\",\"ticks\":\"\"}},\"coloraxis\":{\"colorbar\":{\"outlinewidth\":0,\"ticks\":\"\"}},\"colorscale\":{\"sequential\":[[0.0,\"#0d0887\"],[0.1111111111111111,\"#46039f\"],[0.2222222222222222,\"#7201a8\"],[0.3333333333333333,\"#9c179e\"],[0.4444444444444444,\"#bd3786\"],[0.5555555555555556,\"#d8576b\"],[0.6666666666666666,\"#ed7953\"],[0.7777777777777778,\"#fb9f3a\"],[0.8888888888888888,\"#fdca26\"],[1.0,\"#f0f921\"]],\"sequentialminus\":[[0.0,\"#0d0887\"],[0.1111111111111111,\"#46039f\"],[0.2222222222222222,\"#7201a8\"],[0.3333333333333333,\"#9c179e\"],[0.4444444444444444,\"#bd3786\"],[0.5555555555555556,\"#d8576b\"],[0.6666666666666666,\"#ed7953\"],[0.7777777777777778,\"#fb9f3a\"],[0.8888888888888888,\"#fdca26\"],[1.0,\"#f0f921\"]],\"diverging\":[[0,\"#8e0152\"],[0.1,\"#c51b7d\"],[0.2,\"#de77ae\"],[0.3,\"#f1b6da\"],[0.4,\"#fde0ef\"],[0.5,\"#f7f7f7\"],[0.6,\"#e6f5d0\"],[0.7,\"#b8e186\"],[0.8,\"#7fbc41\"],[0.9,\"#4d9221\"],[1,\"#276419\"]]},\"xaxis\":{\"gridcolor\":\"white\",\"linecolor\":\"white\",\"ticks\":\"\",\"title\":{\"standoff\":15},\"zerolinecolor\":\"white\",\"automargin\":true,\"zerolinewidth\":2},\"yaxis\":{\"gridcolor\":\"white\",\"linecolor\":\"white\",\"ticks\":\"\",\"title\":{\"standoff\":15},\"zerolinecolor\":\"white\",\"automargin\":true,\"zerolinewidth\":2},\"scene\":{\"xaxis\":{\"backgroundcolor\":\"#E5ECF6\",\"gridcolor\":\"white\",\"linecolor\":\"white\",\"showbackground\":true,\"ticks\":\"\",\"zerolinecolor\":\"white\",\"gridwidth\":2},\"yaxis\":{\"backgroundcolor\":\"#E5ECF6\",\"gridcolor\":\"white\",\"linecolor\":\"white\",\"showbackground\":true,\"ticks\":\"\",\"zerolinecolor\":\"white\",\"gridwidth\":2},\"zaxis\":{\"backgroundcolor\":\"#E5ECF6\",\"gridcolor\":\"white\",\"linecolor\":\"white\",\"showbackground\":true,\"ticks\":\"\",\"zerolinecolor\":\"white\",\"gridwidth\":2}},\"shapedefaults\":{\"line\":{\"color\":\"#2a3f5f\"}},\"annotationdefaults\":{\"arrowcolor\":\"#2a3f5f\",\"arrowhead\":0,\"arrowwidth\":1},\"geo\":{\"bgcolor\":\"white\",\"landcolor\":\"#E5ECF6\",\"subunitcolor\":\"white\",\"showland\":true,\"showlakes\":true,\"lakecolor\":\"white\"},\"title\":{\"x\":0.05},\"mapbox\":{\"style\":\"light\"}}},\"xaxis\":{\"anchor\":\"y\",\"domain\":[0.0,1.0],\"title\":{\"text\":\"Labour_Participation_Rate\"}},\"yaxis\":{\"anchor\":\"x\",\"domain\":[0.0,1.0],\"title\":{\"text\":\"Unemployment_Rate\"}},\"legend\":{\"title\":{\"text\":\"Region\"},\"tracegroupgap\":0,\"itemsizing\":\"constant\"},\"title\":{\"text\":\"Relationship between Estimated Labor Participation Rate and Estimated Unemployment Rate\"}},                        {\"responsive\": true}                    ).then(function(){\n",
       "                            \n",
       "var gd = document.getElementById('c1546837-35b7-4749-bf77-b5126da36ced');\n",
       "var x = new MutationObserver(function (mutations, observer) {{\n",
       "        var display = window.getComputedStyle(gd).display;\n",
       "        if (!display || display === 'none') {{\n",
       "            console.log([gd, 'removed!']);\n",
       "            Plotly.purge(gd);\n",
       "            observer.disconnect();\n",
       "        }}\n",
       "}});\n",
       "\n",
       "// Listen for the removal of the full notebook cells\n",
       "var notebookContainer = gd.closest('#notebook-container');\n",
       "if (notebookContainer) {{\n",
       "    x.observe(notebookContainer, {childList: true});\n",
       "}}\n",
       "\n",
       "// Listen for the clearing of the current output cell\n",
       "var outputEl = gd.closest('.output');\n",
       "if (outputEl) {{\n",
       "    x.observe(outputEl, {childList: true});\n",
       "}}\n",
       "\n",
       "                        })                };                });            </script>        </div>"
      ]
     },
     "metadata": {},
     "output_type": "display_data"
    }
   ],
   "source": [
    "fig = px.scatter(data_df1, x='Labour_Participation_Rate',\n",
    "                 y='Unemployment_Rate', \n",
    "                 color='Region', \n",
    "                 size='Employed_Rate', \n",
    "                 hover_data=['Area'],\n",
    "                 title='Relationship between Estimated Labor Participation Rate and Estimated Unemployment Rate')\n",
    "fig.show()"
   ]
  },
  {
   "cell_type": "code",
   "execution_count": 75,
   "id": "02059062-59ae-4e97-98b2-e0a95ed324be",
   "metadata": {},
   "outputs": [
    {
     "data": {
      "text/plain": [
       "Labour_Participation_Rate\n",
       "40.43    3\n",
       "42.82    3\n",
       "39.92    3\n",
       "43.25    3\n",
       "39.04    3\n",
       "        ..\n",
       "44.08    1\n",
       "46.50    1\n",
       "45.79    1\n",
       "44.79    1\n",
       "40.67    1\n",
       "Name: count, Length: 626, dtype: int64"
      ]
     },
     "execution_count": 75,
     "metadata": {},
     "output_type": "execute_result"
    }
   ],
   "source": [
    "data_df1['Labour_Participation_Rate'].value_counts()"
   ]
  },
  {
   "cell_type": "code",
   "execution_count": 77,
   "id": "81aa7de1-f252-4bc4-ac5b-54c4455d367e",
   "metadata": {},
   "outputs": [
    {
     "data": {
      "image/png": "[encoded data removed]",
      "text/plain": [
       "<Figure size 800x300 with 1 Axes>"
      ]
     },
     "metadata": {},
     "output_type": "display_data"
    }
   ],
   "source": [
    "plt.figure(figsize=(8,3))\n",
    "sns.lineplot(x='Region', y='Labour_Participation_Rate', data=data_df1,) #hue='year')\n",
    "plt.title(\"Region vs Labour_Participation_Rate\")\n",
    "plt.xticks(rotation=90)\n",
    "plt.show()"
   ]
  },
  {
   "cell_type": "markdown",
   "id": "72dd2a36-68f0-40c5-9e73-8441531f173d",
   "metadata": {},
   "source": [
    "#### INSIGHTS\n",
    "- Labour_Participation_Rate increases in MEGHALAYA and TRIPURA"
   ]
  },
  {
   "cell_type": "code",
   "execution_count": 79,
   "id": "05a00943-a434-4562-8643-2aea1878bcc6",
   "metadata": {},
   "outputs": [
    {
     "data": {
      "text/html": [
       "<div>\n",
       "<style scoped>\n",
       "    .dataframe tbody tr th:only-of-type {\n",
       "        vertical-align: middle;\n",
       "    }\n",
       "\n",
       "    .dataframe tbody tr th {\n",
       "        vertical-align: top;\n",
       "    }\n",
       "\n",
       "    .dataframe thead th {\n",
       "        text-align: right;\n",
       "    }\n",
       "</style>\n",
       "<table border=\"1\" class=\"dataframe\">\n",
       "  <thead>\n",
       "    <tr style=\"text-align: right;\">\n",
       "      <th></th>\n",
       "      <th>Region</th>\n",
       "      <th>Date</th>\n",
       "      <th>Frequency</th>\n",
       "      <th>Estimated Unemployment Rate (%)</th>\n",
       "      <th>Estimated Employed</th>\n",
       "      <th>Estimated Labour Participation Rate (%)</th>\n",
       "      <th>Region.1</th>\n",
       "      <th>longitude</th>\n",
       "      <th>latitude</th>\n",
       "    </tr>\n",
       "  </thead>\n",
       "  <tbody>\n",
       "    <tr>\n",
       "      <th>0</th>\n",
       "      <td>Andhra Pradesh</td>\n",
       "      <td>31-01-2020</td>\n",
       "      <td>M</td>\n",
       "      <td>5.48</td>\n",
       "      <td>16635535</td>\n",
       "      <td>41.02</td>\n",
       "      <td>South</td>\n",
       "      <td>15.9129</td>\n",
       "      <td>79.74</td>\n",
       "    </tr>\n",
       "    <tr>\n",
       "      <th>1</th>\n",
       "      <td>Andhra Pradesh</td>\n",
       "      <td>29-02-2020</td>\n",
       "      <td>M</td>\n",
       "      <td>5.83</td>\n",
       "      <td>16545652</td>\n",
       "      <td>40.90</td>\n",
       "      <td>South</td>\n",
       "      <td>15.9129</td>\n",
       "      <td>79.74</td>\n",
       "    </tr>\n",
       "    <tr>\n",
       "      <th>2</th>\n",
       "      <td>Andhra Pradesh</td>\n",
       "      <td>31-03-2020</td>\n",
       "      <td>M</td>\n",
       "      <td>5.79</td>\n",
       "      <td>15881197</td>\n",
       "      <td>39.18</td>\n",
       "      <td>South</td>\n",
       "      <td>15.9129</td>\n",
       "      <td>79.74</td>\n",
       "    </tr>\n",
       "  </tbody>\n",
       "</table>\n",
       "</div>"
      ],
      "text/plain": [
       "           Region         Date  Frequency   Estimated Unemployment Rate (%)  \\\n",
       "0  Andhra Pradesh   31-01-2020          M                              5.48   \n",
       "1  Andhra Pradesh   29-02-2020          M                              5.83   \n",
       "2  Andhra Pradesh   31-03-2020          M                              5.79   \n",
       "\n",
       "    Estimated Employed   Estimated Labour Participation Rate (%) Region.1  \\\n",
       "0             16635535                                     41.02    South   \n",
       "1             16545652                                     40.90    South   \n",
       "2             15881197                                     39.18    South   \n",
       "\n",
       "   longitude  latitude  \n",
       "0    15.9129     79.74  \n",
       "1    15.9129     79.74  \n",
       "2    15.9129     79.74  "
      ]
     },
     "execution_count": 79,
     "metadata": {},
     "output_type": "execute_result"
    }
   ],
   "source": [
    "data_df2.head(3)"
   ]
  },
  {
   "cell_type": "code",
   "execution_count": 81,
   "id": "28d5014f-4776-41b8-a802-69523401b48e",
   "metadata": {},
   "outputs": [
    {
     "data": {
      "text/plain": [
       "Index(['Region', ' Date', ' Frequency', ' Estimated Unemployment Rate (%)',\n",
       "       ' Estimated Employed', ' Estimated Labour Participation Rate (%)',\n",
       "       'Region.1', 'longitude', 'latitude'],\n",
       "      dtype='object')"
      ]
     },
     "execution_count": 81,
     "metadata": {},
     "output_type": "execute_result"
    }
   ],
   "source": [
    "data_df2.columns"
   ]
  },
  {
   "cell_type": "markdown",
   "id": "f1f3be55-73cb-405b-bfd3-492445b779ec",
   "metadata": {},
   "source": [
    "### Renaming those columns"
   ]
  },
  {
   "cell_type": "code",
   "execution_count": 83,
   "id": "89166eed-8841-42c3-92c0-9e141cf42501",
   "metadata": {},
   "outputs": [],
   "source": [
    "data_df2.columns = ['Region', 'Date', 'Frequency','Unemployment_Rate','Employed_Rate',\n",
    "                    'Labour_Participation_Rate','Region1','Longitude','Latitude']"
   ]
  },
  {
   "cell_type": "code",
   "execution_count": 85,
   "id": "57ba337a-d6bc-49e1-a8ba-a36c7bea8f8d",
   "metadata": {},
   "outputs": [
    {
     "data": {
      "text/plain": [
       "Index(['Region', 'Date', 'Frequency', 'Unemployment_Rate', 'Employed_Rate',\n",
       "       'Labour_Participation_Rate', 'Region1', 'Longitude', 'Latitude'],\n",
       "      dtype='object')"
      ]
     },
     "execution_count": 85,
     "metadata": {},
     "output_type": "execute_result"
    }
   ],
   "source": [
    "data_df2.columns"
   ]
  },
  {
   "cell_type": "code",
   "execution_count": 87,
   "id": "2715f98c-6e6f-463c-8a51-a3e5109c9435",
   "metadata": {},
   "outputs": [
    {
     "name": "stdout",
     "output_type": "stream",
     "text": [
      "<class 'pandas.core.frame.DataFrame'>\n",
      "RangeIndex: 267 entries, 0 to 266\n",
      "Data columns (total 9 columns):\n",
      " #   Column                     Non-Null Count  Dtype  \n",
      "---  ------                     --------------  -----  \n",
      " 0   Region                     267 non-null    object \n",
      " 1   Date                       267 non-null    object \n",
      " 2   Frequency                  267 non-null    object \n",
      " 3   Unemployment_Rate          267 non-null    float64\n",
      " 4   Employed_Rate              267 non-null    int64  \n",
      " 5   Labour_Participation_Rate  267 non-null    float64\n",
      " 6   Region1                    267 non-null    object \n",
      " 7   Longitude                  267 non-null    float64\n",
      " 8   Latitude                   267 non-null    float64\n",
      "dtypes: float64(4), int64(1), object(4)\n",
      "memory usage: 18.9+ KB\n"
     ]
    }
   ],
   "source": [
    "data_df2.info()"
   ]
  },
  {
   "cell_type": "code",
   "execution_count": 89,
   "id": "e0f3e9df-0a88-4c45-941c-49636db03c08",
   "metadata": {},
   "outputs": [
    {
     "data": {
      "text/plain": [
       "Region                       0\n",
       "Date                         0\n",
       "Frequency                    0\n",
       "Unemployment_Rate            0\n",
       "Employed_Rate                0\n",
       "Labour_Participation_Rate    0\n",
       "Region1                      0\n",
       "Longitude                    0\n",
       "Latitude                     0\n",
       "dtype: int64"
      ]
     },
     "execution_count": 89,
     "metadata": {},
     "output_type": "execute_result"
    }
   ],
   "source": [
    "data_df2.isnull().sum()"
   ]
  },
  {
   "cell_type": "markdown",
   "id": "47248dce-8399-49f7-8519-01cd109f214d",
   "metadata": {},
   "source": [
    "### NO NULL VALUES.  "
   ]
  },
  {
   "cell_type": "code",
   "execution_count": 91,
   "id": "fa07ba0c-c2dd-413b-9619-bcb2b79184e2",
   "metadata": {},
   "outputs": [],
   "source": [
    "data_df2['Date'] = pd.to_datetime(data_df2['Date'],format='mixed',dayfirst=False)"
   ]
  },
  {
   "cell_type": "code",
   "execution_count": 93,
   "id": "cec8c8bf-4e2a-4aff-b333-179f6bbba775",
   "metadata": {},
   "outputs": [],
   "source": [
    "data_df2['year_2'] = data_df2['Date'].dt.year"
   ]
  },
  {
   "cell_type": "code",
   "execution_count": 95,
   "id": "335bfce1-b761-4503-ba11-32fbdc6e330a",
   "metadata": {},
   "outputs": [
    {
     "data": {
      "image/png": "[encoded data removed]",
      "text/plain": [
       "<Figure size 600x300 with 1 Axes>"
      ]
     },
     "metadata": {},
     "output_type": "display_data"
    }
   ],
   "source": [
    "plt.figure(figsize=(6,3))\n",
    "sns.barplot(x='Region1', y='Unemployment_Rate', data=data_df2,hue ='year_2')\n",
    "plt.title(\"Area vs Unemployment rate\")\n",
    "plt.show()"
   ]
  },
  {
   "cell_type": "code",
   "execution_count": null,
   "id": "dc88c8d7-f8b3-447d-89b0-65153ad88f96",
   "metadata": {},
   "outputs": [],
   "source": []
  }
 ],
 "metadata": {
  "kernelspec": {
   "display_name": "Python 3 (ipykernel)",
   "language": "python",
   "name": "python3"
  },
  "language_info": {
   "codemirror_mode": {
    "name": "ipython",
    "version": 3
   },
   "file_extension": ".py",
   "mimetype": "text/x-python",
   "name": "python",
   "nbconvert_exporter": "python",
   "pygments_lexer": "ipython3",
   "version": "3.12.4"
  }
 },
 "nbformat": 4,
 "nbformat_minor": 5
}
